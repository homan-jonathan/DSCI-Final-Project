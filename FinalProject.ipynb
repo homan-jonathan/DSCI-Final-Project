{
 "cells": [
  {
   "cell_type": "code",
   "execution_count": 4,
   "metadata": {},
   "outputs": [],
   "source": [
    "# Setups\n",
    "import pandas as pd\n",
    "import plotly.express as px\n",
    "\n",
    "data_location = \"datasets/\"\n",
    "\n",
    "baseball_players = pd.read_csv(data_location + \"baseball_players.csv\")\n",
    "hitting_stats = pd.read_csv(data_location + \"exit_velocity.csv\")\n",
    "\n",
    "#print(hitting_stats)"
   ]
  },
  {
   "attachments": {},
   "cell_type": "markdown",
   "metadata": {},
   "source": [
    "hello awpirugbwaiuwav ape9uechbaepuvhbseviusbev"
   ]
  },
  {
   "attachments": {},
   "cell_type": "markdown",
   "metadata": {},
   "source": [
    "no u"
   ]
  }
 ],
 "metadata": {
  "kernelspec": {
   "display_name": "Python 3",
   "language": "python",
   "name": "python3"
  },
  "language_info": {
   "codemirror_mode": {
    "name": "ipython",
    "version": 3
   },
   "file_extension": ".py",
   "mimetype": "text/x-python",
   "name": "python",
   "nbconvert_exporter": "python",
   "pygments_lexer": "ipython3",
   "version": "3.11.2"
  },
  "orig_nbformat": 4
 },
 "nbformat": 4,
 "nbformat_minor": 2
}
