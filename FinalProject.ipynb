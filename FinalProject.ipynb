{
 "cells": [
  {
   "attachments": {},
   "cell_type": "markdown",
   "metadata": {},
   "source": [
    "DSCI Final Project - Baseball Statistics\n",
    "\n",
    "MLB Stats API: <br>\n",
    "https://pypi.org/project/MLB-StatsAPI/ <br>\n",
    "Wiki/Documentation: https://github.com/toddrob99/MLB-StatsAPI/wiki <br>\n",
    "Usage: run 'pip install MLB-StatsAPI' <br><br>\n",
    "Datasets:<br>\n",
    "SFBB-Player-ID-Map.csv: from https://www.smartfantasybaseball.com/tools/ <br>\n",
    "expected_stats.csv: from https://baseballsavant.mlb.com/leaderboard/expected_statistics?type=batter&year=2015&position=&team=&min=q <br>\n",
    "Batting.csv: from https://www.kaggle.com/datasets/open-source-sports/baseball-databank?select=Batting.csv\n"
   ]
  },
  {
   "cell_type": "code",
   "execution_count": 147,
   "metadata": {},
   "outputs": [],
   "source": [
    "# Setups\n",
    "import pandas as pd\n",
    "import plotly.express as px\n",
    "import statsapi\n",
    "#import logging"
   ]
  },
  {
   "cell_type": "code",
   "execution_count": 148,
   "metadata": {},
   "outputs": [],
   "source": [
    "data_location = \"datasets/\"\n",
    "\n",
    "exp_stats = pd.read_csv(data_location + \"expected_stats.csv\")\n",
    "batting_names = pd.read_csv(data_location + 'SFBB-Player-ID-Map.csv')\n",
    "batting = pd.read_csv(data_location + 'Batting.csv')"
   ]
  },
  {
   "cell_type": "code",
   "execution_count": 149,
   "metadata": {},
   "outputs": [],
   "source": [
    "#renames columns of exp_stats and makes it easier to view\n",
    "exp_stats = exp_stats.rename(columns={'last_name':'Name',\n",
    "                                      ' first_name':'to_drop',\n",
    "                                      'player_id':'ID',\n",
    "                                      'year':'Year',\n",
    "                                      'pa':'Plate Appearances',\n",
    "                                      'bip':'Balls In Play',\n",
    "                                      'ba':'BA',\n",
    "                                      'est_ba':'xBA',\n",
    "                                      'est_ba_minus_ba_diff':'xBA - BA Diff',\n",
    "                                      'slg':'Slg',\n",
    "                                      'est_slg':'xSlg',\n",
    "                                      'est_slg_minus_slg_diff':'xSlg - Slg Diff',\n",
    "                                      'woba':'WOBA',\n",
    "                                      'est_woba':'xWOBA',\n",
    "                                      'est_woba_minus_woba_diff':'xWOBA - WOBA Diff'})\n",
    "exp_stats['Name'] = exp_stats['to_drop'] + ' ' + exp_stats['Name']\n",
    "exp_stats = exp_stats.drop(columns =['to_drop','Year'])\n",
    "#exp_stats = exp_stats.set_index('Name')"
   ]
  },
  {
   "cell_type": "code",
   "execution_count": 150,
   "metadata": {},
   "outputs": [],
   "source": [
    "#renames columns of batting and makes it easier to view\n",
    "batting = batting[batting.yearID == 2015]\n",
    "batting = batting.drop(columns=['yearID', 'stint', 'lgID'])\n",
    "batting = batting.rename(columns = {'playerID':'Player ID',\n",
    "                                    'teamID':'Team',\n",
    "                                    'G':'Games'})\n",
    "#batting = batting.set_index('Player ID')"
   ]
  },
  {
   "cell_type": "code",
   "execution_count": 151,
   "metadata": {},
   "outputs": [],
   "source": [
    "batting_final = pd.merge(batting_names[['IDPLAYER','PLAYERNAME', 'BATS']], batting,  right_on='Player ID', left_on='IDPLAYER')\n",
    "batting_final = batting_final.rename(columns = {'PLAYERNAME':'Name'})\n",
    "batting_final = batting_final.set_index('Name')"
   ]
  },
  {
   "cell_type": "code",
   "execution_count": 152,
   "metadata": {},
   "outputs": [],
   "source": [
    "#display(batting_final)\n",
    "#display(exp_stats)"
   ]
  },
  {
   "cell_type": "code",
   "execution_count": 153,
   "metadata": {},
   "outputs": [
    {
     "name": "stdout",
     "output_type": "stream",
     "text": [
      "0               Marcus Semien\n",
      "1             Freddie Freeman\n",
      "2                 Trea Turner\n",
      "3       Vladimir Guerrero Jr.\n",
      "4            Francisco Lindor\n",
      "                ...          \n",
      "247        Gilberto Celestino\n",
      "248             Lars Nootbaar\n",
      "249             Wander Franco\n",
      "250             Jesús Sánchez\n",
      "251             Leody Taveras\n",
      "Name: Name, Length: 252, dtype: object\n"
     ]
    }
   ],
   "source": [
    "#print( statsapi.standings(leagueId=103,date='05/01/2023') )\n",
    "#print( statsapi.player_stats(next(x['id'] for x in statsapi.get('sports_players',{'season':2018,'gameType':'W'})['people'] if x['fullName']=='Juan Soto'), 'hitting', 'season') )\n",
    "print(exp_stats['Name'])\n",
    "players = ['Trea Turner', 'Juan Soto']\n",
    "with open('test_current_players.txt', 'w') as f:\n",
    "    for player in players:\n",
    "        f.write(statsapi.player_stats(next(x['id'] for x in statsapi.get('sports_players',{'season':2018,'gameType':'W'})['people'] if x['fullName']==player), 'hitting', 'season'))"
   ]
  }
 ],
 "metadata": {
  "kernelspec": {
   "display_name": "Python 3",
   "language": "python",
   "name": "python3"
  },
  "language_info": {
   "codemirror_mode": {
    "name": "ipython",
    "version": 3
   },
   "file_extension": ".py",
   "mimetype": "text/x-python",
   "name": "python",
   "nbconvert_exporter": "python",
   "pygments_lexer": "ipython3",
   "version": "3.11.2"
  },
  "orig_nbformat": 4
 },
 "nbformat": 4,
 "nbformat_minor": 2
}
