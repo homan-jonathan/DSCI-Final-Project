{
 "cells": [
  {
   "cell_type": "code",
   "execution_count": 5,
   "metadata": {},
   "outputs": [],
   "source": [
    "# Python Section\n",
    "# Setups\n",
    "import pandas as pd\n",
    "import plotly.express as px\n",
    "\n",
    "\n",
    "data_location = \"datasets/\"\n",
    "\n",
    "\n",
    "baseball_players = pd.read_csv(data_location + \"baseball_players.csv\")\n",
    "hitting_stats = pd.read_csv(data_location + \"exit_velocity.csv\")\n",
    "\n",
    "\n",
    "#print(hitting_stats)\n",
    "exp_stats = pd.read_csv(data_location + \"expected_stats.csv\")\n",
    "exp_stats = exp_stats.rename(columns={'last_name':'Name',\n",
    "                                      ' first_name':'to_drop',\n",
    "                                      'player_id':'ID',\n",
    "                                      'year':'Year',\n",
    "                                      'pa':'Plate Appearances',\n",
    "                                      'bip':'Balls In Play',\n",
    "                                      'ba':'Batting Average',\n",
    "                                      'est_ba':'Estimated Batting Average',\n",
    "                                      'est_ba_minus_ba_diff':'xBA - BA Difference',\n",
    "                                      'slg':'Slugging',\n",
    "                                      'est_slg':'Estimated Slugging',\n",
    "                                      'est_slg_minus_slg_diff':'Estimated Slugging Minus Slugging Difference',\n",
    "                                      'woba':'Weighted On Base Average',\n",
    "                                      'est_woba':'Estimated Weighted On Base Average',\n",
    "                                      'est_woba_minus_woba_diff':'Estimated Weighted On Base Average Minus Weighted On Base Average Difference'})\n",
    "\n"
   ]
  },
  {
   "attachments": {},
   "cell_type": "markdown",
   "metadata": {},
   "source": [
    "hello awpirugbwaiuwav ape9uechbaepuvhbseviusbev"
   ]
  },
  {
   "attachments": {},
   "cell_type": "markdown",
   "metadata": {},
   "source": [
    "no u"
   ]
  }
 ],
 "metadata": {
  "kernelspec": {
   "display_name": "Python 3",
   "language": "python",
   "name": "python3"
  },
  "language_info": {
   "codemirror_mode": {
    "name": "ipython",
    "version": 3
   },
   "file_extension": ".py",
   "mimetype": "text/x-python",
   "name": "python",
   "nbconvert_exporter": "python",
   "pygments_lexer": "ipython3",
   "version": "3.11.2"
  },
  "orig_nbformat": 4
 },
 "nbformat": 4,
 "nbformat_minor": 2
}
