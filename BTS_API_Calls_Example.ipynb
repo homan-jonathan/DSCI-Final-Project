{
 "cells": [
  {
   "cell_type": "code",
   "execution_count": 1,
   "metadata": {},
   "outputs": [],
   "source": [
    "#Demo For In-Class Presentation\n",
    "import statsapi as api\n",
    "playerIDs = [518692, 607208, 665489, 677551]\n",
    "\n",
    "with open('test_current_players.txt', 'w') as f:\n",
    "    for playerID in playerIDs:\n",
    "        f.write(api.player_stats(playerID, group='hitting', type='season'))"
   ]
  }
 ],
 "metadata": {
  "kernelspec": {
   "display_name": "Python 3",
   "language": "python",
   "name": "python3"
  },
  "language_info": {
   "codemirror_mode": {
    "name": "ipython",
    "version": 3
   },
   "file_extension": ".py",
   "mimetype": "text/x-python",
   "name": "python",
   "nbconvert_exporter": "python",
   "pygments_lexer": "ipython3",
   "version": "3.11.2"
  },
  "orig_nbformat": 4
 },
 "nbformat": 4,
 "nbformat_minor": 2
}
