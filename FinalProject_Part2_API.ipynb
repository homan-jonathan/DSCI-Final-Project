{
 "cells": [
  {
   "attachments": {},
   "cell_type": "markdown",
   "metadata": {},
   "source": [
    "DSCI Final Project - Baseball Statistics\n",
    "\n",
    "MLB Stats API: <br>\n",
    "https://pypi.org/project/MLB-StatsAPI/ <br>\n",
    "Wiki/Documentation: https://github.com/toddrob99/MLB-StatsAPI/wiki <br>\n",
    "Usage: run 'pip install MLB-StatsAPI' <br><br>\n",
    "Datasets:<br>\n",
    "SFBB-Player-ID-Map.csv: from https://www.smartfantasybaseball.com/tools/ <br>\n",
    "expected_stats.csv: from https://baseballsavant.mlb.com/leaderboard/expected_statistics?type=batter&year=2015&position=&team=&min=q <br>\n",
    "Batting.csv: from https://www.kaggle.com/datasets/open-source-sports/baseball-databank?select=Batting.csv\n",
    "\n",
    "This file, written by Jonathan, deals with expected statistics, as well as comparison with up-to-date statistics, gotten from calls to the MLB Stats API (Question 2/2)\n"
   ]
  },
  {
   "cell_type": "code",
   "execution_count": 36,
   "metadata": {},
   "outputs": [],
   "source": [
    "# Setups\n",
    "import pandas as pd\n",
    "import plotly.express as px\n",
    "import os\n",
    "import statsapi as api\n",
    "#import logging"
   ]
  },
  {
   "cell_type": "code",
   "execution_count": 37,
   "metadata": {},
   "outputs": [],
   "source": [
    "data_location = \"datasets/\"\n",
    "exp_stats_loc = \"exp_stats/\"\n",
    "\n",
    "exp_stats = pd.read_csv(data_location + exp_stats_loc + \"expected_stats_2015.csv\")\n",
    "batting_names = pd.read_csv(data_location + 'SFBB-Player-ID-Map.csv')\n",
    "batting = pd.read_csv(data_location + 'Batting.csv')"
   ]
  },
  {
   "cell_type": "code",
   "execution_count": 38,
   "metadata": {},
   "outputs": [],
   "source": [
    "#renames columns of exp_stats and makes it easier to view\n",
    "all_exp_df = []\n",
    "for year in range(2015, 2024):\n",
    "    file_name = os.path.join(data_location, exp_stats_loc, 'expected_stats_' + str(year) + '.csv')\n",
    "    data = pd.read_csv(file_name)\n",
    "    all_exp_df.append(data)\n",
    "exp_stats = pd.concat(all_exp_df, ignore_index=True)\n",
    "exp_stats = exp_stats.rename(columns={'last_name':'Name',\n",
    "                                      ' first_name':'to_drop',\n",
    "                                      'player_id':'ID',\n",
    "                                      'year':'Year',\n",
    "                                      'pa':'Plate Appearances',\n",
    "                                      'bip':'Balls In Play',\n",
    "                                      'ba':'BA',\n",
    "                                      'est_ba':'xBA',\n",
    "                                      'est_ba_minus_ba_diff':'xBA - BA Diff',\n",
    "                                      'slg':'Slg',\n",
    "                                      'est_slg':'xSlg',\n",
    "                                      'est_slg_minus_slg_diff':'xSlg - Slg Diff',\n",
    "                                      'woba':'WOBA',\n",
    "                                      'est_woba':'xWOBA',\n",
    "                                      'est_woba_minus_woba_diff':'xWOBA - WOBA Diff'})\n",
    "exp_stats['Name'] = (exp_stats['to_drop'] + ' ' + exp_stats['Name']).astype('str')\n",
    "exp_stats = exp_stats.drop(columns =['to_drop'])\n",
    "#exp_stats = exp_stats.set_index('Name')\n",
    "exp_stats = exp_stats.replace(r\"^ +| +$\", r\"\", regex=True)"
   ]
  },
  {
   "cell_type": "code",
   "execution_count": 39,
   "metadata": {},
   "outputs": [
    {
     "data": {
      "text/html": [
       "<div>\n",
       "<style scoped>\n",
       "    .dataframe tbody tr th:only-of-type {\n",
       "        vertical-align: middle;\n",
       "    }\n",
       "\n",
       "    .dataframe tbody tr th {\n",
       "        vertical-align: top;\n",
       "    }\n",
       "\n",
       "    .dataframe thead th {\n",
       "        text-align: right;\n",
       "    }\n",
       "</style>\n",
       "<table border=\"1\" class=\"dataframe\">\n",
       "  <thead>\n",
       "    <tr style=\"text-align: right;\">\n",
       "      <th></th>\n",
       "      <th>Player ID</th>\n",
       "      <th>Year</th>\n",
       "      <th>Team</th>\n",
       "      <th>Games</th>\n",
       "      <th>AB</th>\n",
       "      <th>R</th>\n",
       "      <th>H</th>\n",
       "      <th>2B</th>\n",
       "      <th>3B</th>\n",
       "      <th>HR</th>\n",
       "      <th>RBI</th>\n",
       "      <th>SB</th>\n",
       "      <th>CS</th>\n",
       "      <th>BB</th>\n",
       "      <th>SO</th>\n",
       "      <th>IBB</th>\n",
       "      <th>HBP</th>\n",
       "      <th>SH</th>\n",
       "      <th>SF</th>\n",
       "      <th>GIDP</th>\n",
       "    </tr>\n",
       "  </thead>\n",
       "  <tbody>\n",
       "    <tr>\n",
       "      <th>92849</th>\n",
       "      <td>aardsda01</td>\n",
       "      <td>2010</td>\n",
       "      <td>SEA</td>\n",
       "      <td>53</td>\n",
       "      <td>0.0</td>\n",
       "      <td>0.0</td>\n",
       "      <td>0.0</td>\n",
       "      <td>0.0</td>\n",
       "      <td>0.0</td>\n",
       "      <td>0.0</td>\n",
       "      <td>0.0</td>\n",
       "      <td>0.0</td>\n",
       "      <td>0.0</td>\n",
       "      <td>0.0</td>\n",
       "      <td>0.0</td>\n",
       "      <td>0.0</td>\n",
       "      <td>0.0</td>\n",
       "      <td>0.0</td>\n",
       "      <td>0.0</td>\n",
       "      <td>0.0</td>\n",
       "    </tr>\n",
       "    <tr>\n",
       "      <th>92850</th>\n",
       "      <td>abadfe01</td>\n",
       "      <td>2010</td>\n",
       "      <td>HOU</td>\n",
       "      <td>22</td>\n",
       "      <td>1.0</td>\n",
       "      <td>0.0</td>\n",
       "      <td>0.0</td>\n",
       "      <td>0.0</td>\n",
       "      <td>0.0</td>\n",
       "      <td>0.0</td>\n",
       "      <td>0.0</td>\n",
       "      <td>0.0</td>\n",
       "      <td>0.0</td>\n",
       "      <td>0.0</td>\n",
       "      <td>1.0</td>\n",
       "      <td>0.0</td>\n",
       "      <td>0.0</td>\n",
       "      <td>0.0</td>\n",
       "      <td>0.0</td>\n",
       "      <td>0.0</td>\n",
       "    </tr>\n",
       "    <tr>\n",
       "      <th>92851</th>\n",
       "      <td>abreubo01</td>\n",
       "      <td>2010</td>\n",
       "      <td>LAA</td>\n",
       "      <td>154</td>\n",
       "      <td>573.0</td>\n",
       "      <td>88.0</td>\n",
       "      <td>146.0</td>\n",
       "      <td>41.0</td>\n",
       "      <td>1.0</td>\n",
       "      <td>20.0</td>\n",
       "      <td>78.0</td>\n",
       "      <td>24.0</td>\n",
       "      <td>10.0</td>\n",
       "      <td>87.0</td>\n",
       "      <td>132.0</td>\n",
       "      <td>3.0</td>\n",
       "      <td>2.0</td>\n",
       "      <td>0.0</td>\n",
       "      <td>5.0</td>\n",
       "      <td>13.0</td>\n",
       "    </tr>\n",
       "    <tr>\n",
       "      <th>92852</th>\n",
       "      <td>abreuto01</td>\n",
       "      <td>2010</td>\n",
       "      <td>ARI</td>\n",
       "      <td>81</td>\n",
       "      <td>193.0</td>\n",
       "      <td>16.0</td>\n",
       "      <td>45.0</td>\n",
       "      <td>11.0</td>\n",
       "      <td>1.0</td>\n",
       "      <td>1.0</td>\n",
       "      <td>13.0</td>\n",
       "      <td>2.0</td>\n",
       "      <td>1.0</td>\n",
       "      <td>4.0</td>\n",
       "      <td>47.0</td>\n",
       "      <td>0.0</td>\n",
       "      <td>0.0</td>\n",
       "      <td>0.0</td>\n",
       "      <td>4.0</td>\n",
       "      <td>8.0</td>\n",
       "    </tr>\n",
       "    <tr>\n",
       "      <th>92853</th>\n",
       "      <td>accarje01</td>\n",
       "      <td>2010</td>\n",
       "      <td>TOR</td>\n",
       "      <td>5</td>\n",
       "      <td>0.0</td>\n",
       "      <td>0.0</td>\n",
       "      <td>0.0</td>\n",
       "      <td>0.0</td>\n",
       "      <td>0.0</td>\n",
       "      <td>0.0</td>\n",
       "      <td>0.0</td>\n",
       "      <td>0.0</td>\n",
       "      <td>0.0</td>\n",
       "      <td>0.0</td>\n",
       "      <td>0.0</td>\n",
       "      <td>0.0</td>\n",
       "      <td>0.0</td>\n",
       "      <td>0.0</td>\n",
       "      <td>0.0</td>\n",
       "      <td>0.0</td>\n",
       "    </tr>\n",
       "    <tr>\n",
       "      <th>...</th>\n",
       "      <td>...</td>\n",
       "      <td>...</td>\n",
       "      <td>...</td>\n",
       "      <td>...</td>\n",
       "      <td>...</td>\n",
       "      <td>...</td>\n",
       "      <td>...</td>\n",
       "      <td>...</td>\n",
       "      <td>...</td>\n",
       "      <td>...</td>\n",
       "      <td>...</td>\n",
       "      <td>...</td>\n",
       "      <td>...</td>\n",
       "      <td>...</td>\n",
       "      <td>...</td>\n",
       "      <td>...</td>\n",
       "      <td>...</td>\n",
       "      <td>...</td>\n",
       "      <td>...</td>\n",
       "      <td>...</td>\n",
       "    </tr>\n",
       "    <tr>\n",
       "      <th>101327</th>\n",
       "      <td>zitoba01</td>\n",
       "      <td>2015</td>\n",
       "      <td>OAK</td>\n",
       "      <td>3</td>\n",
       "      <td>0.0</td>\n",
       "      <td>0.0</td>\n",
       "      <td>0.0</td>\n",
       "      <td>0.0</td>\n",
       "      <td>0.0</td>\n",
       "      <td>0.0</td>\n",
       "      <td>0.0</td>\n",
       "      <td>0.0</td>\n",
       "      <td>0.0</td>\n",
       "      <td>0.0</td>\n",
       "      <td>0.0</td>\n",
       "      <td>0.0</td>\n",
       "      <td>0.0</td>\n",
       "      <td>0.0</td>\n",
       "      <td>0.0</td>\n",
       "      <td>0.0</td>\n",
       "    </tr>\n",
       "    <tr>\n",
       "      <th>101328</th>\n",
       "      <td>zobribe01</td>\n",
       "      <td>2015</td>\n",
       "      <td>OAK</td>\n",
       "      <td>67</td>\n",
       "      <td>235.0</td>\n",
       "      <td>39.0</td>\n",
       "      <td>63.0</td>\n",
       "      <td>20.0</td>\n",
       "      <td>2.0</td>\n",
       "      <td>6.0</td>\n",
       "      <td>33.0</td>\n",
       "      <td>1.0</td>\n",
       "      <td>1.0</td>\n",
       "      <td>33.0</td>\n",
       "      <td>26.0</td>\n",
       "      <td>2.0</td>\n",
       "      <td>0.0</td>\n",
       "      <td>0.0</td>\n",
       "      <td>3.0</td>\n",
       "      <td>5.0</td>\n",
       "    </tr>\n",
       "    <tr>\n",
       "      <th>101329</th>\n",
       "      <td>zobribe01</td>\n",
       "      <td>2015</td>\n",
       "      <td>KCA</td>\n",
       "      <td>59</td>\n",
       "      <td>232.0</td>\n",
       "      <td>37.0</td>\n",
       "      <td>66.0</td>\n",
       "      <td>16.0</td>\n",
       "      <td>1.0</td>\n",
       "      <td>7.0</td>\n",
       "      <td>23.0</td>\n",
       "      <td>2.0</td>\n",
       "      <td>3.0</td>\n",
       "      <td>29.0</td>\n",
       "      <td>30.0</td>\n",
       "      <td>1.0</td>\n",
       "      <td>1.0</td>\n",
       "      <td>0.0</td>\n",
       "      <td>2.0</td>\n",
       "      <td>3.0</td>\n",
       "    </tr>\n",
       "    <tr>\n",
       "      <th>101330</th>\n",
       "      <td>zuninmi01</td>\n",
       "      <td>2015</td>\n",
       "      <td>SEA</td>\n",
       "      <td>112</td>\n",
       "      <td>350.0</td>\n",
       "      <td>28.0</td>\n",
       "      <td>61.0</td>\n",
       "      <td>11.0</td>\n",
       "      <td>0.0</td>\n",
       "      <td>11.0</td>\n",
       "      <td>28.0</td>\n",
       "      <td>0.0</td>\n",
       "      <td>1.0</td>\n",
       "      <td>21.0</td>\n",
       "      <td>132.0</td>\n",
       "      <td>0.0</td>\n",
       "      <td>5.0</td>\n",
       "      <td>8.0</td>\n",
       "      <td>2.0</td>\n",
       "      <td>6.0</td>\n",
       "    </tr>\n",
       "    <tr>\n",
       "      <th>101331</th>\n",
       "      <td>zychto01</td>\n",
       "      <td>2015</td>\n",
       "      <td>SEA</td>\n",
       "      <td>13</td>\n",
       "      <td>0.0</td>\n",
       "      <td>0.0</td>\n",
       "      <td>0.0</td>\n",
       "      <td>0.0</td>\n",
       "      <td>0.0</td>\n",
       "      <td>0.0</td>\n",
       "      <td>0.0</td>\n",
       "      <td>0.0</td>\n",
       "      <td>0.0</td>\n",
       "      <td>0.0</td>\n",
       "      <td>0.0</td>\n",
       "      <td>0.0</td>\n",
       "      <td>0.0</td>\n",
       "      <td>0.0</td>\n",
       "      <td>0.0</td>\n",
       "      <td>0.0</td>\n",
       "    </tr>\n",
       "  </tbody>\n",
       "</table>\n",
       "<p>8483 rows × 20 columns</p>\n",
       "</div>"
      ],
      "text/plain": [
       "        Player ID  Year Team  Games     AB     R      H    2B   3B    HR   \n",
       "92849   aardsda01  2010  SEA     53    0.0   0.0    0.0   0.0  0.0   0.0  \\\n",
       "92850    abadfe01  2010  HOU     22    1.0   0.0    0.0   0.0  0.0   0.0   \n",
       "92851   abreubo01  2010  LAA    154  573.0  88.0  146.0  41.0  1.0  20.0   \n",
       "92852   abreuto01  2010  ARI     81  193.0  16.0   45.0  11.0  1.0   1.0   \n",
       "92853   accarje01  2010  TOR      5    0.0   0.0    0.0   0.0  0.0   0.0   \n",
       "...           ...   ...  ...    ...    ...   ...    ...   ...  ...   ...   \n",
       "101327   zitoba01  2015  OAK      3    0.0   0.0    0.0   0.0  0.0   0.0   \n",
       "101328  zobribe01  2015  OAK     67  235.0  39.0   63.0  20.0  2.0   6.0   \n",
       "101329  zobribe01  2015  KCA     59  232.0  37.0   66.0  16.0  1.0   7.0   \n",
       "101330  zuninmi01  2015  SEA    112  350.0  28.0   61.0  11.0  0.0  11.0   \n",
       "101331   zychto01  2015  SEA     13    0.0   0.0    0.0   0.0  0.0   0.0   \n",
       "\n",
       "         RBI    SB    CS    BB     SO  IBB  HBP   SH   SF  GIDP  \n",
       "92849    0.0   0.0   0.0   0.0    0.0  0.0  0.0  0.0  0.0   0.0  \n",
       "92850    0.0   0.0   0.0   0.0    1.0  0.0  0.0  0.0  0.0   0.0  \n",
       "92851   78.0  24.0  10.0  87.0  132.0  3.0  2.0  0.0  5.0  13.0  \n",
       "92852   13.0   2.0   1.0   4.0   47.0  0.0  0.0  0.0  4.0   8.0  \n",
       "92853    0.0   0.0   0.0   0.0    0.0  0.0  0.0  0.0  0.0   0.0  \n",
       "...      ...   ...   ...   ...    ...  ...  ...  ...  ...   ...  \n",
       "101327   0.0   0.0   0.0   0.0    0.0  0.0  0.0  0.0  0.0   0.0  \n",
       "101328  33.0   1.0   1.0  33.0   26.0  2.0  0.0  0.0  3.0   5.0  \n",
       "101329  23.0   2.0   3.0  29.0   30.0  1.0  1.0  0.0  2.0   3.0  \n",
       "101330  28.0   0.0   1.0  21.0  132.0  0.0  5.0  8.0  2.0   6.0  \n",
       "101331   0.0   0.0   0.0   0.0    0.0  0.0  0.0  0.0  0.0   0.0  \n",
       "\n",
       "[8483 rows x 20 columns]"
      ]
     },
     "metadata": {},
     "output_type": "display_data"
    }
   ],
   "source": [
    "#renames columns of batting and makes it easier to view\n",
    "#display(batting)\n",
    "batting = batting[batting.yearID >= 2010]\n",
    "batting = batting.drop(columns=['stint', 'lgID'])\n",
    "batting = batting.rename(columns = {'playerID':'Player ID',\n",
    "                                    'yearID':'Year',\n",
    "                                    'teamID':'Team',\n",
    "                                    'G':'Games'})\n",
    "#batting = batting.set_index('Player ID')\n",
    "display(batting)"
   ]
  },
  {
   "cell_type": "code",
   "execution_count": 40,
   "metadata": {},
   "outputs": [],
   "source": [
    "batting_final = pd.merge(batting_names[['IDPLAYER','PLAYERNAME', 'BATS']], batting,  right_on='Player ID', left_on='IDPLAYER')\n",
    "batting_final = batting_final.rename(columns = {'PLAYERNAME':'Name'})\n",
    "#batting_final = batting_final.set_index('Name')"
   ]
  },
  {
   "cell_type": "code",
   "execution_count": 41,
   "metadata": {},
   "outputs": [
    {
     "data": {
      "text/html": [
       "<div>\n",
       "<style scoped>\n",
       "    .dataframe tbody tr th:only-of-type {\n",
       "        vertical-align: middle;\n",
       "    }\n",
       "\n",
       "    .dataframe tbody tr th {\n",
       "        vertical-align: top;\n",
       "    }\n",
       "\n",
       "    .dataframe thead th {\n",
       "        text-align: right;\n",
       "    }\n",
       "</style>\n",
       "<table border=\"1\" class=\"dataframe\">\n",
       "  <thead>\n",
       "    <tr style=\"text-align: right;\">\n",
       "      <th></th>\n",
       "      <th>IDPLAYER</th>\n",
       "      <th>Name</th>\n",
       "      <th>BATS</th>\n",
       "      <th>Player ID</th>\n",
       "      <th>Year</th>\n",
       "      <th>Team</th>\n",
       "      <th>Games</th>\n",
       "      <th>AB</th>\n",
       "      <th>R</th>\n",
       "      <th>H</th>\n",
       "      <th>...</th>\n",
       "      <th>RBI</th>\n",
       "      <th>SB</th>\n",
       "      <th>CS</th>\n",
       "      <th>BB</th>\n",
       "      <th>SO</th>\n",
       "      <th>IBB</th>\n",
       "      <th>HBP</th>\n",
       "      <th>SH</th>\n",
       "      <th>SF</th>\n",
       "      <th>GIDP</th>\n",
       "    </tr>\n",
       "  </thead>\n",
       "  <tbody>\n",
       "    <tr>\n",
       "      <th>0</th>\n",
       "      <td>aardsda01</td>\n",
       "      <td>David Aardsma</td>\n",
       "      <td>R</td>\n",
       "      <td>aardsda01</td>\n",
       "      <td>2010</td>\n",
       "      <td>SEA</td>\n",
       "      <td>53</td>\n",
       "      <td>0.0</td>\n",
       "      <td>0.0</td>\n",
       "      <td>0.0</td>\n",
       "      <td>...</td>\n",
       "      <td>0.0</td>\n",
       "      <td>0.0</td>\n",
       "      <td>0.0</td>\n",
       "      <td>0.0</td>\n",
       "      <td>0.0</td>\n",
       "      <td>0.0</td>\n",
       "      <td>0.0</td>\n",
       "      <td>0.0</td>\n",
       "      <td>0.0</td>\n",
       "      <td>0.0</td>\n",
       "    </tr>\n",
       "    <tr>\n",
       "      <th>1</th>\n",
       "      <td>aardsda01</td>\n",
       "      <td>David Aardsma</td>\n",
       "      <td>R</td>\n",
       "      <td>aardsda01</td>\n",
       "      <td>2012</td>\n",
       "      <td>NYA</td>\n",
       "      <td>1</td>\n",
       "      <td>0.0</td>\n",
       "      <td>0.0</td>\n",
       "      <td>0.0</td>\n",
       "      <td>...</td>\n",
       "      <td>0.0</td>\n",
       "      <td>0.0</td>\n",
       "      <td>0.0</td>\n",
       "      <td>0.0</td>\n",
       "      <td>0.0</td>\n",
       "      <td>0.0</td>\n",
       "      <td>0.0</td>\n",
       "      <td>0.0</td>\n",
       "      <td>0.0</td>\n",
       "      <td>0.0</td>\n",
       "    </tr>\n",
       "    <tr>\n",
       "      <th>2</th>\n",
       "      <td>aardsda01</td>\n",
       "      <td>David Aardsma</td>\n",
       "      <td>R</td>\n",
       "      <td>aardsda01</td>\n",
       "      <td>2013</td>\n",
       "      <td>NYN</td>\n",
       "      <td>43</td>\n",
       "      <td>0.0</td>\n",
       "      <td>0.0</td>\n",
       "      <td>0.0</td>\n",
       "      <td>...</td>\n",
       "      <td>0.0</td>\n",
       "      <td>0.0</td>\n",
       "      <td>0.0</td>\n",
       "      <td>0.0</td>\n",
       "      <td>0.0</td>\n",
       "      <td>0.0</td>\n",
       "      <td>0.0</td>\n",
       "      <td>0.0</td>\n",
       "      <td>0.0</td>\n",
       "      <td>0.0</td>\n",
       "    </tr>\n",
       "    <tr>\n",
       "      <th>3</th>\n",
       "      <td>aardsda01</td>\n",
       "      <td>David Aardsma</td>\n",
       "      <td>R</td>\n",
       "      <td>aardsda01</td>\n",
       "      <td>2015</td>\n",
       "      <td>ATL</td>\n",
       "      <td>33</td>\n",
       "      <td>1.0</td>\n",
       "      <td>0.0</td>\n",
       "      <td>0.0</td>\n",
       "      <td>...</td>\n",
       "      <td>0.0</td>\n",
       "      <td>0.0</td>\n",
       "      <td>0.0</td>\n",
       "      <td>0.0</td>\n",
       "      <td>1.0</td>\n",
       "      <td>0.0</td>\n",
       "      <td>0.0</td>\n",
       "      <td>0.0</td>\n",
       "      <td>0.0</td>\n",
       "      <td>0.0</td>\n",
       "    </tr>\n",
       "    <tr>\n",
       "      <th>4</th>\n",
       "      <td>abadfe01</td>\n",
       "      <td>Fernando Abad</td>\n",
       "      <td>L</td>\n",
       "      <td>abadfe01</td>\n",
       "      <td>2010</td>\n",
       "      <td>HOU</td>\n",
       "      <td>22</td>\n",
       "      <td>1.0</td>\n",
       "      <td>0.0</td>\n",
       "      <td>0.0</td>\n",
       "      <td>...</td>\n",
       "      <td>0.0</td>\n",
       "      <td>0.0</td>\n",
       "      <td>0.0</td>\n",
       "      <td>0.0</td>\n",
       "      <td>1.0</td>\n",
       "      <td>0.0</td>\n",
       "      <td>0.0</td>\n",
       "      <td>0.0</td>\n",
       "      <td>0.0</td>\n",
       "      <td>0.0</td>\n",
       "    </tr>\n",
       "    <tr>\n",
       "      <th>...</th>\n",
       "      <td>...</td>\n",
       "      <td>...</td>\n",
       "      <td>...</td>\n",
       "      <td>...</td>\n",
       "      <td>...</td>\n",
       "      <td>...</td>\n",
       "      <td>...</td>\n",
       "      <td>...</td>\n",
       "      <td>...</td>\n",
       "      <td>...</td>\n",
       "      <td>...</td>\n",
       "      <td>...</td>\n",
       "      <td>...</td>\n",
       "      <td>...</td>\n",
       "      <td>...</td>\n",
       "      <td>...</td>\n",
       "      <td>...</td>\n",
       "      <td>...</td>\n",
       "      <td>...</td>\n",
       "      <td>...</td>\n",
       "      <td>...</td>\n",
       "    </tr>\n",
       "    <tr>\n",
       "      <th>6830</th>\n",
       "      <td>zobribe01</td>\n",
       "      <td>Ben Zobrist</td>\n",
       "      <td>B</td>\n",
       "      <td>zobribe01</td>\n",
       "      <td>2015</td>\n",
       "      <td>KCA</td>\n",
       "      <td>59</td>\n",
       "      <td>232.0</td>\n",
       "      <td>37.0</td>\n",
       "      <td>66.0</td>\n",
       "      <td>...</td>\n",
       "      <td>23.0</td>\n",
       "      <td>2.0</td>\n",
       "      <td>3.0</td>\n",
       "      <td>29.0</td>\n",
       "      <td>30.0</td>\n",
       "      <td>1.0</td>\n",
       "      <td>1.0</td>\n",
       "      <td>0.0</td>\n",
       "      <td>2.0</td>\n",
       "      <td>3.0</td>\n",
       "    </tr>\n",
       "    <tr>\n",
       "      <th>6831</th>\n",
       "      <td>zuninmi01</td>\n",
       "      <td>Mike Zunino</td>\n",
       "      <td>R</td>\n",
       "      <td>zuninmi01</td>\n",
       "      <td>2013</td>\n",
       "      <td>SEA</td>\n",
       "      <td>52</td>\n",
       "      <td>173.0</td>\n",
       "      <td>22.0</td>\n",
       "      <td>37.0</td>\n",
       "      <td>...</td>\n",
       "      <td>14.0</td>\n",
       "      <td>1.0</td>\n",
       "      <td>0.0</td>\n",
       "      <td>16.0</td>\n",
       "      <td>49.0</td>\n",
       "      <td>0.0</td>\n",
       "      <td>3.0</td>\n",
       "      <td>0.0</td>\n",
       "      <td>1.0</td>\n",
       "      <td>5.0</td>\n",
       "    </tr>\n",
       "    <tr>\n",
       "      <th>6832</th>\n",
       "      <td>zuninmi01</td>\n",
       "      <td>Mike Zunino</td>\n",
       "      <td>R</td>\n",
       "      <td>zuninmi01</td>\n",
       "      <td>2014</td>\n",
       "      <td>SEA</td>\n",
       "      <td>131</td>\n",
       "      <td>438.0</td>\n",
       "      <td>51.0</td>\n",
       "      <td>87.0</td>\n",
       "      <td>...</td>\n",
       "      <td>60.0</td>\n",
       "      <td>0.0</td>\n",
       "      <td>3.0</td>\n",
       "      <td>17.0</td>\n",
       "      <td>158.0</td>\n",
       "      <td>1.0</td>\n",
       "      <td>17.0</td>\n",
       "      <td>0.0</td>\n",
       "      <td>4.0</td>\n",
       "      <td>12.0</td>\n",
       "    </tr>\n",
       "    <tr>\n",
       "      <th>6833</th>\n",
       "      <td>zuninmi01</td>\n",
       "      <td>Mike Zunino</td>\n",
       "      <td>R</td>\n",
       "      <td>zuninmi01</td>\n",
       "      <td>2015</td>\n",
       "      <td>SEA</td>\n",
       "      <td>112</td>\n",
       "      <td>350.0</td>\n",
       "      <td>28.0</td>\n",
       "      <td>61.0</td>\n",
       "      <td>...</td>\n",
       "      <td>28.0</td>\n",
       "      <td>0.0</td>\n",
       "      <td>1.0</td>\n",
       "      <td>21.0</td>\n",
       "      <td>132.0</td>\n",
       "      <td>0.0</td>\n",
       "      <td>5.0</td>\n",
       "      <td>8.0</td>\n",
       "      <td>2.0</td>\n",
       "      <td>6.0</td>\n",
       "    </tr>\n",
       "    <tr>\n",
       "      <th>6834</th>\n",
       "      <td>zychto01</td>\n",
       "      <td>Tony Zych</td>\n",
       "      <td>R</td>\n",
       "      <td>zychto01</td>\n",
       "      <td>2015</td>\n",
       "      <td>SEA</td>\n",
       "      <td>13</td>\n",
       "      <td>0.0</td>\n",
       "      <td>0.0</td>\n",
       "      <td>0.0</td>\n",
       "      <td>...</td>\n",
       "      <td>0.0</td>\n",
       "      <td>0.0</td>\n",
       "      <td>0.0</td>\n",
       "      <td>0.0</td>\n",
       "      <td>0.0</td>\n",
       "      <td>0.0</td>\n",
       "      <td>0.0</td>\n",
       "      <td>0.0</td>\n",
       "      <td>0.0</td>\n",
       "      <td>0.0</td>\n",
       "    </tr>\n",
       "  </tbody>\n",
       "</table>\n",
       "<p>6835 rows × 23 columns</p>\n",
       "</div>"
      ],
      "text/plain": [
       "       IDPLAYER           Name BATS  Player ID  Year Team  Games     AB     R   \n",
       "0     aardsda01  David Aardsma    R  aardsda01  2010  SEA     53    0.0   0.0  \\\n",
       "1     aardsda01  David Aardsma    R  aardsda01  2012  NYA      1    0.0   0.0   \n",
       "2     aardsda01  David Aardsma    R  aardsda01  2013  NYN     43    0.0   0.0   \n",
       "3     aardsda01  David Aardsma    R  aardsda01  2015  ATL     33    1.0   0.0   \n",
       "4      abadfe01  Fernando Abad    L   abadfe01  2010  HOU     22    1.0   0.0   \n",
       "...         ...            ...  ...        ...   ...  ...    ...    ...   ...   \n",
       "6830  zobribe01    Ben Zobrist    B  zobribe01  2015  KCA     59  232.0  37.0   \n",
       "6831  zuninmi01    Mike Zunino    R  zuninmi01  2013  SEA     52  173.0  22.0   \n",
       "6832  zuninmi01    Mike Zunino    R  zuninmi01  2014  SEA    131  438.0  51.0   \n",
       "6833  zuninmi01    Mike Zunino    R  zuninmi01  2015  SEA    112  350.0  28.0   \n",
       "6834   zychto01      Tony Zych    R   zychto01  2015  SEA     13    0.0   0.0   \n",
       "\n",
       "         H  ...   RBI   SB   CS    BB     SO  IBB   HBP   SH   SF  GIDP  \n",
       "0      0.0  ...   0.0  0.0  0.0   0.0    0.0  0.0   0.0  0.0  0.0   0.0  \n",
       "1      0.0  ...   0.0  0.0  0.0   0.0    0.0  0.0   0.0  0.0  0.0   0.0  \n",
       "2      0.0  ...   0.0  0.0  0.0   0.0    0.0  0.0   0.0  0.0  0.0   0.0  \n",
       "3      0.0  ...   0.0  0.0  0.0   0.0    1.0  0.0   0.0  0.0  0.0   0.0  \n",
       "4      0.0  ...   0.0  0.0  0.0   0.0    1.0  0.0   0.0  0.0  0.0   0.0  \n",
       "...    ...  ...   ...  ...  ...   ...    ...  ...   ...  ...  ...   ...  \n",
       "6830  66.0  ...  23.0  2.0  3.0  29.0   30.0  1.0   1.0  0.0  2.0   3.0  \n",
       "6831  37.0  ...  14.0  1.0  0.0  16.0   49.0  0.0   3.0  0.0  1.0   5.0  \n",
       "6832  87.0  ...  60.0  0.0  3.0  17.0  158.0  1.0  17.0  0.0  4.0  12.0  \n",
       "6833  61.0  ...  28.0  0.0  1.0  21.0  132.0  0.0   5.0  8.0  2.0   6.0  \n",
       "6834   0.0  ...   0.0  0.0  0.0   0.0    0.0  0.0   0.0  0.0  0.0   0.0  \n",
       "\n",
       "[6835 rows x 23 columns]"
      ]
     },
     "metadata": {},
     "output_type": "display_data"
    },
    {
     "data": {
      "text/html": [
       "<div>\n",
       "<style scoped>\n",
       "    .dataframe tbody tr th:only-of-type {\n",
       "        vertical-align: middle;\n",
       "    }\n",
       "\n",
       "    .dataframe tbody tr th {\n",
       "        vertical-align: top;\n",
       "    }\n",
       "\n",
       "    .dataframe thead th {\n",
       "        text-align: right;\n",
       "    }\n",
       "</style>\n",
       "<table border=\"1\" class=\"dataframe\">\n",
       "  <thead>\n",
       "    <tr style=\"text-align: right;\">\n",
       "      <th></th>\n",
       "      <th>Name</th>\n",
       "      <th>ID</th>\n",
       "      <th>Year</th>\n",
       "      <th>Plate Appearances</th>\n",
       "      <th>Balls In Play</th>\n",
       "      <th>BA</th>\n",
       "      <th>xBA</th>\n",
       "      <th>xBA - BA Diff</th>\n",
       "      <th>Slg</th>\n",
       "      <th>xSlg</th>\n",
       "      <th>xSlg - Slg Diff</th>\n",
       "      <th>WOBA</th>\n",
       "      <th>xWOBA</th>\n",
       "      <th>xWOBA - WOBA Diff</th>\n",
       "    </tr>\n",
       "  </thead>\n",
       "  <tbody>\n",
       "    <tr>\n",
       "      <th>0</th>\n",
       "      <td>Marcus Semien</td>\n",
       "      <td>543760</td>\n",
       "      <td>2022</td>\n",
       "      <td>724</td>\n",
       "      <td>547</td>\n",
       "      <td>0.248</td>\n",
       "      <td>0.243</td>\n",
       "      <td>0.005</td>\n",
       "      <td>0.429</td>\n",
       "      <td>0.394</td>\n",
       "      <td>0.035</td>\n",
       "      <td>0.317</td>\n",
       "      <td>0.306</td>\n",
       "      <td>0.011</td>\n",
       "    </tr>\n",
       "    <tr>\n",
       "      <th>1</th>\n",
       "      <td>Freddie Freeman</td>\n",
       "      <td>518692</td>\n",
       "      <td>2022</td>\n",
       "      <td>708</td>\n",
       "      <td>517</td>\n",
       "      <td>0.325</td>\n",
       "      <td>0.313</td>\n",
       "      <td>0.012</td>\n",
       "      <td>0.511</td>\n",
       "      <td>0.538</td>\n",
       "      <td>-0.027</td>\n",
       "      <td>0.393</td>\n",
       "      <td>0.403</td>\n",
       "      <td>-0.010</td>\n",
       "    </tr>\n",
       "    <tr>\n",
       "      <th>2</th>\n",
       "      <td>Trea Turner</td>\n",
       "      <td>607208</td>\n",
       "      <td>2022</td>\n",
       "      <td>708</td>\n",
       "      <td>527</td>\n",
       "      <td>0.298</td>\n",
       "      <td>0.276</td>\n",
       "      <td>0.022</td>\n",
       "      <td>0.466</td>\n",
       "      <td>0.432</td>\n",
       "      <td>0.034</td>\n",
       "      <td>0.350</td>\n",
       "      <td>0.335</td>\n",
       "      <td>0.015</td>\n",
       "    </tr>\n",
       "    <tr>\n",
       "      <th>3</th>\n",
       "      <td>Vladimir Guerrero Jr.</td>\n",
       "      <td>665489</td>\n",
       "      <td>2022</td>\n",
       "      <td>706</td>\n",
       "      <td>526</td>\n",
       "      <td>0.274</td>\n",
       "      <td>0.276</td>\n",
       "      <td>-0.002</td>\n",
       "      <td>0.480</td>\n",
       "      <td>0.462</td>\n",
       "      <td>0.018</td>\n",
       "      <td>0.351</td>\n",
       "      <td>0.348</td>\n",
       "      <td>0.003</td>\n",
       "    </tr>\n",
       "    <tr>\n",
       "      <th>4</th>\n",
       "      <td>Francisco Lindor</td>\n",
       "      <td>596019</td>\n",
       "      <td>2022</td>\n",
       "      <td>706</td>\n",
       "      <td>504</td>\n",
       "      <td>0.270</td>\n",
       "      <td>0.254</td>\n",
       "      <td>0.016</td>\n",
       "      <td>0.449</td>\n",
       "      <td>0.427</td>\n",
       "      <td>0.022</td>\n",
       "      <td>0.342</td>\n",
       "      <td>0.331</td>\n",
       "      <td>0.011</td>\n",
       "    </tr>\n",
       "    <tr>\n",
       "      <th>...</th>\n",
       "      <td>...</td>\n",
       "      <td>...</td>\n",
       "      <td>...</td>\n",
       "      <td>...</td>\n",
       "      <td>...</td>\n",
       "      <td>...</td>\n",
       "      <td>...</td>\n",
       "      <td>...</td>\n",
       "      <td>...</td>\n",
       "      <td>...</td>\n",
       "      <td>...</td>\n",
       "      <td>...</td>\n",
       "      <td>...</td>\n",
       "      <td>...</td>\n",
       "    </tr>\n",
       "    <tr>\n",
       "      <th>2258</th>\n",
       "      <td>Zach McKinstry</td>\n",
       "      <td>656716</td>\n",
       "      <td>2023</td>\n",
       "      <td>64</td>\n",
       "      <td>44</td>\n",
       "      <td>0.271</td>\n",
       "      <td>0.286</td>\n",
       "      <td>-0.015</td>\n",
       "      <td>0.458</td>\n",
       "      <td>0.508</td>\n",
       "      <td>-0.050</td>\n",
       "      <td>0.336</td>\n",
       "      <td>0.360</td>\n",
       "      <td>-0.024</td>\n",
       "    </tr>\n",
       "    <tr>\n",
       "      <th>2259</th>\n",
       "      <td>Sam Hilliard</td>\n",
       "      <td>656541</td>\n",
       "      <td>2023</td>\n",
       "      <td>64</td>\n",
       "      <td>30</td>\n",
       "      <td>0.276</td>\n",
       "      <td>0.224</td>\n",
       "      <td>0.052</td>\n",
       "      <td>0.500</td>\n",
       "      <td>0.411</td>\n",
       "      <td>0.089</td>\n",
       "      <td>0.365</td>\n",
       "      <td>0.309</td>\n",
       "      <td>0.056</td>\n",
       "    </tr>\n",
       "    <tr>\n",
       "      <th>2260</th>\n",
       "      <td>David Hensley</td>\n",
       "      <td>682073</td>\n",
       "      <td>2023</td>\n",
       "      <td>63</td>\n",
       "      <td>33</td>\n",
       "      <td>0.143</td>\n",
       "      <td>0.170</td>\n",
       "      <td>-0.027</td>\n",
       "      <td>0.161</td>\n",
       "      <td>0.223</td>\n",
       "      <td>-0.062</td>\n",
       "      <td>0.197</td>\n",
       "      <td>0.230</td>\n",
       "      <td>-0.033</td>\n",
       "    </tr>\n",
       "    <tr>\n",
       "      <th>2261</th>\n",
       "      <td>Eduardo Escobar</td>\n",
       "      <td>500871</td>\n",
       "      <td>2023</td>\n",
       "      <td>63</td>\n",
       "      <td>46</td>\n",
       "      <td>0.172</td>\n",
       "      <td>0.223</td>\n",
       "      <td>-0.051</td>\n",
       "      <td>0.397</td>\n",
       "      <td>0.348</td>\n",
       "      <td>0.049</td>\n",
       "      <td>0.256</td>\n",
       "      <td>0.269</td>\n",
       "      <td>-0.013</td>\n",
       "    </tr>\n",
       "    <tr>\n",
       "      <th>2262</th>\n",
       "      <td>Garrett Mitchell</td>\n",
       "      <td>669003</td>\n",
       "      <td>2023</td>\n",
       "      <td>62</td>\n",
       "      <td>34</td>\n",
       "      <td>0.259</td>\n",
       "      <td>0.220</td>\n",
       "      <td>0.039</td>\n",
       "      <td>0.466</td>\n",
       "      <td>0.332</td>\n",
       "      <td>0.134</td>\n",
       "      <td>0.333</td>\n",
       "      <td>0.268</td>\n",
       "      <td>0.065</td>\n",
       "    </tr>\n",
       "  </tbody>\n",
       "</table>\n",
       "<p>2263 rows × 14 columns</p>\n",
       "</div>"
      ],
      "text/plain": [
       "                       Name      ID  Year  Plate Appearances  Balls In Play   \n",
       "0             Marcus Semien  543760  2022                724            547  \\\n",
       "1           Freddie Freeman  518692  2022                708            517   \n",
       "2               Trea Turner  607208  2022                708            527   \n",
       "3     Vladimir Guerrero Jr.  665489  2022                706            526   \n",
       "4          Francisco Lindor  596019  2022                706            504   \n",
       "...                     ...     ...   ...                ...            ...   \n",
       "2258         Zach McKinstry  656716  2023                 64             44   \n",
       "2259           Sam Hilliard  656541  2023                 64             30   \n",
       "2260          David Hensley  682073  2023                 63             33   \n",
       "2261        Eduardo Escobar  500871  2023                 63             46   \n",
       "2262       Garrett Mitchell  669003  2023                 62             34   \n",
       "\n",
       "         BA    xBA  xBA - BA Diff    Slg   xSlg  xSlg - Slg Diff   WOBA   \n",
       "0     0.248  0.243          0.005  0.429  0.394            0.035  0.317  \\\n",
       "1     0.325  0.313          0.012  0.511  0.538           -0.027  0.393   \n",
       "2     0.298  0.276          0.022  0.466  0.432            0.034  0.350   \n",
       "3     0.274  0.276         -0.002  0.480  0.462            0.018  0.351   \n",
       "4     0.270  0.254          0.016  0.449  0.427            0.022  0.342   \n",
       "...     ...    ...            ...    ...    ...              ...    ...   \n",
       "2258  0.271  0.286         -0.015  0.458  0.508           -0.050  0.336   \n",
       "2259  0.276  0.224          0.052  0.500  0.411            0.089  0.365   \n",
       "2260  0.143  0.170         -0.027  0.161  0.223           -0.062  0.197   \n",
       "2261  0.172  0.223         -0.051  0.397  0.348            0.049  0.256   \n",
       "2262  0.259  0.220          0.039  0.466  0.332            0.134  0.333   \n",
       "\n",
       "      xWOBA  xWOBA - WOBA Diff  \n",
       "0     0.306              0.011  \n",
       "1     0.403             -0.010  \n",
       "2     0.335              0.015  \n",
       "3     0.348              0.003  \n",
       "4     0.331              0.011  \n",
       "...     ...                ...  \n",
       "2258  0.360             -0.024  \n",
       "2259  0.309              0.056  \n",
       "2260  0.230             -0.033  \n",
       "2261  0.269             -0.013  \n",
       "2262  0.268              0.065  \n",
       "\n",
       "[2263 rows x 14 columns]"
      ]
     },
     "metadata": {},
     "output_type": "display_data"
    }
   ],
   "source": [
    "display(batting_final)\n",
    "display(exp_stats)"
   ]
  },
  {
   "cell_type": "code",
   "execution_count": 42,
   "metadata": {},
   "outputs": [],
   "source": [
    "#an unfortunately messy function that parses data returned by API calls, and converts it into a DataFrame\n",
    "def parse_player_api_data(data):\n",
    "    lines = data.split('\\n')\n",
    "    line = lines[0]\n",
    "    name_start = 0\n",
    "    name_end = line.find('\"') - 1\n",
    "    last_name_start = line.find(' ') + 1\n",
    "    last_name_end = line.find(',', last_name_start)\n",
    "    name = line[name_start:name_end+1]\n",
    "    first_word_end = line.find(' ')\n",
    "    if first_word_end == -1:\n",
    "        name = line\n",
    "    else:\n",
    "        name = line[:first_word_end]\n",
    "    last_name = line[last_name_start:last_name_end]\n",
    "    nickname_start = last_name.find('\"')\n",
    "    nickname_end = last_name.find('\"', nickname_start + 1)\n",
    "    if nickname_start != -1 and nickname_end != -1:\n",
    "        last_name = last_name[:nickname_start] + last_name[nickname_end+1:]\\\n",
    "\n",
    "            \n",
    "    career_hitting = {}\n",
    "    for line in lines[3:]:\n",
    "        if line:\n",
    "            key, value = line.split(': ')\n",
    "            career_hitting[key] = value\n",
    "    df = pd.DataFrame(career_hitting, index=[0])\n",
    "    df['Name'] = name\n",
    "    df['LastName'] = last_name\n",
    "    df = df[['Name','LastName'] + list(career_hitting.keys())]\n",
    "    \n",
    "    numeric_cols = ['gamesPlayed', 'groundOuts', 'runs', 'doubles', 'triples', 'homeRuns', 'strikeOuts', 'baseOnBalls',\n",
    "                    'intentionalWalks', 'hits', 'hitByPitch', 'atBats', 'caughtStealing', 'stolenBases',\n",
    "                    'groundIntoDoublePlay', 'numberOfPitches', 'plateAppearances', 'totalBases', 'rbi', 'leftOnBase',\n",
    "                    'sacBunts', 'sacFlies']\n",
    "    df[numeric_cols] = df[numeric_cols].apply(pd.to_numeric)\n",
    "    \n",
    "    return df"
   ]
  },
  {
   "cell_type": "code",
   "execution_count": 43,
   "metadata": {},
   "outputs": [
    {
     "ename": "KeyboardInterrupt",
     "evalue": "",
     "output_type": "error",
     "traceback": [
      "\u001b[1;31m---------------------------------------------------------------------------\u001b[0m",
      "\u001b[1;31mKeyboardInterrupt\u001b[0m                         Traceback (most recent call last)",
      "Cell \u001b[1;32mIn[43], line 7\u001b[0m\n\u001b[0;32m      3\u001b[0m player_career \u001b[39m=\u001b[39m pd\u001b[39m.\u001b[39mDataFrame()\n\u001b[0;32m      5\u001b[0m \u001b[39mfor\u001b[39;00m playerID \u001b[39min\u001b[39;00m df_for_api_call[\u001b[39m'\u001b[39m\u001b[39mID\u001b[39m\u001b[39m'\u001b[39m]:\n\u001b[0;32m      6\u001b[0m     \u001b[39m#f.write(api.player_stats(playerID, group='hitting', type='season'))\u001b[39;00m\n\u001b[1;32m----> 7\u001b[0m     season_data \u001b[39m=\u001b[39m parse_player_api_data(api\u001b[39m.\u001b[39;49mplayer_stats(playerID, group\u001b[39m=\u001b[39;49m\u001b[39m'\u001b[39;49m\u001b[39mhitting\u001b[39;49m\u001b[39m'\u001b[39;49m, \u001b[39mtype\u001b[39;49m\u001b[39m=\u001b[39;49m\u001b[39m'\u001b[39;49m\u001b[39mseason\u001b[39;49m\u001b[39m'\u001b[39;49m))\n\u001b[0;32m      8\u001b[0m     career_data \u001b[39m=\u001b[39m parse_player_api_data(api\u001b[39m.\u001b[39mplayer_stats(playerID, group\u001b[39m=\u001b[39m\u001b[39m'\u001b[39m\u001b[39mhitting\u001b[39m\u001b[39m'\u001b[39m, \u001b[39mtype\u001b[39m\u001b[39m=\u001b[39m\u001b[39m'\u001b[39m\u001b[39mcareer\u001b[39m\u001b[39m'\u001b[39m))\n\u001b[0;32m      9\u001b[0m     player_season \u001b[39m=\u001b[39m pd\u001b[39m.\u001b[39mconcat([player_season,season_data])\n",
      "File \u001b[1;32mc:\\Users\\HOMANJP20\\AppData\\Local\\Programs\\Python\\Python311\\Lib\\site-packages\\statsapi\\__init__.py:1109\u001b[0m, in \u001b[0;36mplayer_stats\u001b[1;34m(personId, group, type)\u001b[0m\n\u001b[0;32m   1107\u001b[0m \u001b[39mdef\u001b[39;00m \u001b[39mplayer_stats\u001b[39m(personId, group\u001b[39m=\u001b[39m\u001b[39m\"\u001b[39m\u001b[39m[hitting,pitching,fielding]\u001b[39m\u001b[39m\"\u001b[39m, \u001b[39mtype\u001b[39m\u001b[39m=\u001b[39m\u001b[39m\"\u001b[39m\u001b[39mseason\u001b[39m\u001b[39m\"\u001b[39m):\n\u001b[0;32m   1108\u001b[0m \u001b[39m    \u001b[39m\u001b[39m\"\"\"Get current season or career stats for a given player.\"\"\"\u001b[39;00m\n\u001b[1;32m-> 1109\u001b[0m     player \u001b[39m=\u001b[39m player_stat_data(personId, group, \u001b[39mtype\u001b[39;49m)\n\u001b[0;32m   1111\u001b[0m     stats \u001b[39m=\u001b[39m \u001b[39m\"\u001b[39m\u001b[39m\"\u001b[39m\n\u001b[0;32m   1112\u001b[0m     stats \u001b[39m+\u001b[39m\u001b[39m=\u001b[39m player[\u001b[39m\"\u001b[39m\u001b[39mfirst_name\u001b[39m\u001b[39m\"\u001b[39m]\n",
      "File \u001b[1;32mc:\\Users\\HOMANJP20\\AppData\\Local\\Programs\\Python\\Python311\\Lib\\site-packages\\statsapi\\__init__.py:1158\u001b[0m, in \u001b[0;36mplayer_stat_data\u001b[1;34m(personId, group, type, sportId)\u001b[0m\n\u001b[0;32m   1147\u001b[0m \u001b[39m\u001b[39m\u001b[39m\"\"\"Returns a list of current season or career stat data for a given player.\"\"\"\u001b[39;00m\n\u001b[0;32m   1148\u001b[0m params \u001b[39m=\u001b[39m {\n\u001b[0;32m   1149\u001b[0m     \u001b[39m\"\u001b[39m\u001b[39mpersonId\u001b[39m\u001b[39m\"\u001b[39m: personId,\n\u001b[0;32m   1150\u001b[0m     \u001b[39m\"\u001b[39m\u001b[39mhydrate\u001b[39m\u001b[39m\"\u001b[39m: \u001b[39m\"\u001b[39m\u001b[39mstats(group=\u001b[39m\u001b[39m\"\u001b[39m\n\u001b[1;32m   (...)\u001b[0m\n\u001b[0;32m   1156\u001b[0m     \u001b[39m+\u001b[39m \u001b[39m\"\u001b[39m\u001b[39m),currentTeam\u001b[39m\u001b[39m\"\u001b[39m,\n\u001b[0;32m   1157\u001b[0m }\n\u001b[1;32m-> 1158\u001b[0m r \u001b[39m=\u001b[39m get(\u001b[39m\"\u001b[39;49m\u001b[39mperson\u001b[39;49m\u001b[39m\"\u001b[39;49m, params)\n\u001b[0;32m   1160\u001b[0m stat_groups \u001b[39m=\u001b[39m []\n\u001b[0;32m   1162\u001b[0m player \u001b[39m=\u001b[39m {\n\u001b[0;32m   1163\u001b[0m     \u001b[39m\"\u001b[39m\u001b[39mid\u001b[39m\u001b[39m\"\u001b[39m: r[\u001b[39m\"\u001b[39m\u001b[39mpeople\u001b[39m\u001b[39m\"\u001b[39m][\u001b[39m0\u001b[39m][\u001b[39m\"\u001b[39m\u001b[39mid\u001b[39m\u001b[39m\"\u001b[39m],\n\u001b[0;32m   1164\u001b[0m     \u001b[39m\"\u001b[39m\u001b[39mfirst_name\u001b[39m\u001b[39m\"\u001b[39m: r[\u001b[39m\"\u001b[39m\u001b[39mpeople\u001b[39m\u001b[39m\"\u001b[39m][\u001b[39m0\u001b[39m][\u001b[39m\"\u001b[39m\u001b[39museName\u001b[39m\u001b[39m\"\u001b[39m],\n\u001b[1;32m   (...)\u001b[0m\n\u001b[0;32m   1173\u001b[0m     \u001b[39m\"\u001b[39m\u001b[39mpitch_hand\u001b[39m\u001b[39m\"\u001b[39m: r[\u001b[39m\"\u001b[39m\u001b[39mpeople\u001b[39m\u001b[39m\"\u001b[39m][\u001b[39m0\u001b[39m][\u001b[39m\"\u001b[39m\u001b[39mpitchHand\u001b[39m\u001b[39m\"\u001b[39m][\u001b[39m\"\u001b[39m\u001b[39mdescription\u001b[39m\u001b[39m\"\u001b[39m],\n\u001b[0;32m   1174\u001b[0m }\n",
      "File \u001b[1;32mc:\\Users\\HOMANJP20\\AppData\\Local\\Programs\\Python\\Python311\\Lib\\site-packages\\statsapi\\__init__.py:1734\u001b[0m, in \u001b[0;36mget\u001b[1;34m(endpoint, params, force)\u001b[0m\n\u001b[0;32m   1722\u001b[0m     \u001b[39mraise\u001b[39;00m \u001b[39mValueError\u001b[39;00m(\n\u001b[0;32m   1723\u001b[0m         \u001b[39m\"\u001b[39m\u001b[39mMissing required parameter(s): \u001b[39m\u001b[39m\"\u001b[39m\n\u001b[0;32m   1724\u001b[0m         \u001b[39m+\u001b[39m \u001b[39m\"\u001b[39m\u001b[39m, \u001b[39m\u001b[39m\"\u001b[39m\u001b[39m.\u001b[39mjoin(missing_params)\n\u001b[1;32m   (...)\u001b[0m\n\u001b[0;32m   1730\u001b[0m         \u001b[39m+\u001b[39m note\n\u001b[0;32m   1731\u001b[0m     )\n\u001b[0;32m   1733\u001b[0m \u001b[39m# Make the request\u001b[39;00m\n\u001b[1;32m-> 1734\u001b[0m r \u001b[39m=\u001b[39m requests\u001b[39m.\u001b[39;49mget(url)\n\u001b[0;32m   1735\u001b[0m \u001b[39mif\u001b[39;00m r\u001b[39m.\u001b[39mstatus_code \u001b[39mnot\u001b[39;00m \u001b[39min\u001b[39;00m [\u001b[39m200\u001b[39m, \u001b[39m201\u001b[39m]:\n\u001b[0;32m   1736\u001b[0m     r\u001b[39m.\u001b[39mraise_for_status()\n",
      "File \u001b[1;32mc:\\Users\\HOMANJP20\\AppData\\Local\\Programs\\Python\\Python311\\Lib\\site-packages\\requests\\api.py:73\u001b[0m, in \u001b[0;36mget\u001b[1;34m(url, params, **kwargs)\u001b[0m\n\u001b[0;32m     62\u001b[0m \u001b[39mdef\u001b[39;00m \u001b[39mget\u001b[39m(url, params\u001b[39m=\u001b[39m\u001b[39mNone\u001b[39;00m, \u001b[39m*\u001b[39m\u001b[39m*\u001b[39mkwargs):\n\u001b[0;32m     63\u001b[0m \u001b[39m    \u001b[39m\u001b[39mr\u001b[39m\u001b[39m\"\"\"Sends a GET request.\u001b[39;00m\n\u001b[0;32m     64\u001b[0m \n\u001b[0;32m     65\u001b[0m \u001b[39m    :param url: URL for the new :class:`Request` object.\u001b[39;00m\n\u001b[1;32m   (...)\u001b[0m\n\u001b[0;32m     70\u001b[0m \u001b[39m    :rtype: requests.Response\u001b[39;00m\n\u001b[0;32m     71\u001b[0m \u001b[39m    \"\"\"\u001b[39;00m\n\u001b[1;32m---> 73\u001b[0m     \u001b[39mreturn\u001b[39;00m request(\u001b[39m\"\u001b[39;49m\u001b[39mget\u001b[39;49m\u001b[39m\"\u001b[39;49m, url, params\u001b[39m=\u001b[39;49mparams, \u001b[39m*\u001b[39;49m\u001b[39m*\u001b[39;49mkwargs)\n",
      "File \u001b[1;32mc:\\Users\\HOMANJP20\\AppData\\Local\\Programs\\Python\\Python311\\Lib\\site-packages\\requests\\api.py:59\u001b[0m, in \u001b[0;36mrequest\u001b[1;34m(method, url, **kwargs)\u001b[0m\n\u001b[0;32m     55\u001b[0m \u001b[39m# By using the 'with' statement we are sure the session is closed, thus we\u001b[39;00m\n\u001b[0;32m     56\u001b[0m \u001b[39m# avoid leaving sockets open which can trigger a ResourceWarning in some\u001b[39;00m\n\u001b[0;32m     57\u001b[0m \u001b[39m# cases, and look like a memory leak in others.\u001b[39;00m\n\u001b[0;32m     58\u001b[0m \u001b[39mwith\u001b[39;00m sessions\u001b[39m.\u001b[39mSession() \u001b[39mas\u001b[39;00m session:\n\u001b[1;32m---> 59\u001b[0m     \u001b[39mreturn\u001b[39;00m session\u001b[39m.\u001b[39;49mrequest(method\u001b[39m=\u001b[39;49mmethod, url\u001b[39m=\u001b[39;49murl, \u001b[39m*\u001b[39;49m\u001b[39m*\u001b[39;49mkwargs)\n",
      "File \u001b[1;32mc:\\Users\\HOMANJP20\\AppData\\Local\\Programs\\Python\\Python311\\Lib\\site-packages\\requests\\sessions.py:587\u001b[0m, in \u001b[0;36mSession.request\u001b[1;34m(self, method, url, params, data, headers, cookies, files, auth, timeout, allow_redirects, proxies, hooks, stream, verify, cert, json)\u001b[0m\n\u001b[0;32m    582\u001b[0m send_kwargs \u001b[39m=\u001b[39m {\n\u001b[0;32m    583\u001b[0m     \u001b[39m\"\u001b[39m\u001b[39mtimeout\u001b[39m\u001b[39m\"\u001b[39m: timeout,\n\u001b[0;32m    584\u001b[0m     \u001b[39m\"\u001b[39m\u001b[39mallow_redirects\u001b[39m\u001b[39m\"\u001b[39m: allow_redirects,\n\u001b[0;32m    585\u001b[0m }\n\u001b[0;32m    586\u001b[0m send_kwargs\u001b[39m.\u001b[39mupdate(settings)\n\u001b[1;32m--> 587\u001b[0m resp \u001b[39m=\u001b[39m \u001b[39mself\u001b[39;49m\u001b[39m.\u001b[39;49msend(prep, \u001b[39m*\u001b[39;49m\u001b[39m*\u001b[39;49msend_kwargs)\n\u001b[0;32m    589\u001b[0m \u001b[39mreturn\u001b[39;00m resp\n",
      "File \u001b[1;32mc:\\Users\\HOMANJP20\\AppData\\Local\\Programs\\Python\\Python311\\Lib\\site-packages\\requests\\sessions.py:701\u001b[0m, in \u001b[0;36mSession.send\u001b[1;34m(self, request, **kwargs)\u001b[0m\n\u001b[0;32m    698\u001b[0m start \u001b[39m=\u001b[39m preferred_clock()\n\u001b[0;32m    700\u001b[0m \u001b[39m# Send the request\u001b[39;00m\n\u001b[1;32m--> 701\u001b[0m r \u001b[39m=\u001b[39m adapter\u001b[39m.\u001b[39;49msend(request, \u001b[39m*\u001b[39;49m\u001b[39m*\u001b[39;49mkwargs)\n\u001b[0;32m    703\u001b[0m \u001b[39m# Total elapsed time of the request (approximately)\u001b[39;00m\n\u001b[0;32m    704\u001b[0m elapsed \u001b[39m=\u001b[39m preferred_clock() \u001b[39m-\u001b[39m start\n",
      "File \u001b[1;32mc:\\Users\\HOMANJP20\\AppData\\Local\\Programs\\Python\\Python311\\Lib\\site-packages\\requests\\adapters.py:487\u001b[0m, in \u001b[0;36mHTTPAdapter.send\u001b[1;34m(self, request, stream, timeout, verify, cert, proxies)\u001b[0m\n\u001b[0;32m    484\u001b[0m     timeout \u001b[39m=\u001b[39m TimeoutSauce(connect\u001b[39m=\u001b[39mtimeout, read\u001b[39m=\u001b[39mtimeout)\n\u001b[0;32m    486\u001b[0m \u001b[39mtry\u001b[39;00m:\n\u001b[1;32m--> 487\u001b[0m     resp \u001b[39m=\u001b[39m conn\u001b[39m.\u001b[39;49murlopen(\n\u001b[0;32m    488\u001b[0m         method\u001b[39m=\u001b[39;49mrequest\u001b[39m.\u001b[39;49mmethod,\n\u001b[0;32m    489\u001b[0m         url\u001b[39m=\u001b[39;49murl,\n\u001b[0;32m    490\u001b[0m         body\u001b[39m=\u001b[39;49mrequest\u001b[39m.\u001b[39;49mbody,\n\u001b[0;32m    491\u001b[0m         headers\u001b[39m=\u001b[39;49mrequest\u001b[39m.\u001b[39;49mheaders,\n\u001b[0;32m    492\u001b[0m         redirect\u001b[39m=\u001b[39;49m\u001b[39mFalse\u001b[39;49;00m,\n\u001b[0;32m    493\u001b[0m         assert_same_host\u001b[39m=\u001b[39;49m\u001b[39mFalse\u001b[39;49;00m,\n\u001b[0;32m    494\u001b[0m         preload_content\u001b[39m=\u001b[39;49m\u001b[39mFalse\u001b[39;49;00m,\n\u001b[0;32m    495\u001b[0m         decode_content\u001b[39m=\u001b[39;49m\u001b[39mFalse\u001b[39;49;00m,\n\u001b[0;32m    496\u001b[0m         retries\u001b[39m=\u001b[39;49m\u001b[39mself\u001b[39;49m\u001b[39m.\u001b[39;49mmax_retries,\n\u001b[0;32m    497\u001b[0m         timeout\u001b[39m=\u001b[39;49mtimeout,\n\u001b[0;32m    498\u001b[0m         chunked\u001b[39m=\u001b[39;49mchunked,\n\u001b[0;32m    499\u001b[0m     )\n\u001b[0;32m    501\u001b[0m \u001b[39mexcept\u001b[39;00m (ProtocolError, \u001b[39mOSError\u001b[39;00m) \u001b[39mas\u001b[39;00m err:\n\u001b[0;32m    502\u001b[0m     \u001b[39mraise\u001b[39;00m \u001b[39mConnectionError\u001b[39;00m(err, request\u001b[39m=\u001b[39mrequest)\n",
      "File \u001b[1;32mc:\\Users\\HOMANJP20\\AppData\\Local\\Programs\\Python\\Python311\\Lib\\site-packages\\urllib3\\connectionpool.py:703\u001b[0m, in \u001b[0;36mHTTPConnectionPool.urlopen\u001b[1;34m(self, method, url, body, headers, retries, redirect, assert_same_host, timeout, pool_timeout, release_conn, chunked, body_pos, **response_kw)\u001b[0m\n\u001b[0;32m    700\u001b[0m     \u001b[39mself\u001b[39m\u001b[39m.\u001b[39m_prepare_proxy(conn)\n\u001b[0;32m    702\u001b[0m \u001b[39m# Make the request on the httplib connection object.\u001b[39;00m\n\u001b[1;32m--> 703\u001b[0m httplib_response \u001b[39m=\u001b[39m \u001b[39mself\u001b[39;49m\u001b[39m.\u001b[39;49m_make_request(\n\u001b[0;32m    704\u001b[0m     conn,\n\u001b[0;32m    705\u001b[0m     method,\n\u001b[0;32m    706\u001b[0m     url,\n\u001b[0;32m    707\u001b[0m     timeout\u001b[39m=\u001b[39;49mtimeout_obj,\n\u001b[0;32m    708\u001b[0m     body\u001b[39m=\u001b[39;49mbody,\n\u001b[0;32m    709\u001b[0m     headers\u001b[39m=\u001b[39;49mheaders,\n\u001b[0;32m    710\u001b[0m     chunked\u001b[39m=\u001b[39;49mchunked,\n\u001b[0;32m    711\u001b[0m )\n\u001b[0;32m    713\u001b[0m \u001b[39m# If we're going to release the connection in ``finally:``, then\u001b[39;00m\n\u001b[0;32m    714\u001b[0m \u001b[39m# the response doesn't need to know about the connection. Otherwise\u001b[39;00m\n\u001b[0;32m    715\u001b[0m \u001b[39m# it will also try to release it and we'll have a double-release\u001b[39;00m\n\u001b[0;32m    716\u001b[0m \u001b[39m# mess.\u001b[39;00m\n\u001b[0;32m    717\u001b[0m response_conn \u001b[39m=\u001b[39m conn \u001b[39mif\u001b[39;00m \u001b[39mnot\u001b[39;00m release_conn \u001b[39melse\u001b[39;00m \u001b[39mNone\u001b[39;00m\n",
      "File \u001b[1;32mc:\\Users\\HOMANJP20\\AppData\\Local\\Programs\\Python\\Python311\\Lib\\site-packages\\urllib3\\connectionpool.py:449\u001b[0m, in \u001b[0;36mHTTPConnectionPool._make_request\u001b[1;34m(self, conn, method, url, timeout, chunked, **httplib_request_kw)\u001b[0m\n\u001b[0;32m    444\u001b[0m             httplib_response \u001b[39m=\u001b[39m conn\u001b[39m.\u001b[39mgetresponse()\n\u001b[0;32m    445\u001b[0m         \u001b[39mexcept\u001b[39;00m \u001b[39mBaseException\u001b[39;00m \u001b[39mas\u001b[39;00m e:\n\u001b[0;32m    446\u001b[0m             \u001b[39m# Remove the TypeError from the exception chain in\u001b[39;00m\n\u001b[0;32m    447\u001b[0m             \u001b[39m# Python 3 (including for exceptions like SystemExit).\u001b[39;00m\n\u001b[0;32m    448\u001b[0m             \u001b[39m# Otherwise it looks like a bug in the code.\u001b[39;00m\n\u001b[1;32m--> 449\u001b[0m             six\u001b[39m.\u001b[39;49mraise_from(e, \u001b[39mNone\u001b[39;49;00m)\n\u001b[0;32m    450\u001b[0m \u001b[39mexcept\u001b[39;00m (SocketTimeout, BaseSSLError, SocketError) \u001b[39mas\u001b[39;00m e:\n\u001b[0;32m    451\u001b[0m     \u001b[39mself\u001b[39m\u001b[39m.\u001b[39m_raise_timeout(err\u001b[39m=\u001b[39me, url\u001b[39m=\u001b[39murl, timeout_value\u001b[39m=\u001b[39mread_timeout)\n",
      "File \u001b[1;32m<string>:3\u001b[0m, in \u001b[0;36mraise_from\u001b[1;34m(value, from_value)\u001b[0m\n",
      "File \u001b[1;32mc:\\Users\\HOMANJP20\\AppData\\Local\\Programs\\Python\\Python311\\Lib\\site-packages\\urllib3\\connectionpool.py:444\u001b[0m, in \u001b[0;36mHTTPConnectionPool._make_request\u001b[1;34m(self, conn, method, url, timeout, chunked, **httplib_request_kw)\u001b[0m\n\u001b[0;32m    441\u001b[0m \u001b[39mexcept\u001b[39;00m \u001b[39mTypeError\u001b[39;00m:\n\u001b[0;32m    442\u001b[0m     \u001b[39m# Python 3\u001b[39;00m\n\u001b[0;32m    443\u001b[0m     \u001b[39mtry\u001b[39;00m:\n\u001b[1;32m--> 444\u001b[0m         httplib_response \u001b[39m=\u001b[39m conn\u001b[39m.\u001b[39;49mgetresponse()\n\u001b[0;32m    445\u001b[0m     \u001b[39mexcept\u001b[39;00m \u001b[39mBaseException\u001b[39;00m \u001b[39mas\u001b[39;00m e:\n\u001b[0;32m    446\u001b[0m         \u001b[39m# Remove the TypeError from the exception chain in\u001b[39;00m\n\u001b[0;32m    447\u001b[0m         \u001b[39m# Python 3 (including for exceptions like SystemExit).\u001b[39;00m\n\u001b[0;32m    448\u001b[0m         \u001b[39m# Otherwise it looks like a bug in the code.\u001b[39;00m\n\u001b[0;32m    449\u001b[0m         six\u001b[39m.\u001b[39mraise_from(e, \u001b[39mNone\u001b[39;00m)\n",
      "File \u001b[1;32mc:\\Users\\HOMANJP20\\AppData\\Local\\Programs\\Python\\Python311\\Lib\\http\\client.py:1374\u001b[0m, in \u001b[0;36mHTTPConnection.getresponse\u001b[1;34m(self)\u001b[0m\n\u001b[0;32m   1372\u001b[0m \u001b[39mtry\u001b[39;00m:\n\u001b[0;32m   1373\u001b[0m     \u001b[39mtry\u001b[39;00m:\n\u001b[1;32m-> 1374\u001b[0m         response\u001b[39m.\u001b[39;49mbegin()\n\u001b[0;32m   1375\u001b[0m     \u001b[39mexcept\u001b[39;00m \u001b[39mConnectionError\u001b[39;00m:\n\u001b[0;32m   1376\u001b[0m         \u001b[39mself\u001b[39m\u001b[39m.\u001b[39mclose()\n",
      "File \u001b[1;32mc:\\Users\\HOMANJP20\\AppData\\Local\\Programs\\Python\\Python311\\Lib\\http\\client.py:318\u001b[0m, in \u001b[0;36mHTTPResponse.begin\u001b[1;34m(self)\u001b[0m\n\u001b[0;32m    316\u001b[0m \u001b[39m# read until we get a non-100 response\u001b[39;00m\n\u001b[0;32m    317\u001b[0m \u001b[39mwhile\u001b[39;00m \u001b[39mTrue\u001b[39;00m:\n\u001b[1;32m--> 318\u001b[0m     version, status, reason \u001b[39m=\u001b[39m \u001b[39mself\u001b[39;49m\u001b[39m.\u001b[39;49m_read_status()\n\u001b[0;32m    319\u001b[0m     \u001b[39mif\u001b[39;00m status \u001b[39m!=\u001b[39m CONTINUE:\n\u001b[0;32m    320\u001b[0m         \u001b[39mbreak\u001b[39;00m\n",
      "File \u001b[1;32mc:\\Users\\HOMANJP20\\AppData\\Local\\Programs\\Python\\Python311\\Lib\\http\\client.py:279\u001b[0m, in \u001b[0;36mHTTPResponse._read_status\u001b[1;34m(self)\u001b[0m\n\u001b[0;32m    278\u001b[0m \u001b[39mdef\u001b[39;00m \u001b[39m_read_status\u001b[39m(\u001b[39mself\u001b[39m):\n\u001b[1;32m--> 279\u001b[0m     line \u001b[39m=\u001b[39m \u001b[39mstr\u001b[39m(\u001b[39mself\u001b[39m\u001b[39m.\u001b[39mfp\u001b[39m.\u001b[39mreadline(_MAXLINE \u001b[39m+\u001b[39m \u001b[39m1\u001b[39m), \u001b[39m\"\u001b[39m\u001b[39miso-8859-1\u001b[39m\u001b[39m\"\u001b[39m)\n\u001b[0;32m    280\u001b[0m     \u001b[39mif\u001b[39;00m \u001b[39mlen\u001b[39m(line) \u001b[39m>\u001b[39m _MAXLINE:\n\u001b[0;32m    281\u001b[0m         \u001b[39mraise\u001b[39;00m LineTooLong(\u001b[39m\"\u001b[39m\u001b[39mstatus line\u001b[39m\u001b[39m\"\u001b[39m)\n",
      "File \u001b[1;32mc:\\Users\\HOMANJP20\\AppData\\Local\\Programs\\Python\\Python311\\Lib\\socket.py:706\u001b[0m, in \u001b[0;36mSocketIO.readinto\u001b[1;34m(self, b)\u001b[0m\n\u001b[0;32m    704\u001b[0m \u001b[39mwhile\u001b[39;00m \u001b[39mTrue\u001b[39;00m:\n\u001b[0;32m    705\u001b[0m     \u001b[39mtry\u001b[39;00m:\n\u001b[1;32m--> 706\u001b[0m         \u001b[39mreturn\u001b[39;00m \u001b[39mself\u001b[39;49m\u001b[39m.\u001b[39;49m_sock\u001b[39m.\u001b[39;49mrecv_into(b)\n\u001b[0;32m    707\u001b[0m     \u001b[39mexcept\u001b[39;00m timeout:\n\u001b[0;32m    708\u001b[0m         \u001b[39mself\u001b[39m\u001b[39m.\u001b[39m_timeout_occurred \u001b[39m=\u001b[39m \u001b[39mTrue\u001b[39;00m\n",
      "File \u001b[1;32mc:\\Users\\HOMANJP20\\AppData\\Local\\Programs\\Python\\Python311\\Lib\\ssl.py:1278\u001b[0m, in \u001b[0;36mSSLSocket.recv_into\u001b[1;34m(self, buffer, nbytes, flags)\u001b[0m\n\u001b[0;32m   1274\u001b[0m     \u001b[39mif\u001b[39;00m flags \u001b[39m!=\u001b[39m \u001b[39m0\u001b[39m:\n\u001b[0;32m   1275\u001b[0m         \u001b[39mraise\u001b[39;00m \u001b[39mValueError\u001b[39;00m(\n\u001b[0;32m   1276\u001b[0m           \u001b[39m\"\u001b[39m\u001b[39mnon-zero flags not allowed in calls to recv_into() on \u001b[39m\u001b[39m%s\u001b[39;00m\u001b[39m\"\u001b[39m \u001b[39m%\u001b[39m\n\u001b[0;32m   1277\u001b[0m           \u001b[39mself\u001b[39m\u001b[39m.\u001b[39m\u001b[39m__class__\u001b[39m)\n\u001b[1;32m-> 1278\u001b[0m     \u001b[39mreturn\u001b[39;00m \u001b[39mself\u001b[39;49m\u001b[39m.\u001b[39;49mread(nbytes, buffer)\n\u001b[0;32m   1279\u001b[0m \u001b[39melse\u001b[39;00m:\n\u001b[0;32m   1280\u001b[0m     \u001b[39mreturn\u001b[39;00m \u001b[39msuper\u001b[39m()\u001b[39m.\u001b[39mrecv_into(buffer, nbytes, flags)\n",
      "File \u001b[1;32mc:\\Users\\HOMANJP20\\AppData\\Local\\Programs\\Python\\Python311\\Lib\\ssl.py:1134\u001b[0m, in \u001b[0;36mSSLSocket.read\u001b[1;34m(self, len, buffer)\u001b[0m\n\u001b[0;32m   1132\u001b[0m \u001b[39mtry\u001b[39;00m:\n\u001b[0;32m   1133\u001b[0m     \u001b[39mif\u001b[39;00m buffer \u001b[39mis\u001b[39;00m \u001b[39mnot\u001b[39;00m \u001b[39mNone\u001b[39;00m:\n\u001b[1;32m-> 1134\u001b[0m         \u001b[39mreturn\u001b[39;00m \u001b[39mself\u001b[39;49m\u001b[39m.\u001b[39;49m_sslobj\u001b[39m.\u001b[39;49mread(\u001b[39mlen\u001b[39;49m, buffer)\n\u001b[0;32m   1135\u001b[0m     \u001b[39melse\u001b[39;00m:\n\u001b[0;32m   1136\u001b[0m         \u001b[39mreturn\u001b[39;00m \u001b[39mself\u001b[39m\u001b[39m.\u001b[39m_sslobj\u001b[39m.\u001b[39mread(\u001b[39mlen\u001b[39m)\n",
      "\u001b[1;31mKeyboardInterrupt\u001b[0m: "
     ]
    }
   ],
   "source": [
    "\n",
    "\n",
    "df_for_api_call = exp_stats[exp_stats.Year == 2023].drop_duplicates(subset=['Name'], keep=False)\n",
    "player_season = pd.DataFrame()\n",
    "player_career = pd.DataFrame()\n",
    "\n",
    "for playerID in df_for_api_call['ID']:\n",
    "    #f.write(api.player_stats(playerID, group='hitting', type='season'))\n",
    "    season_data = parse_player_api_data(api.player_stats(playerID, group='hitting', type='season'))\n",
    "    career_data = parse_player_api_data(api.player_stats(playerID, group='hitting', type='career'))\n",
    "    player_season = pd.concat([player_season,season_data])\n",
    "    player_career = pd.concat([player_career, career_data])\n",
    "\n",
    "#display(player_season)\n",
    "#display(player_career)"
   ]
  },
  {
   "cell_type": "code",
   "execution_count": null,
   "metadata": {},
   "outputs": [
    {
     "data": {
      "text/html": [
       "<div>\n",
       "<style scoped>\n",
       "    .dataframe tbody tr th:only-of-type {\n",
       "        vertical-align: middle;\n",
       "    }\n",
       "\n",
       "    .dataframe tbody tr th {\n",
       "        vertical-align: top;\n",
       "    }\n",
       "\n",
       "    .dataframe thead th {\n",
       "        text-align: right;\n",
       "    }\n",
       "</style>\n",
       "<table border=\"1\" class=\"dataframe\">\n",
       "  <thead>\n",
       "    <tr style=\"text-align: right;\">\n",
       "      <th></th>\n",
       "      <th>gamesPlayed</th>\n",
       "      <th>groundOuts</th>\n",
       "      <th>airOuts</th>\n",
       "      <th>runs</th>\n",
       "      <th>doubles</th>\n",
       "      <th>triples</th>\n",
       "      <th>homeRuns</th>\n",
       "      <th>strikeOuts</th>\n",
       "      <th>baseOnBalls</th>\n",
       "      <th>intentionalWalks</th>\n",
       "      <th>...</th>\n",
       "      <th>totalBases</th>\n",
       "      <th>rbi</th>\n",
       "      <th>leftOnBase</th>\n",
       "      <th>sacBunts</th>\n",
       "      <th>sacFlies</th>\n",
       "      <th>babip</th>\n",
       "      <th>groundOutsToAirouts</th>\n",
       "      <th>catchersInterference</th>\n",
       "      <th>atBatsPerHomeRun</th>\n",
       "      <th>FullName</th>\n",
       "    </tr>\n",
       "  </thead>\n",
       "  <tbody>\n",
       "    <tr>\n",
       "      <th>0</th>\n",
       "      <td>36</td>\n",
       "      <td>31</td>\n",
       "      <td>43</td>\n",
       "      <td>27</td>\n",
       "      <td>10</td>\n",
       "      <td>0</td>\n",
       "      <td>5</td>\n",
       "      <td>28</td>\n",
       "      <td>17</td>\n",
       "      <td>2</td>\n",
       "      <td>...</td>\n",
       "      <td>66</td>\n",
       "      <td>14</td>\n",
       "      <td>52</td>\n",
       "      <td>0</td>\n",
       "      <td>2</td>\n",
       "      <td>.327</td>\n",
       "      <td>0.72</td>\n",
       "      <td>0</td>\n",
       "      <td>28.20</td>\n",
       "      <td>Freddie  Freeman</td>\n",
       "    </tr>\n",
       "    <tr>\n",
       "      <th>0</th>\n",
       "      <td>35</td>\n",
       "      <td>40</td>\n",
       "      <td>35</td>\n",
       "      <td>27</td>\n",
       "      <td>10</td>\n",
       "      <td>1</td>\n",
       "      <td>5</td>\n",
       "      <td>20</td>\n",
       "      <td>13</td>\n",
       "      <td>1</td>\n",
       "      <td>...</td>\n",
       "      <td>69</td>\n",
       "      <td>18</td>\n",
       "      <td>47</td>\n",
       "      <td>0</td>\n",
       "      <td>0</td>\n",
       "      <td>.330</td>\n",
       "      <td>1.14</td>\n",
       "      <td>0</td>\n",
       "      <td>27.40</td>\n",
       "      <td>Alex  Verdugo</td>\n",
       "    </tr>\n",
       "    <tr>\n",
       "      <th>0</th>\n",
       "      <td>35</td>\n",
       "      <td>40</td>\n",
       "      <td>46</td>\n",
       "      <td>18</td>\n",
       "      <td>5</td>\n",
       "      <td>1</td>\n",
       "      <td>1</td>\n",
       "      <td>16</td>\n",
       "      <td>20</td>\n",
       "      <td>2</td>\n",
       "      <td>...</td>\n",
       "      <td>48</td>\n",
       "      <td>12</td>\n",
       "      <td>53</td>\n",
       "      <td>0</td>\n",
       "      <td>2</td>\n",
       "      <td>.301</td>\n",
       "      <td>0.87</td>\n",
       "      <td>0</td>\n",
       "      <td>138.00</td>\n",
       "      <td>Steven Kwan</td>\n",
       "    </tr>\n",
       "    <tr>\n",
       "      <th>0</th>\n",
       "      <td>35</td>\n",
       "      <td>49</td>\n",
       "      <td>40</td>\n",
       "      <td>25</td>\n",
       "      <td>6</td>\n",
       "      <td>1</td>\n",
       "      <td>2</td>\n",
       "      <td>17</td>\n",
       "      <td>9</td>\n",
       "      <td>0</td>\n",
       "      <td>...</td>\n",
       "      <td>60</td>\n",
       "      <td>19</td>\n",
       "      <td>43</td>\n",
       "      <td>0</td>\n",
       "      <td>1</td>\n",
       "      <td>.331</td>\n",
       "      <td>1.23</td>\n",
       "      <td>0</td>\n",
       "      <td>75.50</td>\n",
       "      <td>Nico Hoerner</td>\n",
       "    </tr>\n",
       "    <tr>\n",
       "      <th>0</th>\n",
       "      <td>35</td>\n",
       "      <td>28</td>\n",
       "      <td>42</td>\n",
       "      <td>21</td>\n",
       "      <td>6</td>\n",
       "      <td>2</td>\n",
       "      <td>4</td>\n",
       "      <td>39</td>\n",
       "      <td>9</td>\n",
       "      <td>2</td>\n",
       "      <td>...</td>\n",
       "      <td>61</td>\n",
       "      <td>9</td>\n",
       "      <td>54</td>\n",
       "      <td>0</td>\n",
       "      <td>0</td>\n",
       "      <td>.333</td>\n",
       "      <td>0.67</td>\n",
       "      <td>0</td>\n",
       "      <td>37.00</td>\n",
       "      <td>Trea  Turner</td>\n",
       "    </tr>\n",
       "    <tr>\n",
       "      <th>...</th>\n",
       "      <td>...</td>\n",
       "      <td>...</td>\n",
       "      <td>...</td>\n",
       "      <td>...</td>\n",
       "      <td>...</td>\n",
       "      <td>...</td>\n",
       "      <td>...</td>\n",
       "      <td>...</td>\n",
       "      <td>...</td>\n",
       "      <td>...</td>\n",
       "      <td>...</td>\n",
       "      <td>...</td>\n",
       "      <td>...</td>\n",
       "      <td>...</td>\n",
       "      <td>...</td>\n",
       "      <td>...</td>\n",
       "      <td>...</td>\n",
       "      <td>...</td>\n",
       "      <td>...</td>\n",
       "      <td>...</td>\n",
       "      <td>...</td>\n",
       "    </tr>\n",
       "    <tr>\n",
       "      <th>0</th>\n",
       "      <td>28</td>\n",
       "      <td>17</td>\n",
       "      <td>20</td>\n",
       "      <td>12</td>\n",
       "      <td>5</td>\n",
       "      <td>0</td>\n",
       "      <td>2</td>\n",
       "      <td>19</td>\n",
       "      <td>10</td>\n",
       "      <td>0</td>\n",
       "      <td>...</td>\n",
       "      <td>30</td>\n",
       "      <td>6</td>\n",
       "      <td>26</td>\n",
       "      <td>1</td>\n",
       "      <td>1</td>\n",
       "      <td>.321</td>\n",
       "      <td>0.85</td>\n",
       "      <td>0</td>\n",
       "      <td>36.50</td>\n",
       "      <td>Zach McKinstry</td>\n",
       "    </tr>\n",
       "    <tr>\n",
       "      <th>0</th>\n",
       "      <td>25</td>\n",
       "      <td>8</td>\n",
       "      <td>10</td>\n",
       "      <td>11</td>\n",
       "      <td>5</td>\n",
       "      <td>0</td>\n",
       "      <td>3</td>\n",
       "      <td>29</td>\n",
       "      <td>6</td>\n",
       "      <td>0</td>\n",
       "      <td>...</td>\n",
       "      <td>31</td>\n",
       "      <td>6</td>\n",
       "      <td>23</td>\n",
       "      <td>0</td>\n",
       "      <td>0</td>\n",
       "      <td>.438</td>\n",
       "      <td>0.80</td>\n",
       "      <td>0</td>\n",
       "      <td>21.33</td>\n",
       "      <td>Sam Hilliard</td>\n",
       "    </tr>\n",
       "    <tr>\n",
       "      <th>0</th>\n",
       "      <td>20</td>\n",
       "      <td>18</td>\n",
       "      <td>11</td>\n",
       "      <td>9</td>\n",
       "      <td>1</td>\n",
       "      <td>0</td>\n",
       "      <td>0</td>\n",
       "      <td>25</td>\n",
       "      <td>8</td>\n",
       "      <td>0</td>\n",
       "      <td>...</td>\n",
       "      <td>9</td>\n",
       "      <td>2</td>\n",
       "      <td>37</td>\n",
       "      <td>0</td>\n",
       "      <td>0</td>\n",
       "      <td>.216</td>\n",
       "      <td>1.64</td>\n",
       "      <td>0</td>\n",
       "      <td>-.--</td>\n",
       "      <td>David Hensley</td>\n",
       "    </tr>\n",
       "    <tr>\n",
       "      <th>0</th>\n",
       "      <td>20</td>\n",
       "      <td>21</td>\n",
       "      <td>19</td>\n",
       "      <td>8</td>\n",
       "      <td>2</td>\n",
       "      <td>1</td>\n",
       "      <td>3</td>\n",
       "      <td>15</td>\n",
       "      <td>4</td>\n",
       "      <td>0</td>\n",
       "      <td>...</td>\n",
       "      <td>23</td>\n",
       "      <td>9</td>\n",
       "      <td>45</td>\n",
       "      <td>1</td>\n",
       "      <td>1</td>\n",
       "      <td>.152</td>\n",
       "      <td>1.11</td>\n",
       "      <td>0</td>\n",
       "      <td>21.00</td>\n",
       "      <td>Eduardo  Escobar</td>\n",
       "    </tr>\n",
       "    <tr>\n",
       "      <th>0</th>\n",
       "      <td>16</td>\n",
       "      <td>10</td>\n",
       "      <td>9</td>\n",
       "      <td>9</td>\n",
       "      <td>1</td>\n",
       "      <td>1</td>\n",
       "      <td>3</td>\n",
       "      <td>24</td>\n",
       "      <td>4</td>\n",
       "      <td>0</td>\n",
       "      <td>...</td>\n",
       "      <td>27</td>\n",
       "      <td>6</td>\n",
       "      <td>27</td>\n",
       "      <td>0</td>\n",
       "      <td>0</td>\n",
       "      <td>.387</td>\n",
       "      <td>1.11</td>\n",
       "      <td>0</td>\n",
       "      <td>19.33</td>\n",
       "      <td>Garrett Mitchell</td>\n",
       "    </tr>\n",
       "  </tbody>\n",
       "</table>\n",
       "<p>274 rows × 33 columns</p>\n",
       "</div>"
      ],
      "text/plain": [
       "    gamesPlayed  groundOuts airOuts  runs  doubles  triples  homeRuns   \n",
       "0            36          31      43    27       10        0         5  \\\n",
       "0            35          40      35    27       10        1         5   \n",
       "0            35          40      46    18        5        1         1   \n",
       "0            35          49      40    25        6        1         2   \n",
       "0            35          28      42    21        6        2         4   \n",
       "..          ...         ...     ...   ...      ...      ...       ...   \n",
       "0            28          17      20    12        5        0         2   \n",
       "0            25           8      10    11        5        0         3   \n",
       "0            20          18      11     9        1        0         0   \n",
       "0            20          21      19     8        2        1         3   \n",
       "0            16          10       9     9        1        1         3   \n",
       "\n",
       "    strikeOuts  baseOnBalls  intentionalWalks  ...  totalBases  rbi   \n",
       "0           28           17                 2  ...          66   14  \\\n",
       "0           20           13                 1  ...          69   18   \n",
       "0           16           20                 2  ...          48   12   \n",
       "0           17            9                 0  ...          60   19   \n",
       "0           39            9                 2  ...          61    9   \n",
       "..         ...          ...               ...  ...         ...  ...   \n",
       "0           19           10                 0  ...          30    6   \n",
       "0           29            6                 0  ...          31    6   \n",
       "0           25            8                 0  ...           9    2   \n",
       "0           15            4                 0  ...          23    9   \n",
       "0           24            4                 0  ...          27    6   \n",
       "\n",
       "   leftOnBase  sacBunts sacFlies babip groundOutsToAirouts   \n",
       "0          52         0        2  .327                0.72  \\\n",
       "0          47         0        0  .330                1.14   \n",
       "0          53         0        2  .301                0.87   \n",
       "0          43         0        1  .331                1.23   \n",
       "0          54         0        0  .333                0.67   \n",
       "..        ...       ...      ...   ...                 ...   \n",
       "0          26         1        1  .321                0.85   \n",
       "0          23         0        0  .438                0.80   \n",
       "0          37         0        0  .216                1.64   \n",
       "0          45         1        1  .152                1.11   \n",
       "0          27         0        0  .387                1.11   \n",
       "\n",
       "    catchersInterference  atBatsPerHomeRun          FullName  \n",
       "0                      0             28.20  Freddie  Freeman  \n",
       "0                      0             27.40     Alex  Verdugo  \n",
       "0                      0            138.00       Steven Kwan  \n",
       "0                      0             75.50      Nico Hoerner  \n",
       "0                      0             37.00      Trea  Turner  \n",
       "..                   ...               ...               ...  \n",
       "0                      0             36.50    Zach McKinstry  \n",
       "0                      0             21.33      Sam Hilliard  \n",
       "0                      0              -.--     David Hensley  \n",
       "0                      0             21.00  Eduardo  Escobar  \n",
       "0                      0             19.33  Garrett Mitchell  \n",
       "\n",
       "[274 rows x 33 columns]"
      ]
     },
     "metadata": {},
     "output_type": "display_data"
    },
    {
     "data": {
      "text/html": [
       "<div>\n",
       "<style scoped>\n",
       "    .dataframe tbody tr th:only-of-type {\n",
       "        vertical-align: middle;\n",
       "    }\n",
       "\n",
       "    .dataframe tbody tr th {\n",
       "        vertical-align: top;\n",
       "    }\n",
       "\n",
       "    .dataframe thead th {\n",
       "        text-align: right;\n",
       "    }\n",
       "</style>\n",
       "<table border=\"1\" class=\"dataframe\">\n",
       "  <thead>\n",
       "    <tr style=\"text-align: right;\">\n",
       "      <th></th>\n",
       "      <th>gamesPlayed</th>\n",
       "      <th>groundOuts</th>\n",
       "      <th>airOuts</th>\n",
       "      <th>runs</th>\n",
       "      <th>doubles</th>\n",
       "      <th>triples</th>\n",
       "      <th>homeRuns</th>\n",
       "      <th>strikeOuts</th>\n",
       "      <th>baseOnBalls</th>\n",
       "      <th>intentionalWalks</th>\n",
       "      <th>...</th>\n",
       "      <th>totalBases</th>\n",
       "      <th>rbi</th>\n",
       "      <th>leftOnBase</th>\n",
       "      <th>sacBunts</th>\n",
       "      <th>sacFlies</th>\n",
       "      <th>babip</th>\n",
       "      <th>groundOutsToAirouts</th>\n",
       "      <th>catchersInterference</th>\n",
       "      <th>atBatsPerHomeRun</th>\n",
       "      <th>FullName</th>\n",
       "    </tr>\n",
       "  </thead>\n",
       "  <tbody>\n",
       "    <tr>\n",
       "      <th>0</th>\n",
       "      <td>1760</td>\n",
       "      <td>1500</td>\n",
       "      <td>1684</td>\n",
       "      <td>1113</td>\n",
       "      <td>424</td>\n",
       "      <td>27</td>\n",
       "      <td>297</td>\n",
       "      <td>1442</td>\n",
       "      <td>877</td>\n",
       "      <td>116</td>\n",
       "      <td>...</td>\n",
       "      <td>3313</td>\n",
       "      <td>1055</td>\n",
       "      <td>2444</td>\n",
       "      <td>0</td>\n",
       "      <td>50</td>\n",
       "      <td>.341</td>\n",
       "      <td>0.89</td>\n",
       "      <td>0</td>\n",
       "      <td>21.95</td>\n",
       "      <td>Freddie  Freeman</td>\n",
       "    </tr>\n",
       "    <tr>\n",
       "      <th>0</th>\n",
       "      <td>544</td>\n",
       "      <td>601</td>\n",
       "      <td>470</td>\n",
       "      <td>281</td>\n",
       "      <td>125</td>\n",
       "      <td>6</td>\n",
       "      <td>49</td>\n",
       "      <td>314</td>\n",
       "      <td>159</td>\n",
       "      <td>11</td>\n",
       "      <td>...</td>\n",
       "      <td>836</td>\n",
       "      <td>219</td>\n",
       "      <td>790</td>\n",
       "      <td>1</td>\n",
       "      <td>18</td>\n",
       "      <td>.320</td>\n",
       "      <td>1.28</td>\n",
       "      <td>0</td>\n",
       "      <td>39.14</td>\n",
       "      <td>Alex  Verdugo</td>\n",
       "    </tr>\n",
       "    <tr>\n",
       "      <th>0</th>\n",
       "      <td>182</td>\n",
       "      <td>189</td>\n",
       "      <td>238</td>\n",
       "      <td>107</td>\n",
       "      <td>30</td>\n",
       "      <td>8</td>\n",
       "      <td>7</td>\n",
       "      <td>76</td>\n",
       "      <td>82</td>\n",
       "      <td>4</td>\n",
       "      <td>...</td>\n",
       "      <td>273</td>\n",
       "      <td>64</td>\n",
       "      <td>270</td>\n",
       "      <td>2</td>\n",
       "      <td>6</td>\n",
       "      <td>.319</td>\n",
       "      <td>0.79</td>\n",
       "      <td>0</td>\n",
       "      <td>100.14</td>\n",
       "      <td>Steven Kwan</td>\n",
       "    </tr>\n",
       "    <tr>\n",
       "      <th>0</th>\n",
       "      <td>282</td>\n",
       "      <td>297</td>\n",
       "      <td>271</td>\n",
       "      <td>130</td>\n",
       "      <td>43</td>\n",
       "      <td>7</td>\n",
       "      <td>15</td>\n",
       "      <td>134</td>\n",
       "      <td>69</td>\n",
       "      <td>8</td>\n",
       "      <td>...</td>\n",
       "      <td>374</td>\n",
       "      <td>120</td>\n",
       "      <td>346</td>\n",
       "      <td>0</td>\n",
       "      <td>7</td>\n",
       "      <td>.312</td>\n",
       "      <td>1.10</td>\n",
       "      <td>1</td>\n",
       "      <td>64.47</td>\n",
       "      <td>Nico Hoerner</td>\n",
       "    </tr>\n",
       "    <tr>\n",
       "      <th>0</th>\n",
       "      <td>884</td>\n",
       "      <td>894</td>\n",
       "      <td>913</td>\n",
       "      <td>607</td>\n",
       "      <td>197</td>\n",
       "      <td>38</td>\n",
       "      <td>128</td>\n",
       "      <td>712</td>\n",
       "      <td>277</td>\n",
       "      <td>10</td>\n",
       "      <td>...</td>\n",
       "      <td>1729</td>\n",
       "      <td>443</td>\n",
       "      <td>1189</td>\n",
       "      <td>2</td>\n",
       "      <td>17</td>\n",
       "      <td>.343</td>\n",
       "      <td>0.98</td>\n",
       "      <td>2</td>\n",
       "      <td>27.91</td>\n",
       "      <td>Trea  Turner</td>\n",
       "    </tr>\n",
       "    <tr>\n",
       "      <th>...</th>\n",
       "      <td>...</td>\n",
       "      <td>...</td>\n",
       "      <td>...</td>\n",
       "      <td>...</td>\n",
       "      <td>...</td>\n",
       "      <td>...</td>\n",
       "      <td>...</td>\n",
       "      <td>...</td>\n",
       "      <td>...</td>\n",
       "      <td>...</td>\n",
       "      <td>...</td>\n",
       "      <td>...</td>\n",
       "      <td>...</td>\n",
       "      <td>...</td>\n",
       "      <td>...</td>\n",
       "      <td>...</td>\n",
       "      <td>...</td>\n",
       "      <td>...</td>\n",
       "      <td>...</td>\n",
       "      <td>...</td>\n",
       "      <td>...</td>\n",
       "    </tr>\n",
       "    <tr>\n",
       "      <th>0</th>\n",
       "      <td>149</td>\n",
       "      <td>100</td>\n",
       "      <td>99</td>\n",
       "      <td>53</td>\n",
       "      <td>21</td>\n",
       "      <td>3</td>\n",
       "      <td>14</td>\n",
       "      <td>124</td>\n",
       "      <td>36</td>\n",
       "      <td>1</td>\n",
       "      <td>...</td>\n",
       "      <td>157</td>\n",
       "      <td>49</td>\n",
       "      <td>173</td>\n",
       "      <td>4</td>\n",
       "      <td>3</td>\n",
       "      <td>.275</td>\n",
       "      <td>1.01</td>\n",
       "      <td>0</td>\n",
       "      <td>28.86</td>\n",
       "      <td>Zach McKinstry</td>\n",
       "    </tr>\n",
       "    <tr>\n",
       "      <th>0</th>\n",
       "      <td>239</td>\n",
       "      <td>135</td>\n",
       "      <td>125</td>\n",
       "      <td>95</td>\n",
       "      <td>24</td>\n",
       "      <td>7</td>\n",
       "      <td>32</td>\n",
       "      <td>238</td>\n",
       "      <td>70</td>\n",
       "      <td>3</td>\n",
       "      <td>...</td>\n",
       "      <td>272</td>\n",
       "      <td>77</td>\n",
       "      <td>271</td>\n",
       "      <td>0</td>\n",
       "      <td>2</td>\n",
       "      <td>.290</td>\n",
       "      <td>1.08</td>\n",
       "      <td>0</td>\n",
       "      <td>19.81</td>\n",
       "      <td>Sam Hilliard</td>\n",
       "    </tr>\n",
       "    <tr>\n",
       "      <th>0</th>\n",
       "      <td>36</td>\n",
       "      <td>27</td>\n",
       "      <td>15</td>\n",
       "      <td>16</td>\n",
       "      <td>3</td>\n",
       "      <td>1</td>\n",
       "      <td>1</td>\n",
       "      <td>31</td>\n",
       "      <td>13</td>\n",
       "      <td>0</td>\n",
       "      <td>...</td>\n",
       "      <td>26</td>\n",
       "      <td>7</td>\n",
       "      <td>50</td>\n",
       "      <td>0</td>\n",
       "      <td>0</td>\n",
       "      <td>.288</td>\n",
       "      <td>1.80</td>\n",
       "      <td>0</td>\n",
       "      <td>91.00</td>\n",
       "      <td>David Hensley</td>\n",
       "    </tr>\n",
       "    <tr>\n",
       "      <th>0</th>\n",
       "      <td>1284</td>\n",
       "      <td>995</td>\n",
       "      <td>1416</td>\n",
       "      <td>569</td>\n",
       "      <td>243</td>\n",
       "      <td>42</td>\n",
       "      <td>161</td>\n",
       "      <td>980</td>\n",
       "      <td>337</td>\n",
       "      <td>25</td>\n",
       "      <td>...</td>\n",
       "      <td>1940</td>\n",
       "      <td>614</td>\n",
       "      <td>1996</td>\n",
       "      <td>14</td>\n",
       "      <td>41</td>\n",
       "      <td>.288</td>\n",
       "      <td>0.70</td>\n",
       "      <td>0</td>\n",
       "      <td>27.74</td>\n",
       "      <td>Eduardo  Escobar</td>\n",
       "    </tr>\n",
       "    <tr>\n",
       "      <th>0</th>\n",
       "      <td>44</td>\n",
       "      <td>17</td>\n",
       "      <td>17</td>\n",
       "      <td>18</td>\n",
       "      <td>4</td>\n",
       "      <td>1</td>\n",
       "      <td>5</td>\n",
       "      <td>52</td>\n",
       "      <td>10</td>\n",
       "      <td>0</td>\n",
       "      <td>...</td>\n",
       "      <td>55</td>\n",
       "      <td>15</td>\n",
       "      <td>55</td>\n",
       "      <td>1</td>\n",
       "      <td>0</td>\n",
       "      <td>.468</td>\n",
       "      <td>1.00</td>\n",
       "      <td>0</td>\n",
       "      <td>23.80</td>\n",
       "      <td>Garrett Mitchell</td>\n",
       "    </tr>\n",
       "  </tbody>\n",
       "</table>\n",
       "<p>274 rows × 33 columns</p>\n",
       "</div>"
      ],
      "text/plain": [
       "    gamesPlayed  groundOuts airOuts  runs  doubles  triples  homeRuns   \n",
       "0          1760        1500    1684  1113      424       27       297  \\\n",
       "0           544         601     470   281      125        6        49   \n",
       "0           182         189     238   107       30        8         7   \n",
       "0           282         297     271   130       43        7        15   \n",
       "0           884         894     913   607      197       38       128   \n",
       "..          ...         ...     ...   ...      ...      ...       ...   \n",
       "0           149         100      99    53       21        3        14   \n",
       "0           239         135     125    95       24        7        32   \n",
       "0            36          27      15    16        3        1         1   \n",
       "0          1284         995    1416   569      243       42       161   \n",
       "0            44          17      17    18        4        1         5   \n",
       "\n",
       "    strikeOuts  baseOnBalls  intentionalWalks  ...  totalBases   rbi   \n",
       "0         1442          877               116  ...        3313  1055  \\\n",
       "0          314          159                11  ...         836   219   \n",
       "0           76           82                 4  ...         273    64   \n",
       "0          134           69                 8  ...         374   120   \n",
       "0          712          277                10  ...        1729   443   \n",
       "..         ...          ...               ...  ...         ...   ...   \n",
       "0          124           36                 1  ...         157    49   \n",
       "0          238           70                 3  ...         272    77   \n",
       "0           31           13                 0  ...          26     7   \n",
       "0          980          337                25  ...        1940   614   \n",
       "0           52           10                 0  ...          55    15   \n",
       "\n",
       "   leftOnBase  sacBunts sacFlies babip groundOutsToAirouts   \n",
       "0        2444         0       50  .341                0.89  \\\n",
       "0         790         1       18  .320                1.28   \n",
       "0         270         2        6  .319                0.79   \n",
       "0         346         0        7  .312                1.10   \n",
       "0        1189         2       17  .343                0.98   \n",
       "..        ...       ...      ...   ...                 ...   \n",
       "0         173         4        3  .275                1.01   \n",
       "0         271         0        2  .290                1.08   \n",
       "0          50         0        0  .288                1.80   \n",
       "0        1996        14       41  .288                0.70   \n",
       "0          55         1        0  .468                1.00   \n",
       "\n",
       "    catchersInterference  atBatsPerHomeRun          FullName  \n",
       "0                      0             21.95  Freddie  Freeman  \n",
       "0                      0             39.14     Alex  Verdugo  \n",
       "0                      0            100.14       Steven Kwan  \n",
       "0                      1             64.47      Nico Hoerner  \n",
       "0                      2             27.91      Trea  Turner  \n",
       "..                   ...               ...               ...  \n",
       "0                      0             28.86    Zach McKinstry  \n",
       "0                      0             19.81      Sam Hilliard  \n",
       "0                      0             91.00     David Hensley  \n",
       "0                      0             27.74  Eduardo  Escobar  \n",
       "0                      0             23.80  Garrett Mitchell  \n",
       "\n",
       "[274 rows x 33 columns]"
      ]
     },
     "metadata": {},
     "output_type": "display_data"
    }
   ],
   "source": [
    "#Cleaning dataframes returned from API\n",
    "player_season['FullName'] = player_season['Name'] + ' ' + player_season['LastName']\n",
    "player_career['FullName'] = player_career['Name'] + ' ' + player_career['LastName']\n",
    "player_season = player_season.drop(columns=['Name','LastName'])\n",
    "player_career = player_career.drop(columns=['Name','LastName'])\n",
    "\n",
    "display(player_season)\n",
    "display(player_career)"
   ]
  },
  {
   "cell_type": "code",
   "execution_count": null,
   "metadata": {},
   "outputs": [
    {
     "data": {
      "application/vnd.plotly.v1+json": {
       "config": {
        "plotlyServerURL": "https://plot.ly"
       },
       "data": [
        {
         "alignmentgroup": "True",
         "hovertemplate": "DataType=Season<br>avg=%{x}<br>FullName=%{y}<extra></extra>",
         "legendgroup": "Season",
         "marker": {
          "color": "#636efa",
          "pattern": {
           "shape": ""
          }
         },
         "name": "Season",
         "offsetgroup": "Season",
         "orientation": "v",
         "showlegend": true,
         "textposition": "auto",
         "type": "bar",
         "x": [
          ".138",
          ".143",
          ".143",
          ".145",
          ".147",
          ".149",
          ".153",
          ".157",
          ".161",
          ".161",
          ".161",
          ".161",
          ".169",
          ".171",
          ".171",
          ".172",
          ".174",
          ".176",
          ".177",
          ".179",
          ".180",
          ".182",
          ".186",
          ".186",
          ".188",
          ".191",
          ".191",
          ".193",
          ".194",
          ".194",
          ".195",
          ".196",
          ".200",
          ".200",
          ".200",
          ".202",
          ".205",
          ".205",
          ".205",
          ".206",
          ".206",
          ".208",
          ".208",
          ".208",
          ".209",
          ".210",
          ".211",
          ".211",
          ".212",
          ".213",
          ".213",
          ".213",
          ".215",
          ".215",
          ".216",
          ".217",
          ".217",
          ".219",
          ".219",
          ".219",
          ".220",
          ".220",
          ".221",
          ".221",
          ".221",
          ".222",
          ".222",
          ".222",
          ".222",
          ".222",
          ".222",
          ".223",
          ".224",
          ".224",
          ".224",
          ".224",
          ".224",
          ".226",
          ".226",
          ".226",
          ".226",
          ".227",
          ".227",
          ".227",
          ".227",
          ".228",
          ".228",
          ".228",
          ".229",
          ".229",
          ".230",
          ".231",
          ".231",
          ".231",
          ".232",
          ".232",
          ".233",
          ".235",
          ".235",
          ".235",
          ".235",
          ".235",
          ".236",
          ".236",
          ".236",
          ".236",
          ".236",
          ".236",
          ".237",
          ".237",
          ".238",
          ".239",
          ".239",
          ".239",
          ".239",
          ".239",
          ".239",
          ".240",
          ".241",
          ".241",
          ".242",
          ".242",
          ".243",
          ".243",
          ".244",
          ".244",
          ".244",
          ".245",
          ".245",
          ".245",
          ".246",
          ".246",
          ".246",
          ".246",
          ".246",
          ".246",
          ".248",
          ".248",
          ".248",
          ".250",
          ".250",
          ".250",
          ".250",
          ".250",
          ".250",
          ".250",
          ".253",
          ".253",
          ".253",
          ".254",
          ".255",
          ".256",
          ".256",
          ".256",
          ".257",
          ".257",
          ".258",
          ".258",
          ".258",
          ".258",
          ".258",
          ".259",
          ".259",
          ".259",
          ".259",
          ".259",
          ".260",
          ".260",
          ".261",
          ".261",
          ".262",
          ".263",
          ".263",
          ".264",
          ".264",
          ".264",
          ".265",
          ".265",
          ".267",
          ".267",
          ".267",
          ".268",
          ".269",
          ".269",
          ".270",
          ".270",
          ".270",
          ".271",
          ".271",
          ".272",
          ".272",
          ".273",
          ".274",
          ".274",
          ".274",
          ".274",
          ".274",
          ".274",
          ".275",
          ".275",
          ".275",
          ".276",
          ".276",
          ".277",
          ".277",
          ".278",
          ".278",
          ".279",
          ".280",
          ".281",
          ".282",
          ".283",
          ".284",
          ".284",
          ".284",
          ".286",
          ".286",
          ".286",
          ".287",
          ".288",
          ".289",
          ".289",
          ".289",
          ".290",
          ".291",
          ".291",
          ".292",
          ".292",
          ".292",
          ".293",
          ".293",
          ".294",
          ".294",
          ".294",
          ".296",
          ".296",
          ".297",
          ".298",
          ".298",
          ".299",
          ".299",
          ".300",
          ".301",
          ".302",
          ".302",
          ".303",
          ".303",
          ".304",
          ".305",
          ".307",
          ".309",
          ".309",
          ".310",
          ".311",
          ".313",
          ".313",
          ".315",
          ".317",
          ".320",
          ".322",
          ".324",
          ".324",
          ".324",
          ".325",
          ".326",
          ".328",
          ".333",
          ".337",
          ".338",
          ".342",
          ".355",
          ".364",
          ".409",
          ".432"
         ],
         "xaxis": "x",
         "y": [
          "David Hensley",
          "Jake McCarthy",
          "Josh H. Smith",
          "David Villar",
          "Marcell  Ozuna",
          "Austin Nola",
          "Aledmys  Diaz",
          "Triston Casas",
          "Hunter  Dozier",
          "Nick Maton",
          "Jason Vosler",
          "Brandon  Belt",
          "Brandon  Crawford",
          "Kolten  Wong",
          "Martin  Maldonado",
          "Eduardo  Escobar",
          "Tony  Kemp",
          "Alek Thomas",
          "Danny  Jansen",
          "Michael Massey",
          "MJ Melendez",
          "Gunnar Henderson",
          "Oscar Gonzalez",
          "Franmil  Reyes",
          "Avisail  Garcia",
          "Kyle  Schwarber",
          "Will Brennan",
          "Michael  Conforto",
          "Elvis  Andrus",
          "Kevin Smith",
          "Kyle Isbel",
          "Oswaldo Cabrera",
          "Stuart Fairchild",
          "Jean  Segura",
          "Nicky  Lopez",
          "Jorge  Soler",
          "Jace  Peterson",
          "Chris  Taylor",
          "David  Peralta",
          "Carlos  Correa",
          "Josh  Naylor",
          "Spencer Torkelson",
          "Shea Langeliers",
          "George  Springer",
          "Daulton Varsho",
          "Teoscar  Hernandez",
          "Josh  Bell",
          "Oscar Colas",
          "Alex  Bregman",
          "Joey  Gallo",
          "Joey Wiemer",
          "Luis  Rengifo",
          "Mike  Zunino",
          "Ryan  McMahon",
          "Francisco  Lindor",
          "Kerry Carpenter",
          "Luis Robert",
          "Jurickson  Profar",
          "Ezequiel Tovar",
          "Kevin  Newman",
          "Alec Burleson",
          "Akil Baddoo",
          "Jose Barrero",
          "Anthony Volpe",
          "Ha-Seong Kim",
          "Willy  Adames",
          "Jake  Cave",
          "Bobby Witt",
          "Cal Raleigh",
          "Ryan Noda",
          "Wil Myers",
          "Brandon  Lowe",
          "Starling  Marte",
          "Luke Raley",
          "Jake Burger",
          "Eddie  Rosario",
          "Alex Call",
          "Rafael  Devers",
          "Luis Garcia",
          "Taylor Ward",
          "Adam  Frazier",
          "Christian  Yelich",
          "Juan  Soto",
          "Amed  Rosario",
          "Mark  Canha",
          "Trevor Larnach",
          "Lars Nootbaar",
          "Jeimer  Candelario",
          "Ramon  Laureano",
          "Ke'Bryan Hayes",
          "Jose Miranda",
          "J.P.  Crawford",
          "Julio Rodriguez",
          "Christian Bethancourt",
          "Jose  Abreu",
          "Max  Kepler",
          "Anthony  Santander",
          "Patrick Wisdom",
          "Manny  Machado",
          "Blake Sabol",
          "Jake Fraley",
          "Brandon  Drury",
          "Ty France",
          "Tyler O'Neill",
          "Andres Gimenez",
          "Gleyber  Torres",
          "Jeremy  Pena",
          "Trent  Grisham",
          "Eugenio  Suarez",
          "Miguel Vargas",
          "Brice Turang",
          "Dylan Carlson",
          "Jazz Chisholm",
          "Max  Muncy",
          "Michael A.  Taylor",
          "Eloy  Jimenez",
          "Austin  Riley",
          "Spencer Steer",
          "Jake Cronenworth",
          "Jon  Berti",
          "Matt  Carpenter",
          "CJ Abrams",
          "Enrique Hernandez",
          "Alejandro Kirk",
          "Jake Meyers",
          "Manuel  Margot",
          "Nolan  Arenado",
          "Javier  Baez",
          "Brian  Anderson",
          "Andrew  McCutchen",
          "Matt  Olson",
          "Jose  Trevino",
          "Christian Arroyo",
          "Jason  Heyward",
          "Jesse  Winker",
          "Christian  Vazquez",
          "Cedric Mullins",
          "Pete  Alonso",
          "Keibert Ruiz",
          "Riley Greene",
          "C.J.  Cron",
          "Eric  Hosmer",
          "J.D.  Martinez",
          "Adolis  Garcia",
          "Joc  Pederson",
          "Bryan De La Cruz",
          "Robbie  Grossman",
          "Wilmer  Flores",
          "Tommy  Edman",
          "Hunter  Renfroe",
          "Dominic  Smith",
          "Nathaniel Lowe",
          "LaMonte Wade",
          "Ryan Mountcastle",
          "Jack Suwinski",
          "Myles Straw",
          "Yasmani  Grandal",
          "Isaac Paredes",
          "Zach Neto",
          "Conner Capel",
          "Rowdy Tellez",
          "Andrew Vaughn",
          "Trea  Turner",
          "Kyle Tucker",
          "Ji Hwan Bae",
          "Garrett Mitchell",
          "Anthony  Rendon",
          "DJ  LeMahieu",
          "Aaron  Judge",
          "Brendan Donovan",
          "Byron  Buxton",
          "Ramon Urias",
          "Jesus  Aguilar",
          "Yordan  Alvarez",
          "Christian  Walker",
          "Tyler Stephenson",
          "Esteury Ruiz",
          "Trey  Mancini",
          "Carlos  Santana",
          "Edward Olivares",
          "Ketel  Marte",
          "Seiya Suzuki",
          "Salvador  Perez",
          "Alec Bohm",
          "Mookie Betts",
          "Zach McKinstry",
          "Yonathan  Daza",
          "Sam Hilliard",
          "Daniel  Vogelbach",
          "Garrett  Cooper",
          "J.T.  Realmuto",
          "Justin  Turner",
          "Nolan Gorman",
          "Jordan Walker",
          "Steven Kwan",
          "Eric Haase",
          "Lane  Thomas",
          "Rodolfo Castro",
          "Ozzie  Albies",
          "Josh Jung",
          "Charlie  Blackmon",
          "Lourdes  Gurriel",
          "Andrew  Benintendi",
          "Kevin  Kiermaier",
          "Marcus  Semien",
          "J.D.  Davis",
          "Matt Vierling",
          "Gio Urshela",
          "Joey Meneses",
          "Jonathan India",
          "William Contreras",
          "Willson  Contreras",
          "Donovan  Solano",
          "Corey Julks",
          "Connor Wong",
          "Josh  Rojas",
          "Gabriel Moreno",
          "Jose  Ramirez",
          "Whit  Merrifield",
          "Nick  Senzel",
          "Sean Murphy",
          "Anthony  Rizzo",
          "Dansby  Swanson",
          "James Outman",
          "Xander  Bogaerts",
          "Jeff  McNeil",
          "Vinnie Pasquantino",
          "Connor Joe",
          "Mike  Yastrzemski",
          "Austin Hays",
          "Paul  Goldschmidt",
          "Jonah Heim",
          "Edmundo Sosa",
          "Yan  Gomes",
          "Mike  Trout",
          "Nelson  Cruz",
          "Will  Smith",
          "Cody  Bellinger",
          "Brandon  Nimmo",
          "Taylor Walls",
          "Kris  Bryant",
          "Travis  Jankowski",
          "Nico Hoerner",
          "Ian  Happ",
          "Victor  Robles",
          "Masataka Yoshida",
          "Mauricio Dubon",
          "Bryson Stott",
          "Wander Franco",
          "Shohei  Ohtani",
          "Nick  Castellanos",
          "Jarred Kelenic",
          "Freddie  Freeman",
          "TJ Friedl",
          "Adley Rutschman",
          "Corbin Carroll",
          "Alex  Verdugo",
          "Vladimir  Guerrero",
          "Brent Rooker",
          "Randy Arozarena",
          "Bryan  Reynolds",
          "Yandy  Diaz",
          "Ezequiel Duran",
          "Jorge Mateo",
          "Brandon Marsh",
          "Bo Bichette",
          "Josh Lowe",
          "Elias  Diaz",
          "Harold  Ramirez",
          "Thairo Estrada",
          "Ronald  Acuna",
          "Matt  Chapman",
          "Geraldo Perdomo",
          "Luis  Arraez"
         ],
         "yaxis": "y"
        },
        {
         "alignmentgroup": "True",
         "hovertemplate": "DataType=Career<br>avg=%{x}<br>FullName=%{y}<extra></extra>",
         "legendgroup": "Career",
         "marker": {
          "color": "#EF553B",
          "pattern": {
           "shape": ""
          }
         },
         "name": "Career",
         "offsetgroup": "Career",
         "orientation": "v",
         "showlegend": true,
         "textposition": "auto",
         "type": "bar",
         "x": [
          ".172",
          ".176",
          ".181",
          ".187",
          ".191",
          ".195",
          ".200",
          ".200",
          ".201",
          ".201",
          ".204",
          ".205",
          ".207",
          ".208",
          ".208",
          ".210",
          ".211",
          ".211",
          ".213",
          ".213",
          ".214",
          ".214",
          ".217",
          ".217",
          ".218",
          ".218",
          ".219",
          ".220",
          ".220",
          ".220",
          ".220",
          ".221",
          ".222",
          ".222",
          ".222",
          ".223",
          ".223",
          ".225",
          ".225",
          ".225",
          ".226",
          ".226",
          ".228",
          ".228",
          ".229",
          ".230",
          ".230",
          ".231",
          ".231",
          ".231",
          ".231",
          ".232",
          ".233",
          ".234",
          ".234",
          ".234",
          ".235",
          ".235",
          ".235",
          ".236",
          ".237",
          ".237",
          ".237",
          ".237",
          ".237",
          ".238",
          ".238",
          ".238",
          ".238",
          ".238",
          ".239",
          ".239",
          ".240",
          ".240",
          ".240",
          ".240",
          ".240",
          ".241",
          ".241",
          ".241",
          ".242",
          ".242",
          ".243",
          ".243",
          ".243",
          ".243",
          ".243",
          ".244",
          ".244",
          ".244",
          ".245",
          ".245",
          ".245",
          ".245",
          ".245",
          ".245",
          ".246",
          ".246",
          ".247",
          ".247",
          ".247",
          ".247",
          ".247",
          ".248",
          ".248",
          ".248",
          ".248",
          ".248",
          ".249",
          ".249",
          ".249",
          ".249",
          ".250",
          ".250",
          ".250",
          ".250",
          ".250",
          ".250",
          ".251",
          ".251",
          ".252",
          ".252",
          ".252",
          ".253",
          ".253",
          ".253",
          ".253",
          ".254",
          ".254",
          ".254",
          ".254",
          ".254",
          ".254",
          ".254",
          ".255",
          ".255",
          ".255",
          ".255",
          ".255",
          ".255",
          ".255",
          ".256",
          ".256",
          ".257",
          ".257",
          ".257",
          ".258",
          ".258",
          ".258",
          ".258",
          ".258",
          ".258",
          ".259",
          ".259",
          ".259",
          ".259",
          ".260",
          ".260",
          ".260",
          ".260",
          ".260",
          ".260",
          ".260",
          ".260",
          ".261",
          ".261",
          ".261",
          ".262",
          ".262",
          ".263",
          ".263",
          ".263",
          ".263",
          ".263",
          ".264",
          ".264",
          ".264",
          ".264",
          ".265",
          ".265",
          ".265",
          ".266",
          ".266",
          ".266",
          ".267",
          ".267",
          ".267",
          ".267",
          ".268",
          ".269",
          ".269",
          ".269",
          ".269",
          ".269",
          ".270",
          ".270",
          ".270",
          ".271",
          ".272",
          ".272",
          ".273",
          ".274",
          ".274",
          ".274",
          ".274",
          ".274",
          ".274",
          ".274",
          ".275",
          ".275",
          ".275",
          ".276",
          ".276",
          ".276",
          ".276",
          ".277",
          ".277",
          ".277",
          ".278",
          ".278",
          ".278",
          ".279",
          ".279",
          ".279",
          ".280",
          ".280",
          ".280",
          ".280",
          ".280",
          ".280",
          ".280",
          ".281",
          ".281",
          ".281",
          ".282",
          ".283",
          ".283",
          ".284",
          ".284",
          ".284",
          ".284",
          ".284",
          ".285",
          ".285",
          ".285",
          ".286",
          ".286",
          ".286",
          ".286",
          ".287",
          ".288",
          ".288",
          ".288",
          ".289",
          ".290",
          ".291",
          ".292",
          ".292",
          ".294",
          ".294",
          ".294",
          ".295",
          ".296",
          ".296",
          ".299",
          ".299",
          ".300",
          ".301",
          ".303",
          ".303",
          ".306",
          ".307",
          ".308",
          ".322"
         ],
         "xaxis": "x",
         "y": [
          "Kevin Smith",
          "Triston Casas",
          "Jose Barrero",
          "Josh H. Smith",
          "Jarred Kelenic",
          "Taylor Walls",
          "Mike  Zunino",
          "Joey  Gallo",
          "David Villar",
          "Luke Raley",
          "Spencer Torkelson",
          "Cal Raleigh",
          "David Hensley",
          "Martin  Maldonado",
          "Alec Burleson",
          "Jason Vosler",
          "Oscar Colas",
          "MJ Melendez",
          "Joey Wiemer",
          "Jack Suwinski",
          "Shea Langeliers",
          "Miguel Vargas",
          "Ezequiel Tovar",
          "Isaac Paredes",
          "Zach McKinstry",
          "Sam Hilliard",
          "Patrick Wisdom",
          "Danny  Jansen",
          "Alek Thomas",
          "Daniel  Vogelbach",
          "Kyle Isbel",
          "Anthony Volpe",
          "Michael Massey",
          "Stuart Fairchild",
          "Ryan Noda",
          "Jonah Heim",
          "Trent  Grisham",
          "Jake Fraley",
          "Nick Maton",
          "Geraldo Perdomo",
          "Spencer Steer",
          "Trevor Larnach",
          "Oswaldo Cabrera",
          "Gunnar Henderson",
          "Brent Rooker",
          "Jace  Peterson",
          "Lars Nootbaar",
          "Alex Call",
          "Kyle  Schwarber",
          "Daulton Varsho",
          "Max  Muncy",
          "Max  Kepler",
          "Ha-Seong Kim",
          "LaMonte Wade",
          "Christian Bethancourt",
          "Rodolfo Castro",
          "Blake Sabol",
          "Jake  Cave",
          "Luis  Rengifo",
          "Jorge Mateo",
          "Eric Haase",
          "Joc  Pederson",
          "Yasmani  Grandal",
          "Victor  Robles",
          "Jurickson  Profar",
          "Brice Turang",
          "Kerry Carpenter",
          "Rowdy Tellez",
          "Nolan Gorman",
          "Hunter  Dozier",
          "Travis  Jankowski",
          "Akil Baddoo",
          "Enrique Hernandez",
          "Jeimer  Candelario",
          "Tony  Kemp",
          "Sean Murphy",
          "Jorge  Soler",
          "Hunter  Renfroe",
          "Lane  Thomas",
          "Michael A.  Taylor",
          "Josh Jung",
          "Jazz Chisholm",
          "Jake Meyers",
          "Carlos  Santana",
          "Nick  Senzel",
          "Esteury Ruiz",
          "Ryan  McMahon",
          "Jon  Berti",
          "Adolis  Garcia",
          "Anthony  Santander",
          "Robbie  Grossman",
          "Mike  Yastrzemski",
          "CJ Abrams",
          "Byron  Buxton",
          "Matt  Chapman",
          "Jake Burger",
          "Dominic  Smith",
          "Jose  Trevino",
          "Dylan Carlson",
          "Myles Straw",
          "Yan  Gomes",
          "J.P.  Crawford",
          "Mark  Canha",
          "Christian  Walker",
          "Brandon  Lowe",
          "Kevin  Kiermaier",
          "Elias  Diaz",
          "Bobby Witt",
          "Josh  Naylor",
          "Matt  Olson",
          "Eugenio  Suarez",
          "Franmil  Reyes",
          "Nicky  Lopez",
          "Ramon  Laureano",
          "Connor Wong",
          "Tyler O'Neill",
          "Cody  Bellinger",
          "Jeremy  Pena",
          "Brandon  Drury",
          "Bryson Stott",
          "Ian  Happ",
          "Brandon  Crawford",
          "Mauricio Dubon",
          "Taylor Ward",
          "Eduardo  Escobar",
          "Connor Joe",
          "Michael  Conforto",
          "Willy  Adames",
          "Riley Greene",
          "Manuel  Margot",
          "Wil Myers",
          "Chris  Taylor",
          "Christian Arroyo",
          "Keibert Ruiz",
          "Brian  Anderson",
          "Jake Cronenworth",
          "Marcus  Semien",
          "Will Brennan",
          "Jake McCarthy",
          "Andrew Vaughn",
          "Jesus  Aguilar",
          "Dansby  Swanson",
          "Austin Nola",
          "Jason  Heyward",
          "Ke'Bryan Hayes",
          "Willson  Contreras",
          "Kevin  Newman",
          "Brandon Marsh",
          "Ezequiel Duran",
          "Josh  Rojas",
          "Zach Neto",
          "Edmundo Sosa",
          "Teoscar  Hernandez",
          "Austin Hays",
          "Josh Lowe",
          "Kolten  Wong",
          "Pete  Alonso",
          "Luis Garcia",
          "Ryan Mountcastle",
          "Jose Miranda",
          "Brandon  Belt",
          "Josh  Bell",
          "Javier  Baez",
          "C.J.  Cron",
          "Christian  Vazquez",
          "Edward Olivares",
          "Wilmer  Flores",
          "Cedric Mullins",
          "Aledmys  Diaz",
          "Matt  Carpenter",
          "Matt Vierling",
          "Seiya Suzuki",
          "Will  Smith",
          "Jonathan India",
          "William Contreras",
          "Gleyber  Torres",
          "Ramon Urias",
          "Avisail  Garcia",
          "TJ Friedl",
          "Anthony  Rizzo",
          "Trey  Mancini",
          "Marcell  Ozuna",
          "Bryan De La Cruz",
          "J.D.  Davis",
          "Adley Rutschman",
          "Kyle Tucker",
          "George  Springer",
          "Thairo Estrada",
          "Salvador  Perez",
          "Tommy  Edman",
          "Shohei  Ohtani",
          "Eddie  Rosario",
          "Andres Gimenez",
          "Elvis  Andrus",
          "Jesse  Winker",
          "Brandon  Nimmo",
          "Austin  Riley",
          "Ozzie  Albies",
          "Adam  Frazier",
          "Amed  Rosario",
          "Eloy  Jimenez",
          "Jordan Walker",
          "Garrett  Cooper",
          "Randy Arozarena",
          "Alex  Bregman",
          "Nelson  Cruz",
          "Alejandro Kirk",
          "Julio Rodriguez",
          "Francisco  Lindor",
          "J.T.  Realmuto",
          "Gio Urshela",
          "Eric  Hosmer",
          "Andrew  McCutchen",
          "Alec Bohm",
          "Ty France",
          "Nathaniel Lowe",
          "Nick  Castellanos",
          "Carlos  Correa",
          "Oscar Gonzalez",
          "Brendan Donovan",
          "Donovan  Solano",
          "Jose  Ramirez",
          "Andrew  Benintendi",
          "Ketel  Marte",
          "Yandy  Diaz",
          "Rafael  Devers",
          "Ji Hwan Bae",
          "Conner Capel",
          "David  Peralta",
          "Nico Hoerner",
          "Kris  Bryant",
          "Manny  Machado",
          "Yonathan  Daza",
          "Luis Robert",
          "Ronald  Acuna",
          "Aaron  Judge",
          "Jean  Segura",
          "Bryan  Reynolds",
          "Corey Julks",
          "Juan  Soto",
          "Lourdes  Gurriel",
          "Anthony  Rendon",
          "Christian  Yelich",
          "Harold  Ramirez",
          "Whit  Merrifield",
          "Garrett Mitchell",
          "Wander Franco",
          "Corbin Carroll",
          "Vladimir  Guerrero",
          "J.D.  Martinez",
          "Starling  Marte",
          "Alex  Verdugo",
          "Nolan  Arenado",
          "Justin  Turner",
          "Jose  Abreu",
          "Tyler Stephenson",
          "Xander  Bogaerts",
          "Mookie Betts",
          "Steven Kwan",
          "Yordan  Alvarez",
          "Vinnie Pasquantino",
          "Paul  Goldschmidt",
          "Charlie  Blackmon",
          "DJ  LeMahieu",
          "Freddie  Freeman",
          "Bo Bichette",
          "Trea  Turner",
          "Gabriel Moreno",
          "Masataka Yoshida",
          "Mike  Trout",
          "Jeff  McNeil",
          "Joey Meneses",
          "James Outman",
          "Luis  Arraez"
         ],
         "yaxis": "y"
        }
       ],
       "layout": {
        "barmode": "relative",
        "legend": {
         "title": {
          "text": "DataType"
         },
         "tracegroupgap": 0
        },
        "template": {
         "data": {
          "bar": [
           {
            "error_x": {
             "color": "#2a3f5f"
            },
            "error_y": {
             "color": "#2a3f5f"
            },
            "marker": {
             "line": {
              "color": "#E5ECF6",
              "width": 0.5
             },
             "pattern": {
              "fillmode": "overlay",
              "size": 10,
              "solidity": 0.2
             }
            },
            "type": "bar"
           }
          ],
          "barpolar": [
           {
            "marker": {
             "line": {
              "color": "#E5ECF6",
              "width": 0.5
             },
             "pattern": {
              "fillmode": "overlay",
              "size": 10,
              "solidity": 0.2
             }
            },
            "type": "barpolar"
           }
          ],
          "carpet": [
           {
            "aaxis": {
             "endlinecolor": "#2a3f5f",
             "gridcolor": "white",
             "linecolor": "white",
             "minorgridcolor": "white",
             "startlinecolor": "#2a3f5f"
            },
            "baxis": {
             "endlinecolor": "#2a3f5f",
             "gridcolor": "white",
             "linecolor": "white",
             "minorgridcolor": "white",
             "startlinecolor": "#2a3f5f"
            },
            "type": "carpet"
           }
          ],
          "choropleth": [
           {
            "colorbar": {
             "outlinewidth": 0,
             "ticks": ""
            },
            "type": "choropleth"
           }
          ],
          "contour": [
           {
            "colorbar": {
             "outlinewidth": 0,
             "ticks": ""
            },
            "colorscale": [
             [
              0,
              "#0d0887"
             ],
             [
              0.1111111111111111,
              "#46039f"
             ],
             [
              0.2222222222222222,
              "#7201a8"
             ],
             [
              0.3333333333333333,
              "#9c179e"
             ],
             [
              0.4444444444444444,
              "#bd3786"
             ],
             [
              0.5555555555555556,
              "#d8576b"
             ],
             [
              0.6666666666666666,
              "#ed7953"
             ],
             [
              0.7777777777777778,
              "#fb9f3a"
             ],
             [
              0.8888888888888888,
              "#fdca26"
             ],
             [
              1,
              "#f0f921"
             ]
            ],
            "type": "contour"
           }
          ],
          "contourcarpet": [
           {
            "colorbar": {
             "outlinewidth": 0,
             "ticks": ""
            },
            "type": "contourcarpet"
           }
          ],
          "heatmap": [
           {
            "colorbar": {
             "outlinewidth": 0,
             "ticks": ""
            },
            "colorscale": [
             [
              0,
              "#0d0887"
             ],
             [
              0.1111111111111111,
              "#46039f"
             ],
             [
              0.2222222222222222,
              "#7201a8"
             ],
             [
              0.3333333333333333,
              "#9c179e"
             ],
             [
              0.4444444444444444,
              "#bd3786"
             ],
             [
              0.5555555555555556,
              "#d8576b"
             ],
             [
              0.6666666666666666,
              "#ed7953"
             ],
             [
              0.7777777777777778,
              "#fb9f3a"
             ],
             [
              0.8888888888888888,
              "#fdca26"
             ],
             [
              1,
              "#f0f921"
             ]
            ],
            "type": "heatmap"
           }
          ],
          "heatmapgl": [
           {
            "colorbar": {
             "outlinewidth": 0,
             "ticks": ""
            },
            "colorscale": [
             [
              0,
              "#0d0887"
             ],
             [
              0.1111111111111111,
              "#46039f"
             ],
             [
              0.2222222222222222,
              "#7201a8"
             ],
             [
              0.3333333333333333,
              "#9c179e"
             ],
             [
              0.4444444444444444,
              "#bd3786"
             ],
             [
              0.5555555555555556,
              "#d8576b"
             ],
             [
              0.6666666666666666,
              "#ed7953"
             ],
             [
              0.7777777777777778,
              "#fb9f3a"
             ],
             [
              0.8888888888888888,
              "#fdca26"
             ],
             [
              1,
              "#f0f921"
             ]
            ],
            "type": "heatmapgl"
           }
          ],
          "histogram": [
           {
            "marker": {
             "pattern": {
              "fillmode": "overlay",
              "size": 10,
              "solidity": 0.2
             }
            },
            "type": "histogram"
           }
          ],
          "histogram2d": [
           {
            "colorbar": {
             "outlinewidth": 0,
             "ticks": ""
            },
            "colorscale": [
             [
              0,
              "#0d0887"
             ],
             [
              0.1111111111111111,
              "#46039f"
             ],
             [
              0.2222222222222222,
              "#7201a8"
             ],
             [
              0.3333333333333333,
              "#9c179e"
             ],
             [
              0.4444444444444444,
              "#bd3786"
             ],
             [
              0.5555555555555556,
              "#d8576b"
             ],
             [
              0.6666666666666666,
              "#ed7953"
             ],
             [
              0.7777777777777778,
              "#fb9f3a"
             ],
             [
              0.8888888888888888,
              "#fdca26"
             ],
             [
              1,
              "#f0f921"
             ]
            ],
            "type": "histogram2d"
           }
          ],
          "histogram2dcontour": [
           {
            "colorbar": {
             "outlinewidth": 0,
             "ticks": ""
            },
            "colorscale": [
             [
              0,
              "#0d0887"
             ],
             [
              0.1111111111111111,
              "#46039f"
             ],
             [
              0.2222222222222222,
              "#7201a8"
             ],
             [
              0.3333333333333333,
              "#9c179e"
             ],
             [
              0.4444444444444444,
              "#bd3786"
             ],
             [
              0.5555555555555556,
              "#d8576b"
             ],
             [
              0.6666666666666666,
              "#ed7953"
             ],
             [
              0.7777777777777778,
              "#fb9f3a"
             ],
             [
              0.8888888888888888,
              "#fdca26"
             ],
             [
              1,
              "#f0f921"
             ]
            ],
            "type": "histogram2dcontour"
           }
          ],
          "mesh3d": [
           {
            "colorbar": {
             "outlinewidth": 0,
             "ticks": ""
            },
            "type": "mesh3d"
           }
          ],
          "parcoords": [
           {
            "line": {
             "colorbar": {
              "outlinewidth": 0,
              "ticks": ""
             }
            },
            "type": "parcoords"
           }
          ],
          "pie": [
           {
            "automargin": true,
            "type": "pie"
           }
          ],
          "scatter": [
           {
            "fillpattern": {
             "fillmode": "overlay",
             "size": 10,
             "solidity": 0.2
            },
            "type": "scatter"
           }
          ],
          "scatter3d": [
           {
            "line": {
             "colorbar": {
              "outlinewidth": 0,
              "ticks": ""
             }
            },
            "marker": {
             "colorbar": {
              "outlinewidth": 0,
              "ticks": ""
             }
            },
            "type": "scatter3d"
           }
          ],
          "scattercarpet": [
           {
            "marker": {
             "colorbar": {
              "outlinewidth": 0,
              "ticks": ""
             }
            },
            "type": "scattercarpet"
           }
          ],
          "scattergeo": [
           {
            "marker": {
             "colorbar": {
              "outlinewidth": 0,
              "ticks": ""
             }
            },
            "type": "scattergeo"
           }
          ],
          "scattergl": [
           {
            "marker": {
             "colorbar": {
              "outlinewidth": 0,
              "ticks": ""
             }
            },
            "type": "scattergl"
           }
          ],
          "scattermapbox": [
           {
            "marker": {
             "colorbar": {
              "outlinewidth": 0,
              "ticks": ""
             }
            },
            "type": "scattermapbox"
           }
          ],
          "scatterpolar": [
           {
            "marker": {
             "colorbar": {
              "outlinewidth": 0,
              "ticks": ""
             }
            },
            "type": "scatterpolar"
           }
          ],
          "scatterpolargl": [
           {
            "marker": {
             "colorbar": {
              "outlinewidth": 0,
              "ticks": ""
             }
            },
            "type": "scatterpolargl"
           }
          ],
          "scatterternary": [
           {
            "marker": {
             "colorbar": {
              "outlinewidth": 0,
              "ticks": ""
             }
            },
            "type": "scatterternary"
           }
          ],
          "surface": [
           {
            "colorbar": {
             "outlinewidth": 0,
             "ticks": ""
            },
            "colorscale": [
             [
              0,
              "#0d0887"
             ],
             [
              0.1111111111111111,
              "#46039f"
             ],
             [
              0.2222222222222222,
              "#7201a8"
             ],
             [
              0.3333333333333333,
              "#9c179e"
             ],
             [
              0.4444444444444444,
              "#bd3786"
             ],
             [
              0.5555555555555556,
              "#d8576b"
             ],
             [
              0.6666666666666666,
              "#ed7953"
             ],
             [
              0.7777777777777778,
              "#fb9f3a"
             ],
             [
              0.8888888888888888,
              "#fdca26"
             ],
             [
              1,
              "#f0f921"
             ]
            ],
            "type": "surface"
           }
          ],
          "table": [
           {
            "cells": {
             "fill": {
              "color": "#EBF0F8"
             },
             "line": {
              "color": "white"
             }
            },
            "header": {
             "fill": {
              "color": "#C8D4E3"
             },
             "line": {
              "color": "white"
             }
            },
            "type": "table"
           }
          ]
         },
         "layout": {
          "annotationdefaults": {
           "arrowcolor": "#2a3f5f",
           "arrowhead": 0,
           "arrowwidth": 1
          },
          "autotypenumbers": "strict",
          "coloraxis": {
           "colorbar": {
            "outlinewidth": 0,
            "ticks": ""
           }
          },
          "colorscale": {
           "diverging": [
            [
             0,
             "#8e0152"
            ],
            [
             0.1,
             "#c51b7d"
            ],
            [
             0.2,
             "#de77ae"
            ],
            [
             0.3,
             "#f1b6da"
            ],
            [
             0.4,
             "#fde0ef"
            ],
            [
             0.5,
             "#f7f7f7"
            ],
            [
             0.6,
             "#e6f5d0"
            ],
            [
             0.7,
             "#b8e186"
            ],
            [
             0.8,
             "#7fbc41"
            ],
            [
             0.9,
             "#4d9221"
            ],
            [
             1,
             "#276419"
            ]
           ],
           "sequential": [
            [
             0,
             "#0d0887"
            ],
            [
             0.1111111111111111,
             "#46039f"
            ],
            [
             0.2222222222222222,
             "#7201a8"
            ],
            [
             0.3333333333333333,
             "#9c179e"
            ],
            [
             0.4444444444444444,
             "#bd3786"
            ],
            [
             0.5555555555555556,
             "#d8576b"
            ],
            [
             0.6666666666666666,
             "#ed7953"
            ],
            [
             0.7777777777777778,
             "#fb9f3a"
            ],
            [
             0.8888888888888888,
             "#fdca26"
            ],
            [
             1,
             "#f0f921"
            ]
           ],
           "sequentialminus": [
            [
             0,
             "#0d0887"
            ],
            [
             0.1111111111111111,
             "#46039f"
            ],
            [
             0.2222222222222222,
             "#7201a8"
            ],
            [
             0.3333333333333333,
             "#9c179e"
            ],
            [
             0.4444444444444444,
             "#bd3786"
            ],
            [
             0.5555555555555556,
             "#d8576b"
            ],
            [
             0.6666666666666666,
             "#ed7953"
            ],
            [
             0.7777777777777778,
             "#fb9f3a"
            ],
            [
             0.8888888888888888,
             "#fdca26"
            ],
            [
             1,
             "#f0f921"
            ]
           ]
          },
          "colorway": [
           "#636efa",
           "#EF553B",
           "#00cc96",
           "#ab63fa",
           "#FFA15A",
           "#19d3f3",
           "#FF6692",
           "#B6E880",
           "#FF97FF",
           "#FECB52"
          ],
          "font": {
           "color": "#2a3f5f"
          },
          "geo": {
           "bgcolor": "white",
           "lakecolor": "white",
           "landcolor": "#E5ECF6",
           "showlakes": true,
           "showland": true,
           "subunitcolor": "white"
          },
          "hoverlabel": {
           "align": "left"
          },
          "hovermode": "closest",
          "mapbox": {
           "style": "light"
          },
          "paper_bgcolor": "white",
          "plot_bgcolor": "#E5ECF6",
          "polar": {
           "angularaxis": {
            "gridcolor": "white",
            "linecolor": "white",
            "ticks": ""
           },
           "bgcolor": "#E5ECF6",
           "radialaxis": {
            "gridcolor": "white",
            "linecolor": "white",
            "ticks": ""
           }
          },
          "scene": {
           "xaxis": {
            "backgroundcolor": "#E5ECF6",
            "gridcolor": "white",
            "gridwidth": 2,
            "linecolor": "white",
            "showbackground": true,
            "ticks": "",
            "zerolinecolor": "white"
           },
           "yaxis": {
            "backgroundcolor": "#E5ECF6",
            "gridcolor": "white",
            "gridwidth": 2,
            "linecolor": "white",
            "showbackground": true,
            "ticks": "",
            "zerolinecolor": "white"
           },
           "zaxis": {
            "backgroundcolor": "#E5ECF6",
            "gridcolor": "white",
            "gridwidth": 2,
            "linecolor": "white",
            "showbackground": true,
            "ticks": "",
            "zerolinecolor": "white"
           }
          },
          "shapedefaults": {
           "line": {
            "color": "#2a3f5f"
           }
          },
          "ternary": {
           "aaxis": {
            "gridcolor": "white",
            "linecolor": "white",
            "ticks": ""
           },
           "baxis": {
            "gridcolor": "white",
            "linecolor": "white",
            "ticks": ""
           },
           "bgcolor": "#E5ECF6",
           "caxis": {
            "gridcolor": "white",
            "linecolor": "white",
            "ticks": ""
           }
          },
          "title": {
           "x": 0.05
          },
          "xaxis": {
           "automargin": true,
           "gridcolor": "white",
           "linecolor": "white",
           "ticks": "",
           "title": {
            "standoff": 15
           },
           "zerolinecolor": "white",
           "zerolinewidth": 2
          },
          "yaxis": {
           "automargin": true,
           "gridcolor": "white",
           "linecolor": "white",
           "ticks": "",
           "title": {
            "standoff": 15
           },
           "zerolinecolor": "white",
           "zerolinewidth": 2
          }
         }
        },
        "title": {
         "text": "Comparison of Batting Average between Season and Career"
        },
        "xaxis": {
         "anchor": "y",
         "domain": [
          0,
          1
         ],
         "title": {
          "text": "avg"
         }
        },
        "yaxis": {
         "anchor": "x",
         "domain": [
          0,
          1
         ],
         "title": {
          "text": ""
         }
        }
       }
      }
     },
     "metadata": {},
     "output_type": "display_data"
    }
   ],
   "source": [
    "combined_data = pd.concat([player_season.assign(DataType='Season'),\n",
    "                           player_career.assign(DataType='Career')])\n",
    "combined_data = combined_data.sort_values('avg', ascending=True)\n",
    "fig = px.bar(combined_data, x='avg', y='FullName', color='DataType',\n",
    "             title='Comparison of Batting Average between Season and Career',\n",
    "             orientation='v')\n",
    "fig.update_layout(yaxis=dict(title=''))\n",
    "fig.show()"
   ]
  },
  {
   "cell_type": "code",
   "execution_count": null,
   "metadata": {},
   "outputs": [
    {
     "data": {
      "application/vnd.plotly.v1+json": {
       "config": {
        "plotlyServerURL": "https://plot.ly"
       },
       "data": [
        {
         "alignmentgroup": "True",
         "hovertemplate": "DataType=Season<br>slg=%{x}<br>FullName=%{y}<extra></extra>",
         "legendgroup": "Season",
         "marker": {
          "color": "#636efa",
          "pattern": {
           "shape": ""
          }
         },
         "name": "Season",
         "offsetgroup": "Season",
         "orientation": "v",
         "showlegend": true,
         "textposition": "auto",
         "type": "bar",
         "x": [
          ".500",
          ".515",
          ".323",
          ".398",
          ".393",
          ".400",
          ".380",
          ".517",
          ".512",
          ".427",
          ".347",
          ".595",
          ".527",
          ".454",
          ".464",
          ".462",
          ".524",
          ".377",
          ".409",
          ".427",
          ".504",
          ".479",
          ".491",
          ".478",
          ".496",
          ".439",
          ".348",
          ".583",
          ".421",
          ".386",
          ".565",
          ".382",
          ".378",
          ".444",
          ".264",
          ".465",
          ".429",
          ".440",
          ".376",
          ".549",
          ".403",
          ".426",
          ".327",
          ".545",
          ".430",
          ".398",
          ".351",
          ".328",
          ".292",
          ".559",
          ".352",
          ".553",
          ".567",
          ".356",
          ".429",
          ".492",
          ".472",
          ".636",
          ".427",
          ".500",
          ".410",
          ".364",
          ".345",
          ".418",
          ".420",
          ".577",
          ".345",
          ".336",
          ".509",
          ".443",
          ".406",
          ".355",
          ".598",
          ".426",
          ".407",
          ".378",
          ".231",
          ".321",
          ".366",
          ".431",
          ".356",
          ".509",
          ".410",
          ".362",
          ".402",
          ".578",
          ".441",
          ".343",
          ".449",
          ".577",
          ".480",
          ".369",
          ".387",
          ".404",
          ".302",
          ".641",
          ".553",
          ".318",
          ".427",
          ".472",
          ".514",
          ".541",
          ".297",
          ".423",
          ".385",
          ".515",
          ".618",
          ".363",
          ".409",
          ".316",
          ".311",
          ".419",
          ".324",
          ".633",
          ".340",
          ".466",
          ".511",
          ".505",
          ".424",
          ".430",
          ".341",
          ".490",
          ".535",
          ".347",
          ".368",
          ".433",
          ".516",
          ".480",
          ".608",
          ".611",
          ".384",
          ".296",
          ".547",
          ".381",
          ".330",
          ".547",
          ".327",
          ".559",
          ".551",
          ".500",
          ".378",
          ".365",
          ".521",
          ".442",
          ".438",
          ".239",
          ".372",
          ".467",
          ".357",
          ".374",
          ".341",
          ".413",
          ".333",
          ".232",
          ".534",
          ".348",
          ".272",
          ".500",
          ".299",
          ".449",
          ".596",
          ".344",
          ".500",
          ".301",
          ".308",
          ".353",
          ".409",
          ".440",
          ".348",
          ".444",
          ".379",
          ".356",
          ".345",
          ".325",
          ".212",
          ".388",
          ".289",
          ".386",
          ".588",
          ".364",
          ".405",
          ".400",
          ".369",
          ".299",
          ".707",
          ".310",
          ".375",
          ".321",
          ".403",
          ".613",
          ".411",
          ".353",
          ".568",
          ".415",
          ".410",
          ".307",
          ".359",
          ".190",
          ".470",
          ".638",
          ".343",
          ".276",
          ".350",
          ".642",
          ".312",
          ".407",
          ".487",
          ".377",
          ".359",
          ".363",
          ".351",
          ".186",
          ".224",
          ".397",
          ".415",
          ".352",
          ".243",
          ".479",
          ".290",
          ".333",
          ".420",
          ".464",
          ".636",
          ".318",
          ".612",
          ".348",
          ".366",
          ".301",
          ".507",
          ".414",
          ".597",
          ".315",
          ".471",
          ".484",
          ".547",
          ".338",
          ".286",
          ".529",
          ".358",
          ".355",
          ".238",
          ".483",
          ".333",
          ".523",
          ".294",
          ".507",
          ".411",
          ".597",
          ".455",
          ".500",
          ".639",
          ".507",
          ".390",
          ".274",
          ".351",
          ".306",
          ".415",
          ".291",
          ".526",
          ".343",
          ".298",
          ".226",
          ".364",
          ".371",
          ".400",
          ".323",
          ".204",
          ".288",
          ".271",
          ".444",
          ".492",
          ".155",
          ".397",
          ".466"
         ],
         "xaxis": "x",
         "y": [
          "Freddie  Freeman",
          "Alex  Verdugo",
          "Steven Kwan",
          "Nico Hoerner",
          "Trea  Turner",
          "Bryson Stott",
          "Justin  Turner",
          "Matt  Olson",
          "Vladimir  Guerrero",
          "Juan  Soto",
          "Alex  Bregman",
          "Ronald  Acuna",
          "Bo Bichette",
          "Jose  Ramirez",
          "Adley Rutschman",
          "Marcus  Semien",
          "Rafael  Devers",
          "Jonathan India",
          "Kyle  Schwarber",
          "Austin  Riley",
          "Ryan Mountcastle",
          "Xander  Bogaerts",
          "Paul  Goldschmidt",
          "Mookie Betts",
          "Nick  Castellanos",
          "Jeremy  Pena",
          "Taylor Ward",
          "Mike  Trout",
          "Bobby Witt",
          "Dansby  Swanson",
          "Randy Arozarena",
          "Jeimer  Candelario",
          "Manny  Machado",
          "Nathaniel Lowe",
          "Jose  Abreu",
          "Anthony  Rizzo",
          "Andrew Vaughn",
          "Francisco  Lindor",
          "Josh  Bell",
          "Vinnie Pasquantino",
          "Alec Bohm",
          "Kyle Tucker",
          "Esteury Ruiz",
          "Pete  Alonso",
          "Brandon  Nimmo",
          "Willy  Adames",
          "Eugenio  Suarez",
          "Nolan  Arenado",
          "George  Springer",
          "Wander Franco",
          "Joey Meneses",
          "Shohei  Ohtani",
          "Ozzie  Albies",
          "Ke'Bryan Hayes",
          "Jake Cronenworth",
          "Hunter  Renfroe",
          "Ian  Happ",
          "Matt  Chapman",
          "Julio Rodriguez",
          "Adolis  Garcia",
          "Cedric Mullins",
          "Daulton Varsho",
          "Ty France",
          "Jeff  McNeil",
          "Teoscar  Hernandez",
          "Bryan  Reynolds",
          "Christian  Yelich",
          "Jose Miranda",
          "Thairo Estrada",
          "Trent  Grisham",
          "Gleyber  Torres",
          "Andres Gimenez",
          "James Outman",
          "Luis Robert",
          "Jazz Chisholm",
          "Enrique Hernandez",
          "Elvis  Andrus",
          "Tyler Stephenson",
          "Trevor Larnach",
          "Charlie  Blackmon",
          "Anthony Volpe",
          "Christian  Walker",
          "Carlos  Santana",
          "Riley Greene",
          "Ryan  McMahon",
          "Yandy  Diaz",
          "Brian  Anderson",
          "Jurickson  Profar",
          "Kris  Bryant",
          "Cody  Bellinger",
          "Andrew  McCutchen",
          "Anthony  Santander",
          "Lane  Thomas",
          "Spencer Steer",
          "Dominic  Smith",
          "Max  Muncy",
          "Byron  Buxton",
          "Amed  Rosario",
          "TJ Friedl",
          "Salvador  Perez",
          "Ketel  Marte",
          "Josh Jung",
          "Myles Straw",
          "Jorge  Soler",
          "Mauricio Dubon",
          "Masataka Yoshida",
          "Patrick Wisdom",
          "Carlos  Correa",
          "Miguel Vargas",
          "Alex Call",
          "Spencer Torkelson",
          "Lourdes  Gurriel",
          "Andrew  Benintendi",
          "Sean Murphy",
          "MJ Melendez",
          "J.T.  Realmuto",
          "Aaron  Judge",
          "Austin Hays",
          "Willson  Contreras",
          "DJ  LeMahieu",
          "J.P.  Crawford",
          "C.J.  Cron",
          "Corbin Carroll",
          "Keibert Ruiz",
          "Ha-Seong Kim",
          "Isaac Paredes",
          "Yordan  Alvarez",
          "Brandon  Drury",
          "Jarred Kelenic",
          "Brandon Marsh",
          "CJ Abrams",
          "Starling  Marte",
          "Luis  Arraez",
          "Mark  Canha",
          "Josh  Naylor",
          "Nolan Gorman",
          "Gio Urshela",
          "Rowdy Tellez",
          "LaMonte Wade",
          "Brandon  Lowe",
          "Trey  Mancini",
          "Bryan De La Cruz",
          "Mike  Yastrzemski",
          "Tommy  Edman",
          "Shea Langeliers",
          "Tony  Kemp",
          "Victor  Robles",
          "Cal Raleigh",
          "Javier  Baez",
          "Josh  Rojas",
          "Michael  Conforto",
          "Garrett  Cooper",
          "Ezequiel Tovar",
          "Jean  Segura",
          "J.D.  Martinez",
          "Joey Wiemer",
          "Oswaldo Cabrera",
          "J.D.  Davis",
          "Gunnar Henderson",
          "Yasmani  Grandal",
          "Connor Joe",
          "Luis Garcia",
          "Elias  Diaz",
          "Triston Casas",
          "Alek Thomas",
          "Jake Fraley",
          "Michael A.  Taylor",
          "Rodolfo Castro",
          "Tyler O'Neill",
          "Edward Olivares",
          "Whit  Merrifield",
          "Jon  Berti",
          "Nick Maton",
          "David Villar",
          "Aledmys  Diaz",
          "William Contreras",
          "Jace  Peterson",
          "Eloy  Jimenez",
          "Jonah Heim",
          "Brendan Donovan",
          "Robbie  Grossman",
          "Eddie  Rosario",
          "Adam  Frazier",
          "Anthony  Rendon",
          "Brent Rooker",
          "Kyle Isbel",
          "Ramon Urias",
          "Wil Myers",
          "Ryan Noda",
          "Jorge Mateo",
          "Matt Vierling",
          "Ji Hwan Bae",
          "Jack Suwinski",
          "Alec Burleson",
          "Kevin  Kiermaier",
          "Luis  Rengifo",
          "Manuel  Margot",
          "Michael Massey",
          "Wilmer  Flores",
          "Harold  Ramirez",
          "Alejandro Kirk",
          "Oscar Colas",
          "Brice Turang",
          "Josh Lowe",
          "Jose Barrero",
          "Corey Julks",
          "Jesus  Aguilar",
          "Gabriel Moreno",
          "Jake Meyers",
          "Eric  Hosmer",
          "Yonathan  Daza",
          "Kolten  Wong",
          "Austin Nola",
          "Jordan Walker",
          "Mike  Zunino",
          "Brandon  Crawford",
          "Martin  Maldonado",
          "Chris  Taylor",
          "Christian  Vazquez",
          "Avisail  Garcia",
          "Max  Kepler",
          "Kerry Carpenter",
          "Geraldo Perdomo",
          "Conner Capel",
          "Jake Burger",
          "Christian Arroyo",
          "Seiya Suzuki",
          "David  Peralta",
          "Nelson  Cruz",
          "Ramon  Laureano",
          "Taylor Walls",
          "Kevin  Newman",
          "Blake Sabol",
          "Matt  Carpenter",
          "Will  Smith",
          "Marcell  Ozuna",
          "Oscar Gonzalez",
          "Yan  Gomes",
          "Donovan  Solano",
          "Danny  Jansen",
          "Jake McCarthy",
          "Joc  Pederson",
          "Jake  Cave",
          "Christian Bethancourt",
          "Will Brennan",
          "Ezequiel Duran",
          "Eric Haase",
          "Luke Raley",
          "Nick  Senzel",
          "Edmundo Sosa",
          "Joey  Gallo",
          "Connor Wong",
          "Daniel  Vogelbach",
          "Brandon  Belt",
          "Lars Nootbaar",
          "Kevin Smith",
          "Jose  Trevino",
          "Nicky  Lopez",
          "Jason  Heyward",
          "Dylan Carlson",
          "Jesse  Winker",
          "Hunter  Dozier",
          "Stuart Fairchild",
          "Jason Vosler",
          "Travis  Jankowski",
          "Zach Neto",
          "Josh H. Smith",
          "Franmil  Reyes",
          "Akil Baddoo",
          "Zach McKinstry",
          "Sam Hilliard",
          "David Hensley",
          "Eduardo  Escobar",
          "Garrett Mitchell"
         ],
         "yaxis": "y"
        },
        {
         "alignmentgroup": "True",
         "hovertemplate": "DataType=Career<br>slg=%{x}<br>FullName=%{y}<extra></extra>",
         "legendgroup": "Career",
         "marker": {
          "color": "#EF553B",
          "pattern": {
           "shape": ""
          }
         },
         "name": "Career",
         "offsetgroup": "Career",
         "orientation": "v",
         "showlegend": true,
         "textposition": "auto",
         "type": "bar",
         "x": [
          ".509",
          ".436",
          ".386",
          ".387",
          ".484",
          ".368",
          ".464",
          ".504",
          ".505",
          ".521",
          ".492",
          ".522",
          ".494",
          ".502",
          ".449",
          ".442",
          ".512",
          ".420",
          ".492",
          ".502",
          ".463",
          ".459",
          ".526",
          ".519",
          ".475",
          ".429",
          ".422",
          ".587",
          ".427",
          ".416",
          ".472",
          ".400",
          ".490",
          ".453",
          ".500",
          ".480",
          ".416",
          ".473",
          ".456",
          ".480",
          ".392",
          ".497",
          ".311",
          ".536",
          ".441",
          ".446",
          ".462",
          ".530",
          ".488",
          ".458",
          ".486",
          ".533",
          ".475",
          ".382",
          ".431",
          ".490",
          ".460",
          ".475",
          ".494",
          ".453",
          ".431",
          ".425",
          ".432",
          ".456",
          ".495",
          ".487",
          ".463",
          ".408",
          ".419",
          ".399",
          ".452",
          ".420",
          ".625",
          ".468",
          ".443",
          ".416",
          ".369",
          ".432",
          ".370",
          ".487",
          ".356",
          ".454",
          ".431",
          ".363",
          ".426",
          ".421",
          ".411",
          ".384",
          ".501",
          ".491",
          ".469",
          ".449",
          ".409",
          ".367",
          ".415",
          ".479",
          ".477",
          ".401",
          ".432",
          ".463",
          ".450",
          ".483",
          ".312",
          ".457",
          ".368",
          ".515",
          ".475",
          ".475",
          ".357",
          ".368",
          ".318",
          ".465",
          ".427",
          ".444",
          ".384",
          ".456",
          ".580",
          ".439",
          ".458",
          ".418",
          ".357",
          ".474",
          ".517",
          ".369",
          ".372",
          ".397",
          ".585",
          ".436",
          ".382",
          ".404",
          ".339",
          ".450",
          ".418",
          ".425",
          ".409",
          ".452",
          ".423",
          ".468",
          ".435",
          ".495",
          ".454",
          ".420",
          ".468",
          ".412",
          ".433",
          ".357",
          ".360",
          ".444",
          ".461",
          ".378",
          ".464",
          ".438",
          ".333",
          ".405",
          ".520",
          ".348",
          ".370",
          ".443",
          ".383",
          ".435",
          ".412",
          ".395",
          ".389",
          ".352",
          ".337",
          ".387",
          ".382",
          ".423",
          ".460",
          ".408",
          ".425",
          ".354",
          ".406",
          ".410",
          ".434",
          ".459",
          ".341",
          ".496",
          ".397",
          ".376",
          ".378",
          ".460",
          ".392",
          ".476",
          ".457",
          ".351",
          ".414",
          ".440",
          ".403",
          ".398",
          ".381",
          ".373",
          ".440",
          ".362",
          ".408",
          ".367",
          ".385",
          ".315",
          ".434",
          ".420",
          ".418",
          ".276",
          ".350",
          ".437",
          ".242",
          ".407",
          ".450",
          ".377",
          ".372",
          ".427",
          ".354",
          ".393",
          ".383",
          ".397",
          ".410",
          ".400",
          ".346",
          ".434",
          ".383",
          ".419",
          ".427",
          ".477",
          ".318",
          ".407",
          ".498",
          ".396",
          ".423",
          ".454",
          ".515",
          ".442",
          ".321",
          ".355",
          ".471",
          ".457",
          ".503",
          ".454",
          ".433",
          ".419",
          ".374",
          ".419",
          ".393",
          ".470",
          ".406",
          ".366",
          ".373",
          ".401",
          ".431",
          ".392",
          ".366",
          ".393",
          ".473",
          ".438",
          ".411",
          ".455",
          ".430",
          ".288",
          ".377",
          ".320",
          ".408",
          ".403",
          ".458",
          ".419",
          ".407",
          ".408",
          ".315",
          ".323",
          ".240",
          ".464",
          ".371",
          ".393",
          ".429",
          ".299",
          ".435",
          ".462"
         ],
         "xaxis": "x",
         "y": [
          "Freddie  Freeman",
          "Alex  Verdugo",
          "Steven Kwan",
          "Nico Hoerner",
          "Trea  Turner",
          "Bryson Stott",
          "Justin  Turner",
          "Matt  Olson",
          "Vladimir  Guerrero",
          "Juan  Soto",
          "Alex  Bregman",
          "Ronald  Acuna",
          "Bo Bichette",
          "Jose  Ramirez",
          "Adley Rutschman",
          "Marcus  Semien",
          "Rafael  Devers",
          "Jonathan India",
          "Kyle  Schwarber",
          "Austin  Riley",
          "Ryan Mountcastle",
          "Xander  Bogaerts",
          "Paul  Goldschmidt",
          "Mookie Betts",
          "Nick  Castellanos",
          "Jeremy  Pena",
          "Taylor Ward",
          "Mike  Trout",
          "Bobby Witt",
          "Dansby  Swanson",
          "Randy Arozarena",
          "Jeimer  Candelario",
          "Manny  Machado",
          "Nathaniel Lowe",
          "Jose  Abreu",
          "Anthony  Rizzo",
          "Andrew Vaughn",
          "Francisco  Lindor",
          "Josh  Bell",
          "Vinnie Pasquantino",
          "Alec Bohm",
          "Kyle Tucker",
          "Esteury Ruiz",
          "Pete  Alonso",
          "Brandon  Nimmo",
          "Willy  Adames",
          "Eugenio  Suarez",
          "Nolan  Arenado",
          "George  Springer",
          "Wander Franco",
          "Joey Meneses",
          "Shohei  Ohtani",
          "Ozzie  Albies",
          "Ke'Bryan Hayes",
          "Jake Cronenworth",
          "Hunter  Renfroe",
          "Ian  Happ",
          "Matt  Chapman",
          "Julio Rodriguez",
          "Adolis  Garcia",
          "Cedric Mullins",
          "Daulton Varsho",
          "Ty France",
          "Jeff  McNeil",
          "Teoscar  Hernandez",
          "Bryan  Reynolds",
          "Christian  Yelich",
          "Jose Miranda",
          "Thairo Estrada",
          "Trent  Grisham",
          "Gleyber  Torres",
          "Andres Gimenez",
          "James Outman",
          "Luis Robert",
          "Jazz Chisholm",
          "Enrique Hernandez",
          "Elvis  Andrus",
          "Tyler Stephenson",
          "Trevor Larnach",
          "Charlie  Blackmon",
          "Anthony Volpe",
          "Christian  Walker",
          "Carlos  Santana",
          "Riley Greene",
          "Ryan  McMahon",
          "Yandy  Diaz",
          "Brian  Anderson",
          "Jurickson  Profar",
          "Kris  Bryant",
          "Cody  Bellinger",
          "Andrew  McCutchen",
          "Anthony  Santander",
          "Lane  Thomas",
          "Spencer Steer",
          "Dominic  Smith",
          "Max  Muncy",
          "Byron  Buxton",
          "Amed  Rosario",
          "TJ Friedl",
          "Salvador  Perez",
          "Ketel  Marte",
          "Josh Jung",
          "Myles Straw",
          "Jorge  Soler",
          "Mauricio Dubon",
          "Masataka Yoshida",
          "Patrick Wisdom",
          "Carlos  Correa",
          "Miguel Vargas",
          "Alex Call",
          "Spencer Torkelson",
          "Lourdes  Gurriel",
          "Andrew  Benintendi",
          "Sean Murphy",
          "MJ Melendez",
          "J.T.  Realmuto",
          "Aaron  Judge",
          "Austin Hays",
          "Willson  Contreras",
          "DJ  LeMahieu",
          "J.P.  Crawford",
          "C.J.  Cron",
          "Corbin Carroll",
          "Keibert Ruiz",
          "Ha-Seong Kim",
          "Isaac Paredes",
          "Yordan  Alvarez",
          "Brandon  Drury",
          "Jarred Kelenic",
          "Brandon Marsh",
          "CJ Abrams",
          "Starling  Marte",
          "Luis  Arraez",
          "Mark  Canha",
          "Josh  Naylor",
          "Nolan Gorman",
          "Gio Urshela",
          "Rowdy Tellez",
          "LaMonte Wade",
          "Brandon  Lowe",
          "Trey  Mancini",
          "Bryan De La Cruz",
          "Mike  Yastrzemski",
          "Tommy  Edman",
          "Shea Langeliers",
          "Tony  Kemp",
          "Victor  Robles",
          "Cal Raleigh",
          "Javier  Baez",
          "Josh  Rojas",
          "Michael  Conforto",
          "Garrett  Cooper",
          "Ezequiel Tovar",
          "Jean  Segura",
          "J.D.  Martinez",
          "Joey Wiemer",
          "Oswaldo Cabrera",
          "J.D.  Davis",
          "Gunnar Henderson",
          "Yasmani  Grandal",
          "Connor Joe",
          "Luis Garcia",
          "Elias  Diaz",
          "Triston Casas",
          "Alek Thomas",
          "Jake Fraley",
          "Michael A.  Taylor",
          "Rodolfo Castro",
          "Tyler O'Neill",
          "Edward Olivares",
          "Whit  Merrifield",
          "Jon  Berti",
          "Nick Maton",
          "David Villar",
          "Aledmys  Diaz",
          "William Contreras",
          "Jace  Peterson",
          "Eloy  Jimenez",
          "Jonah Heim",
          "Brendan Donovan",
          "Robbie  Grossman",
          "Eddie  Rosario",
          "Adam  Frazier",
          "Anthony  Rendon",
          "Brent Rooker",
          "Kyle Isbel",
          "Ramon Urias",
          "Wil Myers",
          "Ryan Noda",
          "Jorge Mateo",
          "Matt Vierling",
          "Ji Hwan Bae",
          "Jack Suwinski",
          "Alec Burleson",
          "Kevin  Kiermaier",
          "Luis  Rengifo",
          "Manuel  Margot",
          "Michael Massey",
          "Wilmer  Flores",
          "Harold  Ramirez",
          "Alejandro Kirk",
          "Oscar Colas",
          "Brice Turang",
          "Josh Lowe",
          "Jose Barrero",
          "Corey Julks",
          "Jesus  Aguilar",
          "Gabriel Moreno",
          "Jake Meyers",
          "Eric  Hosmer",
          "Yonathan  Daza",
          "Kolten  Wong",
          "Austin Nola",
          "Jordan Walker",
          "Mike  Zunino",
          "Brandon  Crawford",
          "Martin  Maldonado",
          "Chris  Taylor",
          "Christian  Vazquez",
          "Avisail  Garcia",
          "Max  Kepler",
          "Kerry Carpenter",
          "Geraldo Perdomo",
          "Conner Capel",
          "Jake Burger",
          "Christian Arroyo",
          "Seiya Suzuki",
          "David  Peralta",
          "Nelson  Cruz",
          "Ramon  Laureano",
          "Taylor Walls",
          "Kevin  Newman",
          "Blake Sabol",
          "Matt  Carpenter",
          "Will  Smith",
          "Marcell  Ozuna",
          "Oscar Gonzalez",
          "Yan  Gomes",
          "Donovan  Solano",
          "Danny  Jansen",
          "Jake McCarthy",
          "Joc  Pederson",
          "Jake  Cave",
          "Christian Bethancourt",
          "Will Brennan",
          "Ezequiel Duran",
          "Eric Haase",
          "Luke Raley",
          "Nick  Senzel",
          "Edmundo Sosa",
          "Joey  Gallo",
          "Connor Wong",
          "Daniel  Vogelbach",
          "Brandon  Belt",
          "Lars Nootbaar",
          "Kevin Smith",
          "Jose  Trevino",
          "Nicky  Lopez",
          "Jason  Heyward",
          "Dylan Carlson",
          "Jesse  Winker",
          "Hunter  Dozier",
          "Stuart Fairchild",
          "Jason Vosler",
          "Travis  Jankowski",
          "Zach Neto",
          "Josh H. Smith",
          "Franmil  Reyes",
          "Akil Baddoo",
          "Zach McKinstry",
          "Sam Hilliard",
          "David Hensley",
          "Eduardo  Escobar",
          "Garrett Mitchell"
         ],
         "yaxis": "y"
        }
       ],
       "layout": {
        "barmode": "relative",
        "legend": {
         "title": {
          "text": "DataType"
         },
         "tracegroupgap": 0
        },
        "template": {
         "data": {
          "bar": [
           {
            "error_x": {
             "color": "#2a3f5f"
            },
            "error_y": {
             "color": "#2a3f5f"
            },
            "marker": {
             "line": {
              "color": "#E5ECF6",
              "width": 0.5
             },
             "pattern": {
              "fillmode": "overlay",
              "size": 10,
              "solidity": 0.2
             }
            },
            "type": "bar"
           }
          ],
          "barpolar": [
           {
            "marker": {
             "line": {
              "color": "#E5ECF6",
              "width": 0.5
             },
             "pattern": {
              "fillmode": "overlay",
              "size": 10,
              "solidity": 0.2
             }
            },
            "type": "barpolar"
           }
          ],
          "carpet": [
           {
            "aaxis": {
             "endlinecolor": "#2a3f5f",
             "gridcolor": "white",
             "linecolor": "white",
             "minorgridcolor": "white",
             "startlinecolor": "#2a3f5f"
            },
            "baxis": {
             "endlinecolor": "#2a3f5f",
             "gridcolor": "white",
             "linecolor": "white",
             "minorgridcolor": "white",
             "startlinecolor": "#2a3f5f"
            },
            "type": "carpet"
           }
          ],
          "choropleth": [
           {
            "colorbar": {
             "outlinewidth": 0,
             "ticks": ""
            },
            "type": "choropleth"
           }
          ],
          "contour": [
           {
            "colorbar": {
             "outlinewidth": 0,
             "ticks": ""
            },
            "colorscale": [
             [
              0,
              "#0d0887"
             ],
             [
              0.1111111111111111,
              "#46039f"
             ],
             [
              0.2222222222222222,
              "#7201a8"
             ],
             [
              0.3333333333333333,
              "#9c179e"
             ],
             [
              0.4444444444444444,
              "#bd3786"
             ],
             [
              0.5555555555555556,
              "#d8576b"
             ],
             [
              0.6666666666666666,
              "#ed7953"
             ],
             [
              0.7777777777777778,
              "#fb9f3a"
             ],
             [
              0.8888888888888888,
              "#fdca26"
             ],
             [
              1,
              "#f0f921"
             ]
            ],
            "type": "contour"
           }
          ],
          "contourcarpet": [
           {
            "colorbar": {
             "outlinewidth": 0,
             "ticks": ""
            },
            "type": "contourcarpet"
           }
          ],
          "heatmap": [
           {
            "colorbar": {
             "outlinewidth": 0,
             "ticks": ""
            },
            "colorscale": [
             [
              0,
              "#0d0887"
             ],
             [
              0.1111111111111111,
              "#46039f"
             ],
             [
              0.2222222222222222,
              "#7201a8"
             ],
             [
              0.3333333333333333,
              "#9c179e"
             ],
             [
              0.4444444444444444,
              "#bd3786"
             ],
             [
              0.5555555555555556,
              "#d8576b"
             ],
             [
              0.6666666666666666,
              "#ed7953"
             ],
             [
              0.7777777777777778,
              "#fb9f3a"
             ],
             [
              0.8888888888888888,
              "#fdca26"
             ],
             [
              1,
              "#f0f921"
             ]
            ],
            "type": "heatmap"
           }
          ],
          "heatmapgl": [
           {
            "colorbar": {
             "outlinewidth": 0,
             "ticks": ""
            },
            "colorscale": [
             [
              0,
              "#0d0887"
             ],
             [
              0.1111111111111111,
              "#46039f"
             ],
             [
              0.2222222222222222,
              "#7201a8"
             ],
             [
              0.3333333333333333,
              "#9c179e"
             ],
             [
              0.4444444444444444,
              "#bd3786"
             ],
             [
              0.5555555555555556,
              "#d8576b"
             ],
             [
              0.6666666666666666,
              "#ed7953"
             ],
             [
              0.7777777777777778,
              "#fb9f3a"
             ],
             [
              0.8888888888888888,
              "#fdca26"
             ],
             [
              1,
              "#f0f921"
             ]
            ],
            "type": "heatmapgl"
           }
          ],
          "histogram": [
           {
            "marker": {
             "pattern": {
              "fillmode": "overlay",
              "size": 10,
              "solidity": 0.2
             }
            },
            "type": "histogram"
           }
          ],
          "histogram2d": [
           {
            "colorbar": {
             "outlinewidth": 0,
             "ticks": ""
            },
            "colorscale": [
             [
              0,
              "#0d0887"
             ],
             [
              0.1111111111111111,
              "#46039f"
             ],
             [
              0.2222222222222222,
              "#7201a8"
             ],
             [
              0.3333333333333333,
              "#9c179e"
             ],
             [
              0.4444444444444444,
              "#bd3786"
             ],
             [
              0.5555555555555556,
              "#d8576b"
             ],
             [
              0.6666666666666666,
              "#ed7953"
             ],
             [
              0.7777777777777778,
              "#fb9f3a"
             ],
             [
              0.8888888888888888,
              "#fdca26"
             ],
             [
              1,
              "#f0f921"
             ]
            ],
            "type": "histogram2d"
           }
          ],
          "histogram2dcontour": [
           {
            "colorbar": {
             "outlinewidth": 0,
             "ticks": ""
            },
            "colorscale": [
             [
              0,
              "#0d0887"
             ],
             [
              0.1111111111111111,
              "#46039f"
             ],
             [
              0.2222222222222222,
              "#7201a8"
             ],
             [
              0.3333333333333333,
              "#9c179e"
             ],
             [
              0.4444444444444444,
              "#bd3786"
             ],
             [
              0.5555555555555556,
              "#d8576b"
             ],
             [
              0.6666666666666666,
              "#ed7953"
             ],
             [
              0.7777777777777778,
              "#fb9f3a"
             ],
             [
              0.8888888888888888,
              "#fdca26"
             ],
             [
              1,
              "#f0f921"
             ]
            ],
            "type": "histogram2dcontour"
           }
          ],
          "mesh3d": [
           {
            "colorbar": {
             "outlinewidth": 0,
             "ticks": ""
            },
            "type": "mesh3d"
           }
          ],
          "parcoords": [
           {
            "line": {
             "colorbar": {
              "outlinewidth": 0,
              "ticks": ""
             }
            },
            "type": "parcoords"
           }
          ],
          "pie": [
           {
            "automargin": true,
            "type": "pie"
           }
          ],
          "scatter": [
           {
            "fillpattern": {
             "fillmode": "overlay",
             "size": 10,
             "solidity": 0.2
            },
            "type": "scatter"
           }
          ],
          "scatter3d": [
           {
            "line": {
             "colorbar": {
              "outlinewidth": 0,
              "ticks": ""
             }
            },
            "marker": {
             "colorbar": {
              "outlinewidth": 0,
              "ticks": ""
             }
            },
            "type": "scatter3d"
           }
          ],
          "scattercarpet": [
           {
            "marker": {
             "colorbar": {
              "outlinewidth": 0,
              "ticks": ""
             }
            },
            "type": "scattercarpet"
           }
          ],
          "scattergeo": [
           {
            "marker": {
             "colorbar": {
              "outlinewidth": 0,
              "ticks": ""
             }
            },
            "type": "scattergeo"
           }
          ],
          "scattergl": [
           {
            "marker": {
             "colorbar": {
              "outlinewidth": 0,
              "ticks": ""
             }
            },
            "type": "scattergl"
           }
          ],
          "scattermapbox": [
           {
            "marker": {
             "colorbar": {
              "outlinewidth": 0,
              "ticks": ""
             }
            },
            "type": "scattermapbox"
           }
          ],
          "scatterpolar": [
           {
            "marker": {
             "colorbar": {
              "outlinewidth": 0,
              "ticks": ""
             }
            },
            "type": "scatterpolar"
           }
          ],
          "scatterpolargl": [
           {
            "marker": {
             "colorbar": {
              "outlinewidth": 0,
              "ticks": ""
             }
            },
            "type": "scatterpolargl"
           }
          ],
          "scatterternary": [
           {
            "marker": {
             "colorbar": {
              "outlinewidth": 0,
              "ticks": ""
             }
            },
            "type": "scatterternary"
           }
          ],
          "surface": [
           {
            "colorbar": {
             "outlinewidth": 0,
             "ticks": ""
            },
            "colorscale": [
             [
              0,
              "#0d0887"
             ],
             [
              0.1111111111111111,
              "#46039f"
             ],
             [
              0.2222222222222222,
              "#7201a8"
             ],
             [
              0.3333333333333333,
              "#9c179e"
             ],
             [
              0.4444444444444444,
              "#bd3786"
             ],
             [
              0.5555555555555556,
              "#d8576b"
             ],
             [
              0.6666666666666666,
              "#ed7953"
             ],
             [
              0.7777777777777778,
              "#fb9f3a"
             ],
             [
              0.8888888888888888,
              "#fdca26"
             ],
             [
              1,
              "#f0f921"
             ]
            ],
            "type": "surface"
           }
          ],
          "table": [
           {
            "cells": {
             "fill": {
              "color": "#EBF0F8"
             },
             "line": {
              "color": "white"
             }
            },
            "header": {
             "fill": {
              "color": "#C8D4E3"
             },
             "line": {
              "color": "white"
             }
            },
            "type": "table"
           }
          ]
         },
         "layout": {
          "annotationdefaults": {
           "arrowcolor": "#2a3f5f",
           "arrowhead": 0,
           "arrowwidth": 1
          },
          "autotypenumbers": "strict",
          "coloraxis": {
           "colorbar": {
            "outlinewidth": 0,
            "ticks": ""
           }
          },
          "colorscale": {
           "diverging": [
            [
             0,
             "#8e0152"
            ],
            [
             0.1,
             "#c51b7d"
            ],
            [
             0.2,
             "#de77ae"
            ],
            [
             0.3,
             "#f1b6da"
            ],
            [
             0.4,
             "#fde0ef"
            ],
            [
             0.5,
             "#f7f7f7"
            ],
            [
             0.6,
             "#e6f5d0"
            ],
            [
             0.7,
             "#b8e186"
            ],
            [
             0.8,
             "#7fbc41"
            ],
            [
             0.9,
             "#4d9221"
            ],
            [
             1,
             "#276419"
            ]
           ],
           "sequential": [
            [
             0,
             "#0d0887"
            ],
            [
             0.1111111111111111,
             "#46039f"
            ],
            [
             0.2222222222222222,
             "#7201a8"
            ],
            [
             0.3333333333333333,
             "#9c179e"
            ],
            [
             0.4444444444444444,
             "#bd3786"
            ],
            [
             0.5555555555555556,
             "#d8576b"
            ],
            [
             0.6666666666666666,
             "#ed7953"
            ],
            [
             0.7777777777777778,
             "#fb9f3a"
            ],
            [
             0.8888888888888888,
             "#fdca26"
            ],
            [
             1,
             "#f0f921"
            ]
           ],
           "sequentialminus": [
            [
             0,
             "#0d0887"
            ],
            [
             0.1111111111111111,
             "#46039f"
            ],
            [
             0.2222222222222222,
             "#7201a8"
            ],
            [
             0.3333333333333333,
             "#9c179e"
            ],
            [
             0.4444444444444444,
             "#bd3786"
            ],
            [
             0.5555555555555556,
             "#d8576b"
            ],
            [
             0.6666666666666666,
             "#ed7953"
            ],
            [
             0.7777777777777778,
             "#fb9f3a"
            ],
            [
             0.8888888888888888,
             "#fdca26"
            ],
            [
             1,
             "#f0f921"
            ]
           ]
          },
          "colorway": [
           "#636efa",
           "#EF553B",
           "#00cc96",
           "#ab63fa",
           "#FFA15A",
           "#19d3f3",
           "#FF6692",
           "#B6E880",
           "#FF97FF",
           "#FECB52"
          ],
          "font": {
           "color": "#2a3f5f"
          },
          "geo": {
           "bgcolor": "white",
           "lakecolor": "white",
           "landcolor": "#E5ECF6",
           "showlakes": true,
           "showland": true,
           "subunitcolor": "white"
          },
          "hoverlabel": {
           "align": "left"
          },
          "hovermode": "closest",
          "mapbox": {
           "style": "light"
          },
          "paper_bgcolor": "white",
          "plot_bgcolor": "#E5ECF6",
          "polar": {
           "angularaxis": {
            "gridcolor": "white",
            "linecolor": "white",
            "ticks": ""
           },
           "bgcolor": "#E5ECF6",
           "radialaxis": {
            "gridcolor": "white",
            "linecolor": "white",
            "ticks": ""
           }
          },
          "scene": {
           "xaxis": {
            "backgroundcolor": "#E5ECF6",
            "gridcolor": "white",
            "gridwidth": 2,
            "linecolor": "white",
            "showbackground": true,
            "ticks": "",
            "zerolinecolor": "white"
           },
           "yaxis": {
            "backgroundcolor": "#E5ECF6",
            "gridcolor": "white",
            "gridwidth": 2,
            "linecolor": "white",
            "showbackground": true,
            "ticks": "",
            "zerolinecolor": "white"
           },
           "zaxis": {
            "backgroundcolor": "#E5ECF6",
            "gridcolor": "white",
            "gridwidth": 2,
            "linecolor": "white",
            "showbackground": true,
            "ticks": "",
            "zerolinecolor": "white"
           }
          },
          "shapedefaults": {
           "line": {
            "color": "#2a3f5f"
           }
          },
          "ternary": {
           "aaxis": {
            "gridcolor": "white",
            "linecolor": "white",
            "ticks": ""
           },
           "baxis": {
            "gridcolor": "white",
            "linecolor": "white",
            "ticks": ""
           },
           "bgcolor": "#E5ECF6",
           "caxis": {
            "gridcolor": "white",
            "linecolor": "white",
            "ticks": ""
           }
          },
          "title": {
           "x": 0.05
          },
          "xaxis": {
           "automargin": true,
           "gridcolor": "white",
           "linecolor": "white",
           "ticks": "",
           "title": {
            "standoff": 15
           },
           "zerolinecolor": "white",
           "zerolinewidth": 2
          },
          "yaxis": {
           "automargin": true,
           "gridcolor": "white",
           "linecolor": "white",
           "ticks": "",
           "title": {
            "standoff": 15
           },
           "zerolinecolor": "white",
           "zerolinewidth": 2
          }
         }
        },
        "title": {
         "text": "Comparison of Slugging between Season and Career"
        },
        "xaxis": {
         "anchor": "y",
         "domain": [
          0,
          1
         ],
         "title": {
          "text": "slg"
         }
        },
        "yaxis": {
         "anchor": "x",
         "domain": [
          0,
          1
         ],
         "title": {
          "text": ""
         }
        }
       }
      }
     },
     "metadata": {},
     "output_type": "display_data"
    }
   ],
   "source": [
    "combined_data = pd.concat([player_season.assign(DataType='Season'),\n",
    "                           player_career.assign(DataType='Career')])\n",
    "fig = px.bar(combined_data, x='slg', y='FullName', color='DataType',\n",
    "             title='Comparison of Slugging between Season and Career',\n",
    "             orientation='v')\n",
    "fig.update_layout(yaxis=dict(title=''))\n",
    "fig.show()"
   ]
  },
  {
   "cell_type": "code",
   "execution_count": null,
   "metadata": {},
   "outputs": [
    {
     "data": {
      "application/vnd.plotly.v1+json": {
       "config": {
        "plotlyServerURL": "https://plot.ly"
       },
       "data": [
        {
         "alignmentgroup": "True",
         "hovertemplate": "DataType=Season<br>obp=%{x}<br>FullName=%{y}<extra></extra>",
         "legendgroup": "Season",
         "marker": {
          "color": "#636efa",
          "pattern": {
           "shape": ""
          }
         },
         "name": "Season",
         "offsetgroup": "Season",
         "orientation": "v",
         "showlegend": true,
         "textposition": "auto",
         "type": "bar",
         "x": [
          ".386",
          ".382",
          ".361",
          ".347",
          ".301",
          ".331",
          ".369",
          ".369",
          ".393",
          ".397",
          ".336",
          ".444",
          ".371",
          ".374",
          ".423",
          ".360",
          ".279",
          ".378",
          ".316",
          ".331",
          ".274",
          ".378",
          ".393",
          ".373",
          ".366",
          ".288",
          ".328",
          ".388",
          ".263",
          ".400",
          ".385",
          ".276",
          ".281",
          ".338",
          ".267",
          ".374",
          ".366",
          ".319",
          ".331",
          ".380",
          ".336",
          ".364",
          ".341",
          ".321",
          ".393",
          ".328",
          ".323",
          ".300",
          ".264",
          ".374",
          ".308",
          ".370",
          ".318",
          ".287",
          ".315",
          ".315",
          ".419",
          ".449",
          ".297",
          ".307",
          ".363",
          ".302",
          ".331",
          ".405",
          ".246",
          ".365",
          ".320",
          ".293",
          ".400",
          ".347",
          ".339",
          ".317",
          ".382",
          ".262",
          ".295",
          ".309",
          ".267",
          ".355",
          ".339",
          ".385",
          ".325",
          ".306",
          ".347",
          ".304",
          ".292",
          ".431",
          ".319",
          ".294",
          ".370",
          ".370",
          ".347",
          ".299",
          ".333",
          ".316",
          ".325",
          ".398",
          ".342",
          ".263",
          ".357",
          ".310",
          ".325",
          ".325",
          ".336",
          ".284",
          ".325",
          ".391",
          ".322",
          ".287",
          ".363",
          ".328",
          ".263",
          ".325",
          ".327",
          ".439",
          ".265",
          ".294",
          ".352",
          ".343",
          ".363",
          ".324",
          ".369",
          ".297",
          ".376",
          ".315",
          ".321",
          ".327",
          ".382",
          ".273",
          ".370",
          ".413",
          ".306",
          ".309",
          ".491",
          ".316",
          ".266",
          ".358",
          ".306",
          ".336",
          ".442",
          ".318",
          ".311",
          ".291",
          ".333",
          ".330",
          ".276",
          ".267",
          ".394",
          ".320",
          ".299",
          ".320",
          ".311",
          ".306",
          ".265",
          ".240",
          ".306",
          ".293",
          ".227",
          ".347",
          ".357",
          ".347",
          ".382",
          ".275",
          ".390",
          ".297",
          ".248",
          ".340",
          ".287",
          ".374",
          ".292",
          ".320",
          ".347",
          ".309",
          ".260",
          ".242",
          ".226",
          ".371",
          ".302",
          ".302",
          ".371",
          ".313",
          ".330",
          ".275",
          ".309",
          ".381",
          ".436",
          ".239",
          ".359",
          ".292",
          ".385",
          ".371",
          ".330",
          ".315",
          ".367",
          ".273",
          ".326",
          ".344",
          ".299",
          ".193",
          ".303",
          ".404",
          ".386",
          ".265",
          ".291",
          ".386",
          ".291",
          ".289",
          ".313",
          ".296",
          ".306",
          ".294",
          ".304",
          ".263",
          ".269",
          ".321",
          ".346",
          ".244",
          ".266",
          ".272",
          ".325",
          ".243",
          ".321",
          ".280",
          ".473",
          ".347",
          ".312",
          ".288",
          ".350",
          ".234",
          ".311",
          ".299",
          ".397",
          ".247",
          ".288",
          ".355",
          ".377",
          ".247",
          ".208",
          ".310",
          ".342",
          ".271",
          ".229",
          ".352",
          ".286",
          ".282",
          ".243",
          ".351",
          ".329",
          ".293",
          ".356",
          ".319",
          ".324",
          ".342",
          ".411",
          ".235",
          ".397",
          ".206",
          ".279",
          ".323",
          ".353",
          ".278",
          ".353",
          ".212",
          ".348",
          ".200",
          ".382",
          ".343",
          ".344",
          ".231",
          ".324",
          ".343",
          ".338",
          ".242",
          ".222",
          ".306"
         ],
         "xaxis": "x",
         "y": [
          "Freddie  Freeman",
          "Alex  Verdugo",
          "Steven Kwan",
          "Nico Hoerner",
          "Trea  Turner",
          "Bryson Stott",
          "Justin  Turner",
          "Matt  Olson",
          "Vladimir  Guerrero",
          "Juan  Soto",
          "Alex  Bregman",
          "Ronald  Acuna",
          "Bo Bichette",
          "Jose  Ramirez",
          "Adley Rutschman",
          "Marcus  Semien",
          "Rafael  Devers",
          "Jonathan India",
          "Kyle  Schwarber",
          "Austin  Riley",
          "Ryan Mountcastle",
          "Xander  Bogaerts",
          "Paul  Goldschmidt",
          "Mookie Betts",
          "Nick  Castellanos",
          "Jeremy  Pena",
          "Taylor Ward",
          "Mike  Trout",
          "Bobby Witt",
          "Dansby  Swanson",
          "Randy Arozarena",
          "Jeimer  Candelario",
          "Manny  Machado",
          "Nathaniel Lowe",
          "Jose  Abreu",
          "Anthony  Rizzo",
          "Andrew Vaughn",
          "Francisco  Lindor",
          "Josh  Bell",
          "Vinnie Pasquantino",
          "Alec Bohm",
          "Kyle Tucker",
          "Esteury Ruiz",
          "Pete  Alonso",
          "Brandon  Nimmo",
          "Willy  Adames",
          "Eugenio  Suarez",
          "Nolan  Arenado",
          "George  Springer",
          "Wander Franco",
          "Joey Meneses",
          "Shohei  Ohtani",
          "Ozzie  Albies",
          "Ke'Bryan Hayes",
          "Jake Cronenworth",
          "Hunter  Renfroe",
          "Ian  Happ",
          "Matt  Chapman",
          "Julio Rodriguez",
          "Adolis  Garcia",
          "Cedric Mullins",
          "Daulton Varsho",
          "Ty France",
          "Jeff  McNeil",
          "Teoscar  Hernandez",
          "Bryan  Reynolds",
          "Christian  Yelich",
          "Jose Miranda",
          "Thairo Estrada",
          "Trent  Grisham",
          "Gleyber  Torres",
          "Andres Gimenez",
          "James Outman",
          "Luis Robert",
          "Jazz Chisholm",
          "Enrique Hernandez",
          "Elvis  Andrus",
          "Tyler Stephenson",
          "Trevor Larnach",
          "Charlie  Blackmon",
          "Anthony Volpe",
          "Christian  Walker",
          "Carlos  Santana",
          "Riley Greene",
          "Ryan  McMahon",
          "Yandy  Diaz",
          "Brian  Anderson",
          "Jurickson  Profar",
          "Kris  Bryant",
          "Cody  Bellinger",
          "Andrew  McCutchen",
          "Anthony  Santander",
          "Lane  Thomas",
          "Spencer Steer",
          "Dominic  Smith",
          "Max  Muncy",
          "Byron  Buxton",
          "Amed  Rosario",
          "TJ Friedl",
          "Salvador  Perez",
          "Ketel  Marte",
          "Josh Jung",
          "Myles Straw",
          "Jorge  Soler",
          "Mauricio Dubon",
          "Masataka Yoshida",
          "Patrick Wisdom",
          "Carlos  Correa",
          "Miguel Vargas",
          "Alex Call",
          "Spencer Torkelson",
          "Lourdes  Gurriel",
          "Andrew  Benintendi",
          "Sean Murphy",
          "MJ Melendez",
          "J.T.  Realmuto",
          "Aaron  Judge",
          "Austin Hays",
          "Willson  Contreras",
          "DJ  LeMahieu",
          "J.P.  Crawford",
          "C.J.  Cron",
          "Corbin Carroll",
          "Keibert Ruiz",
          "Ha-Seong Kim",
          "Isaac Paredes",
          "Yordan  Alvarez",
          "Brandon  Drury",
          "Jarred Kelenic",
          "Brandon Marsh",
          "CJ Abrams",
          "Starling  Marte",
          "Luis  Arraez",
          "Mark  Canha",
          "Josh  Naylor",
          "Nolan Gorman",
          "Gio Urshela",
          "Rowdy Tellez",
          "LaMonte Wade",
          "Brandon  Lowe",
          "Trey  Mancini",
          "Bryan De La Cruz",
          "Mike  Yastrzemski",
          "Tommy  Edman",
          "Shea Langeliers",
          "Tony  Kemp",
          "Victor  Robles",
          "Cal Raleigh",
          "Javier  Baez",
          "Josh  Rojas",
          "Michael  Conforto",
          "Garrett  Cooper",
          "Ezequiel Tovar",
          "Jean  Segura",
          "J.D.  Martinez",
          "Joey Wiemer",
          "Oswaldo Cabrera",
          "J.D.  Davis",
          "Gunnar Henderson",
          "Yasmani  Grandal",
          "Connor Joe",
          "Luis Garcia",
          "Elias  Diaz",
          "Triston Casas",
          "Alek Thomas",
          "Jake Fraley",
          "Michael A.  Taylor",
          "Rodolfo Castro",
          "Tyler O'Neill",
          "Edward Olivares",
          "Whit  Merrifield",
          "Jon  Berti",
          "Nick Maton",
          "David Villar",
          "Aledmys  Diaz",
          "William Contreras",
          "Jace  Peterson",
          "Eloy  Jimenez",
          "Jonah Heim",
          "Brendan Donovan",
          "Robbie  Grossman",
          "Eddie  Rosario",
          "Adam  Frazier",
          "Anthony  Rendon",
          "Brent Rooker",
          "Kyle Isbel",
          "Ramon Urias",
          "Wil Myers",
          "Ryan Noda",
          "Jorge Mateo",
          "Matt Vierling",
          "Ji Hwan Bae",
          "Jack Suwinski",
          "Alec Burleson",
          "Kevin  Kiermaier",
          "Luis  Rengifo",
          "Manuel  Margot",
          "Michael Massey",
          "Wilmer  Flores",
          "Harold  Ramirez",
          "Alejandro Kirk",
          "Oscar Colas",
          "Brice Turang",
          "Josh Lowe",
          "Jose Barrero",
          "Corey Julks",
          "Jesus  Aguilar",
          "Gabriel Moreno",
          "Jake Meyers",
          "Eric  Hosmer",
          "Yonathan  Daza",
          "Kolten  Wong",
          "Austin Nola",
          "Jordan Walker",
          "Mike  Zunino",
          "Brandon  Crawford",
          "Martin  Maldonado",
          "Chris  Taylor",
          "Christian  Vazquez",
          "Avisail  Garcia",
          "Max  Kepler",
          "Kerry Carpenter",
          "Geraldo Perdomo",
          "Conner Capel",
          "Jake Burger",
          "Christian Arroyo",
          "Seiya Suzuki",
          "David  Peralta",
          "Nelson  Cruz",
          "Ramon  Laureano",
          "Taylor Walls",
          "Kevin  Newman",
          "Blake Sabol",
          "Matt  Carpenter",
          "Will  Smith",
          "Marcell  Ozuna",
          "Oscar Gonzalez",
          "Yan  Gomes",
          "Donovan  Solano",
          "Danny  Jansen",
          "Jake McCarthy",
          "Joc  Pederson",
          "Jake  Cave",
          "Christian Bethancourt",
          "Will Brennan",
          "Ezequiel Duran",
          "Eric Haase",
          "Luke Raley",
          "Nick  Senzel",
          "Edmundo Sosa",
          "Joey  Gallo",
          "Connor Wong",
          "Daniel  Vogelbach",
          "Brandon  Belt",
          "Lars Nootbaar",
          "Kevin Smith",
          "Jose  Trevino",
          "Nicky  Lopez",
          "Jason  Heyward",
          "Dylan Carlson",
          "Jesse  Winker",
          "Hunter  Dozier",
          "Stuart Fairchild",
          "Jason Vosler",
          "Travis  Jankowski",
          "Zach Neto",
          "Josh H. Smith",
          "Franmil  Reyes",
          "Akil Baddoo",
          "Zach McKinstry",
          "Sam Hilliard",
          "David Hensley",
          "Eduardo  Escobar",
          "Garrett Mitchell"
         ],
         "yaxis": "y"
        },
        {
         "alignmentgroup": "True",
         "hovertemplate": "DataType=Career<br>obp=%{x}<br>FullName=%{y}<extra></extra>",
         "legendgroup": "Career",
         "marker": {
          "color": "#EF553B",
          "pattern": {
           "shape": ""
          }
         },
         "name": "Career",
         "offsetgroup": "Career",
         "orientation": "v",
         "showlegend": true,
         "textposition": "auto",
         "type": "bar",
         "x": [
          ".386",
          ".344",
          ".371",
          ".335",
          ".353",
          ".303",
          ".366",
          ".344",
          ".360",
          ".423",
          ".374",
          ".374",
          ".342",
          ".355",
          ".376",
          ".322",
          ".339",
          ".359",
          ".338",
          ".339",
          ".312",
          ".357",
          ".391",
          ".369",
          ".327",
          ".289",
          ".333",
          ".414",
          ".289",
          ".324",
          ".348",
          ".320",
          ".340",
          ".351",
          ".352",
          ".367",
          ".321",
          ".341",
          ".350",
          ".382",
          ".325",
          ".337",
          ".309",
          ".347",
          ".386",
          ".323",
          ".334",
          ".345",
          ".355",
          ".343",
          ".345",
          ".355",
          ".322",
          ".322",
          ".336",
          ".301",
          ".343",
          ".333",
          ".336",
          ".292",
          ".330",
          ".305",
          ".346",
          ".372",
          ".316",
          ".361",
          ".375",
          ".318",
          ".327",
          ".319",
          ".331",
          ".341",
          ".403",
          ".326",
          ".304",
          ".314",
          ".325",
          ".366",
          ".321",
          ".355",
          ".325",
          ".327",
          ".359",
          ".318",
          ".322",
          ".375",
          ".339",
          ".321",
          ".376",
          ".333",
          ".369",
          ".300",
          ".316",
          ".311",
          ".309",
          ".357",
          ".303",
          ".307",
          ".330",
          ".301",
          ".341",
          ".283",
          ".323",
          ".326",
          ".292",
          ".391",
          ".303",
          ".355",
          ".313",
          ".332",
          ".280",
          ".329",
          ".351",
          ".336",
          ".304",
          ".331",
          ".393",
          ".312",
          ".349",
          ".356",
          ".335",
          ".321",
          ".353",
          ".315",
          ".308",
          ".304",
          ".384",
          ".301",
          ".270",
          ".317",
          ".287",
          ".345",
          ".382",
          ".347",
          ".308",
          ".315",
          ".321",
          ".309",
          ".336",
          ".334",
          ".329",
          ".314",
          ".327",
          ".323",
          ".267",
          ".326",
          ".311",
          ".276",
          ".302",
          ".335",
          ".355",
          ".345",
          ".263",
          ".329",
          ".351",
          ".293",
          ".281",
          ".350",
          ".352",
          ".350",
          ".351",
          ".288",
          ".303",
          ".327",
          ".270",
          ".332",
          ".296",
          ".306",
          ".318",
          ".307",
          ".332",
          ".333",
          ".308",
          ".301",
          ".316",
          ".343",
          ".320",
          ".325",
          ".286",
          ".380",
          ".346",
          ".304",
          ".335",
          ".368",
          ".327",
          ".272",
          ".334",
          ".328",
          ".385",
          ".282",
          ".313",
          ".341",
          ".312",
          ".270",
          ".308",
          ".297",
          ".308",
          ".271",
          ".314",
          ".326",
          ".364",
          ".265",
          ".291",
          ".321",
          ".232",
          ".289",
          ".324",
          ".325",
          ".298",
          ".336",
          ".329",
          ".333",
          ".331",
          ".321",
          ".272",
          ".320",
          ".285",
          ".331",
          ".310",
          ".318",
          ".317",
          ".298",
          ".314",
          ".351",
          ".309",
          ".306",
          ".338",
          ".337",
          ".344",
          ".323",
          ".293",
          ".301",
          ".288",
          ".369",
          ".357",
          ".326",
          ".308",
          ".296",
          ".327",
          ".305",
          ".324",
          ".335",
          ".297",
          ".266",
          ".303",
          ".296",
          ".291",
          ".283",
          ".307",
          ".321",
          ".325",
          ".317",
          ".346",
          ".355",
          ".343",
          ".211",
          ".276",
          ".310",
          ".339",
          ".321",
          ".373",
          ".304",
          ".332",
          ".279",
          ".323",
          ".343",
          ".314",
          ".310",
          ".317",
          ".281",
          ".298",
          ".310",
          ".306",
          ".341"
         ],
         "xaxis": "x",
         "y": [
          "Freddie  Freeman",
          "Alex  Verdugo",
          "Steven Kwan",
          "Nico Hoerner",
          "Trea  Turner",
          "Bryson Stott",
          "Justin  Turner",
          "Matt  Olson",
          "Vladimir  Guerrero",
          "Juan  Soto",
          "Alex  Bregman",
          "Ronald  Acuna",
          "Bo Bichette",
          "Jose  Ramirez",
          "Adley Rutschman",
          "Marcus  Semien",
          "Rafael  Devers",
          "Jonathan India",
          "Kyle  Schwarber",
          "Austin  Riley",
          "Ryan Mountcastle",
          "Xander  Bogaerts",
          "Paul  Goldschmidt",
          "Mookie Betts",
          "Nick  Castellanos",
          "Jeremy  Pena",
          "Taylor Ward",
          "Mike  Trout",
          "Bobby Witt",
          "Dansby  Swanson",
          "Randy Arozarena",
          "Jeimer  Candelario",
          "Manny  Machado",
          "Nathaniel Lowe",
          "Jose  Abreu",
          "Anthony  Rizzo",
          "Andrew Vaughn",
          "Francisco  Lindor",
          "Josh  Bell",
          "Vinnie Pasquantino",
          "Alec Bohm",
          "Kyle Tucker",
          "Esteury Ruiz",
          "Pete  Alonso",
          "Brandon  Nimmo",
          "Willy  Adames",
          "Eugenio  Suarez",
          "Nolan  Arenado",
          "George  Springer",
          "Wander Franco",
          "Joey Meneses",
          "Shohei  Ohtani",
          "Ozzie  Albies",
          "Ke'Bryan Hayes",
          "Jake Cronenworth",
          "Hunter  Renfroe",
          "Ian  Happ",
          "Matt  Chapman",
          "Julio Rodriguez",
          "Adolis  Garcia",
          "Cedric Mullins",
          "Daulton Varsho",
          "Ty France",
          "Jeff  McNeil",
          "Teoscar  Hernandez",
          "Bryan  Reynolds",
          "Christian  Yelich",
          "Jose Miranda",
          "Thairo Estrada",
          "Trent  Grisham",
          "Gleyber  Torres",
          "Andres Gimenez",
          "James Outman",
          "Luis Robert",
          "Jazz Chisholm",
          "Enrique Hernandez",
          "Elvis  Andrus",
          "Tyler Stephenson",
          "Trevor Larnach",
          "Charlie  Blackmon",
          "Anthony Volpe",
          "Christian  Walker",
          "Carlos  Santana",
          "Riley Greene",
          "Ryan  McMahon",
          "Yandy  Diaz",
          "Brian  Anderson",
          "Jurickson  Profar",
          "Kris  Bryant",
          "Cody  Bellinger",
          "Andrew  McCutchen",
          "Anthony  Santander",
          "Lane  Thomas",
          "Spencer Steer",
          "Dominic  Smith",
          "Max  Muncy",
          "Byron  Buxton",
          "Amed  Rosario",
          "TJ Friedl",
          "Salvador  Perez",
          "Ketel  Marte",
          "Josh Jung",
          "Myles Straw",
          "Jorge  Soler",
          "Mauricio Dubon",
          "Masataka Yoshida",
          "Patrick Wisdom",
          "Carlos  Correa",
          "Miguel Vargas",
          "Alex Call",
          "Spencer Torkelson",
          "Lourdes  Gurriel",
          "Andrew  Benintendi",
          "Sean Murphy",
          "MJ Melendez",
          "J.T.  Realmuto",
          "Aaron  Judge",
          "Austin Hays",
          "Willson  Contreras",
          "DJ  LeMahieu",
          "J.P.  Crawford",
          "C.J.  Cron",
          "Corbin Carroll",
          "Keibert Ruiz",
          "Ha-Seong Kim",
          "Isaac Paredes",
          "Yordan  Alvarez",
          "Brandon  Drury",
          "Jarred Kelenic",
          "Brandon Marsh",
          "CJ Abrams",
          "Starling  Marte",
          "Luis  Arraez",
          "Mark  Canha",
          "Josh  Naylor",
          "Nolan Gorman",
          "Gio Urshela",
          "Rowdy Tellez",
          "LaMonte Wade",
          "Brandon  Lowe",
          "Trey  Mancini",
          "Bryan De La Cruz",
          "Mike  Yastrzemski",
          "Tommy  Edman",
          "Shea Langeliers",
          "Tony  Kemp",
          "Victor  Robles",
          "Cal Raleigh",
          "Javier  Baez",
          "Josh  Rojas",
          "Michael  Conforto",
          "Garrett  Cooper",
          "Ezequiel Tovar",
          "Jean  Segura",
          "J.D.  Martinez",
          "Joey Wiemer",
          "Oswaldo Cabrera",
          "J.D.  Davis",
          "Gunnar Henderson",
          "Yasmani  Grandal",
          "Connor Joe",
          "Luis Garcia",
          "Elias  Diaz",
          "Triston Casas",
          "Alek Thomas",
          "Jake Fraley",
          "Michael A.  Taylor",
          "Rodolfo Castro",
          "Tyler O'Neill",
          "Edward Olivares",
          "Whit  Merrifield",
          "Jon  Berti",
          "Nick Maton",
          "David Villar",
          "Aledmys  Diaz",
          "William Contreras",
          "Jace  Peterson",
          "Eloy  Jimenez",
          "Jonah Heim",
          "Brendan Donovan",
          "Robbie  Grossman",
          "Eddie  Rosario",
          "Adam  Frazier",
          "Anthony  Rendon",
          "Brent Rooker",
          "Kyle Isbel",
          "Ramon Urias",
          "Wil Myers",
          "Ryan Noda",
          "Jorge Mateo",
          "Matt Vierling",
          "Ji Hwan Bae",
          "Jack Suwinski",
          "Alec Burleson",
          "Kevin  Kiermaier",
          "Luis  Rengifo",
          "Manuel  Margot",
          "Michael Massey",
          "Wilmer  Flores",
          "Harold  Ramirez",
          "Alejandro Kirk",
          "Oscar Colas",
          "Brice Turang",
          "Josh Lowe",
          "Jose Barrero",
          "Corey Julks",
          "Jesus  Aguilar",
          "Gabriel Moreno",
          "Jake Meyers",
          "Eric  Hosmer",
          "Yonathan  Daza",
          "Kolten  Wong",
          "Austin Nola",
          "Jordan Walker",
          "Mike  Zunino",
          "Brandon  Crawford",
          "Martin  Maldonado",
          "Chris  Taylor",
          "Christian  Vazquez",
          "Avisail  Garcia",
          "Max  Kepler",
          "Kerry Carpenter",
          "Geraldo Perdomo",
          "Conner Capel",
          "Jake Burger",
          "Christian Arroyo",
          "Seiya Suzuki",
          "David  Peralta",
          "Nelson  Cruz",
          "Ramon  Laureano",
          "Taylor Walls",
          "Kevin  Newman",
          "Blake Sabol",
          "Matt  Carpenter",
          "Will  Smith",
          "Marcell  Ozuna",
          "Oscar Gonzalez",
          "Yan  Gomes",
          "Donovan  Solano",
          "Danny  Jansen",
          "Jake McCarthy",
          "Joc  Pederson",
          "Jake  Cave",
          "Christian Bethancourt",
          "Will Brennan",
          "Ezequiel Duran",
          "Eric Haase",
          "Luke Raley",
          "Nick  Senzel",
          "Edmundo Sosa",
          "Joey  Gallo",
          "Connor Wong",
          "Daniel  Vogelbach",
          "Brandon  Belt",
          "Lars Nootbaar",
          "Kevin Smith",
          "Jose  Trevino",
          "Nicky  Lopez",
          "Jason  Heyward",
          "Dylan Carlson",
          "Jesse  Winker",
          "Hunter  Dozier",
          "Stuart Fairchild",
          "Jason Vosler",
          "Travis  Jankowski",
          "Zach Neto",
          "Josh H. Smith",
          "Franmil  Reyes",
          "Akil Baddoo",
          "Zach McKinstry",
          "Sam Hilliard",
          "David Hensley",
          "Eduardo  Escobar",
          "Garrett Mitchell"
         ],
         "yaxis": "y"
        }
       ],
       "layout": {
        "barmode": "relative",
        "legend": {
         "title": {
          "text": "DataType"
         },
         "tracegroupgap": 0
        },
        "template": {
         "data": {
          "bar": [
           {
            "error_x": {
             "color": "#2a3f5f"
            },
            "error_y": {
             "color": "#2a3f5f"
            },
            "marker": {
             "line": {
              "color": "#E5ECF6",
              "width": 0.5
             },
             "pattern": {
              "fillmode": "overlay",
              "size": 10,
              "solidity": 0.2
             }
            },
            "type": "bar"
           }
          ],
          "barpolar": [
           {
            "marker": {
             "line": {
              "color": "#E5ECF6",
              "width": 0.5
             },
             "pattern": {
              "fillmode": "overlay",
              "size": 10,
              "solidity": 0.2
             }
            },
            "type": "barpolar"
           }
          ],
          "carpet": [
           {
            "aaxis": {
             "endlinecolor": "#2a3f5f",
             "gridcolor": "white",
             "linecolor": "white",
             "minorgridcolor": "white",
             "startlinecolor": "#2a3f5f"
            },
            "baxis": {
             "endlinecolor": "#2a3f5f",
             "gridcolor": "white",
             "linecolor": "white",
             "minorgridcolor": "white",
             "startlinecolor": "#2a3f5f"
            },
            "type": "carpet"
           }
          ],
          "choropleth": [
           {
            "colorbar": {
             "outlinewidth": 0,
             "ticks": ""
            },
            "type": "choropleth"
           }
          ],
          "contour": [
           {
            "colorbar": {
             "outlinewidth": 0,
             "ticks": ""
            },
            "colorscale": [
             [
              0,
              "#0d0887"
             ],
             [
              0.1111111111111111,
              "#46039f"
             ],
             [
              0.2222222222222222,
              "#7201a8"
             ],
             [
              0.3333333333333333,
              "#9c179e"
             ],
             [
              0.4444444444444444,
              "#bd3786"
             ],
             [
              0.5555555555555556,
              "#d8576b"
             ],
             [
              0.6666666666666666,
              "#ed7953"
             ],
             [
              0.7777777777777778,
              "#fb9f3a"
             ],
             [
              0.8888888888888888,
              "#fdca26"
             ],
             [
              1,
              "#f0f921"
             ]
            ],
            "type": "contour"
           }
          ],
          "contourcarpet": [
           {
            "colorbar": {
             "outlinewidth": 0,
             "ticks": ""
            },
            "type": "contourcarpet"
           }
          ],
          "heatmap": [
           {
            "colorbar": {
             "outlinewidth": 0,
             "ticks": ""
            },
            "colorscale": [
             [
              0,
              "#0d0887"
             ],
             [
              0.1111111111111111,
              "#46039f"
             ],
             [
              0.2222222222222222,
              "#7201a8"
             ],
             [
              0.3333333333333333,
              "#9c179e"
             ],
             [
              0.4444444444444444,
              "#bd3786"
             ],
             [
              0.5555555555555556,
              "#d8576b"
             ],
             [
              0.6666666666666666,
              "#ed7953"
             ],
             [
              0.7777777777777778,
              "#fb9f3a"
             ],
             [
              0.8888888888888888,
              "#fdca26"
             ],
             [
              1,
              "#f0f921"
             ]
            ],
            "type": "heatmap"
           }
          ],
          "heatmapgl": [
           {
            "colorbar": {
             "outlinewidth": 0,
             "ticks": ""
            },
            "colorscale": [
             [
              0,
              "#0d0887"
             ],
             [
              0.1111111111111111,
              "#46039f"
             ],
             [
              0.2222222222222222,
              "#7201a8"
             ],
             [
              0.3333333333333333,
              "#9c179e"
             ],
             [
              0.4444444444444444,
              "#bd3786"
             ],
             [
              0.5555555555555556,
              "#d8576b"
             ],
             [
              0.6666666666666666,
              "#ed7953"
             ],
             [
              0.7777777777777778,
              "#fb9f3a"
             ],
             [
              0.8888888888888888,
              "#fdca26"
             ],
             [
              1,
              "#f0f921"
             ]
            ],
            "type": "heatmapgl"
           }
          ],
          "histogram": [
           {
            "marker": {
             "pattern": {
              "fillmode": "overlay",
              "size": 10,
              "solidity": 0.2
             }
            },
            "type": "histogram"
           }
          ],
          "histogram2d": [
           {
            "colorbar": {
             "outlinewidth": 0,
             "ticks": ""
            },
            "colorscale": [
             [
              0,
              "#0d0887"
             ],
             [
              0.1111111111111111,
              "#46039f"
             ],
             [
              0.2222222222222222,
              "#7201a8"
             ],
             [
              0.3333333333333333,
              "#9c179e"
             ],
             [
              0.4444444444444444,
              "#bd3786"
             ],
             [
              0.5555555555555556,
              "#d8576b"
             ],
             [
              0.6666666666666666,
              "#ed7953"
             ],
             [
              0.7777777777777778,
              "#fb9f3a"
             ],
             [
              0.8888888888888888,
              "#fdca26"
             ],
             [
              1,
              "#f0f921"
             ]
            ],
            "type": "histogram2d"
           }
          ],
          "histogram2dcontour": [
           {
            "colorbar": {
             "outlinewidth": 0,
             "ticks": ""
            },
            "colorscale": [
             [
              0,
              "#0d0887"
             ],
             [
              0.1111111111111111,
              "#46039f"
             ],
             [
              0.2222222222222222,
              "#7201a8"
             ],
             [
              0.3333333333333333,
              "#9c179e"
             ],
             [
              0.4444444444444444,
              "#bd3786"
             ],
             [
              0.5555555555555556,
              "#d8576b"
             ],
             [
              0.6666666666666666,
              "#ed7953"
             ],
             [
              0.7777777777777778,
              "#fb9f3a"
             ],
             [
              0.8888888888888888,
              "#fdca26"
             ],
             [
              1,
              "#f0f921"
             ]
            ],
            "type": "histogram2dcontour"
           }
          ],
          "mesh3d": [
           {
            "colorbar": {
             "outlinewidth": 0,
             "ticks": ""
            },
            "type": "mesh3d"
           }
          ],
          "parcoords": [
           {
            "line": {
             "colorbar": {
              "outlinewidth": 0,
              "ticks": ""
             }
            },
            "type": "parcoords"
           }
          ],
          "pie": [
           {
            "automargin": true,
            "type": "pie"
           }
          ],
          "scatter": [
           {
            "fillpattern": {
             "fillmode": "overlay",
             "size": 10,
             "solidity": 0.2
            },
            "type": "scatter"
           }
          ],
          "scatter3d": [
           {
            "line": {
             "colorbar": {
              "outlinewidth": 0,
              "ticks": ""
             }
            },
            "marker": {
             "colorbar": {
              "outlinewidth": 0,
              "ticks": ""
             }
            },
            "type": "scatter3d"
           }
          ],
          "scattercarpet": [
           {
            "marker": {
             "colorbar": {
              "outlinewidth": 0,
              "ticks": ""
             }
            },
            "type": "scattercarpet"
           }
          ],
          "scattergeo": [
           {
            "marker": {
             "colorbar": {
              "outlinewidth": 0,
              "ticks": ""
             }
            },
            "type": "scattergeo"
           }
          ],
          "scattergl": [
           {
            "marker": {
             "colorbar": {
              "outlinewidth": 0,
              "ticks": ""
             }
            },
            "type": "scattergl"
           }
          ],
          "scattermapbox": [
           {
            "marker": {
             "colorbar": {
              "outlinewidth": 0,
              "ticks": ""
             }
            },
            "type": "scattermapbox"
           }
          ],
          "scatterpolar": [
           {
            "marker": {
             "colorbar": {
              "outlinewidth": 0,
              "ticks": ""
             }
            },
            "type": "scatterpolar"
           }
          ],
          "scatterpolargl": [
           {
            "marker": {
             "colorbar": {
              "outlinewidth": 0,
              "ticks": ""
             }
            },
            "type": "scatterpolargl"
           }
          ],
          "scatterternary": [
           {
            "marker": {
             "colorbar": {
              "outlinewidth": 0,
              "ticks": ""
             }
            },
            "type": "scatterternary"
           }
          ],
          "surface": [
           {
            "colorbar": {
             "outlinewidth": 0,
             "ticks": ""
            },
            "colorscale": [
             [
              0,
              "#0d0887"
             ],
             [
              0.1111111111111111,
              "#46039f"
             ],
             [
              0.2222222222222222,
              "#7201a8"
             ],
             [
              0.3333333333333333,
              "#9c179e"
             ],
             [
              0.4444444444444444,
              "#bd3786"
             ],
             [
              0.5555555555555556,
              "#d8576b"
             ],
             [
              0.6666666666666666,
              "#ed7953"
             ],
             [
              0.7777777777777778,
              "#fb9f3a"
             ],
             [
              0.8888888888888888,
              "#fdca26"
             ],
             [
              1,
              "#f0f921"
             ]
            ],
            "type": "surface"
           }
          ],
          "table": [
           {
            "cells": {
             "fill": {
              "color": "#EBF0F8"
             },
             "line": {
              "color": "white"
             }
            },
            "header": {
             "fill": {
              "color": "#C8D4E3"
             },
             "line": {
              "color": "white"
             }
            },
            "type": "table"
           }
          ]
         },
         "layout": {
          "annotationdefaults": {
           "arrowcolor": "#2a3f5f",
           "arrowhead": 0,
           "arrowwidth": 1
          },
          "autotypenumbers": "strict",
          "coloraxis": {
           "colorbar": {
            "outlinewidth": 0,
            "ticks": ""
           }
          },
          "colorscale": {
           "diverging": [
            [
             0,
             "#8e0152"
            ],
            [
             0.1,
             "#c51b7d"
            ],
            [
             0.2,
             "#de77ae"
            ],
            [
             0.3,
             "#f1b6da"
            ],
            [
             0.4,
             "#fde0ef"
            ],
            [
             0.5,
             "#f7f7f7"
            ],
            [
             0.6,
             "#e6f5d0"
            ],
            [
             0.7,
             "#b8e186"
            ],
            [
             0.8,
             "#7fbc41"
            ],
            [
             0.9,
             "#4d9221"
            ],
            [
             1,
             "#276419"
            ]
           ],
           "sequential": [
            [
             0,
             "#0d0887"
            ],
            [
             0.1111111111111111,
             "#46039f"
            ],
            [
             0.2222222222222222,
             "#7201a8"
            ],
            [
             0.3333333333333333,
             "#9c179e"
            ],
            [
             0.4444444444444444,
             "#bd3786"
            ],
            [
             0.5555555555555556,
             "#d8576b"
            ],
            [
             0.6666666666666666,
             "#ed7953"
            ],
            [
             0.7777777777777778,
             "#fb9f3a"
            ],
            [
             0.8888888888888888,
             "#fdca26"
            ],
            [
             1,
             "#f0f921"
            ]
           ],
           "sequentialminus": [
            [
             0,
             "#0d0887"
            ],
            [
             0.1111111111111111,
             "#46039f"
            ],
            [
             0.2222222222222222,
             "#7201a8"
            ],
            [
             0.3333333333333333,
             "#9c179e"
            ],
            [
             0.4444444444444444,
             "#bd3786"
            ],
            [
             0.5555555555555556,
             "#d8576b"
            ],
            [
             0.6666666666666666,
             "#ed7953"
            ],
            [
             0.7777777777777778,
             "#fb9f3a"
            ],
            [
             0.8888888888888888,
             "#fdca26"
            ],
            [
             1,
             "#f0f921"
            ]
           ]
          },
          "colorway": [
           "#636efa",
           "#EF553B",
           "#00cc96",
           "#ab63fa",
           "#FFA15A",
           "#19d3f3",
           "#FF6692",
           "#B6E880",
           "#FF97FF",
           "#FECB52"
          ],
          "font": {
           "color": "#2a3f5f"
          },
          "geo": {
           "bgcolor": "white",
           "lakecolor": "white",
           "landcolor": "#E5ECF6",
           "showlakes": true,
           "showland": true,
           "subunitcolor": "white"
          },
          "hoverlabel": {
           "align": "left"
          },
          "hovermode": "closest",
          "mapbox": {
           "style": "light"
          },
          "paper_bgcolor": "white",
          "plot_bgcolor": "#E5ECF6",
          "polar": {
           "angularaxis": {
            "gridcolor": "white",
            "linecolor": "white",
            "ticks": ""
           },
           "bgcolor": "#E5ECF6",
           "radialaxis": {
            "gridcolor": "white",
            "linecolor": "white",
            "ticks": ""
           }
          },
          "scene": {
           "xaxis": {
            "backgroundcolor": "#E5ECF6",
            "gridcolor": "white",
            "gridwidth": 2,
            "linecolor": "white",
            "showbackground": true,
            "ticks": "",
            "zerolinecolor": "white"
           },
           "yaxis": {
            "backgroundcolor": "#E5ECF6",
            "gridcolor": "white",
            "gridwidth": 2,
            "linecolor": "white",
            "showbackground": true,
            "ticks": "",
            "zerolinecolor": "white"
           },
           "zaxis": {
            "backgroundcolor": "#E5ECF6",
            "gridcolor": "white",
            "gridwidth": 2,
            "linecolor": "white",
            "showbackground": true,
            "ticks": "",
            "zerolinecolor": "white"
           }
          },
          "shapedefaults": {
           "line": {
            "color": "#2a3f5f"
           }
          },
          "ternary": {
           "aaxis": {
            "gridcolor": "white",
            "linecolor": "white",
            "ticks": ""
           },
           "baxis": {
            "gridcolor": "white",
            "linecolor": "white",
            "ticks": ""
           },
           "bgcolor": "#E5ECF6",
           "caxis": {
            "gridcolor": "white",
            "linecolor": "white",
            "ticks": ""
           }
          },
          "title": {
           "x": 0.05
          },
          "xaxis": {
           "automargin": true,
           "gridcolor": "white",
           "linecolor": "white",
           "ticks": "",
           "title": {
            "standoff": 15
           },
           "zerolinecolor": "white",
           "zerolinewidth": 2
          },
          "yaxis": {
           "automargin": true,
           "gridcolor": "white",
           "linecolor": "white",
           "ticks": "",
           "title": {
            "standoff": 15
           },
           "zerolinecolor": "white",
           "zerolinewidth": 2
          }
         }
        },
        "title": {
         "text": "Comparison of OBP between Season and Career"
        },
        "xaxis": {
         "anchor": "y",
         "domain": [
          0,
          1
         ],
         "title": {
          "text": "obp"
         }
        },
        "yaxis": {
         "anchor": "x",
         "domain": [
          0,
          1
         ],
         "title": {
          "text": ""
         }
        }
       }
      }
     },
     "metadata": {},
     "output_type": "display_data"
    }
   ],
   "source": [
    "combined_data = pd.concat([player_season.assign(DataType='Season'),\n",
    "                           player_career.assign(DataType='Career')])\n",
    "fig = px.bar(combined_data, x='obp', y='FullName', color='DataType',\n",
    "             title='Comparison of OBP between Season and Career',\n",
    "             orientation='v')\n",
    "fig.update_layout(yaxis=dict(title=''))\n",
    "fig.show()"
   ]
  },
  {
   "cell_type": "code",
   "execution_count": null,
   "metadata": {},
   "outputs": [
    {
     "data": {
      "application/vnd.plotly.v1+json": {
       "config": {
        "plotlyServerURL": "https://plot.ly"
       },
       "data": [
        {
         "alignmentgroup": "True",
         "hovertemplate": "DataType=Season<br>groundOutsToAirouts=%{x}<br>FullName=%{y}<extra></extra>",
         "legendgroup": "Season",
         "marker": {
          "color": "#636efa",
          "pattern": {
           "shape": ""
          }
         },
         "name": "Season",
         "offsetgroup": "Season",
         "orientation": "v",
         "showlegend": true,
         "textposition": "auto",
         "type": "bar",
         "x": [
          "0.83",
          "1.22",
          "0.93",
          "1.19",
          "0.63",
          "1.19",
          "0.57",
          "0.74",
          "0.86",
          "1.74",
          "0.54",
          "1.42",
          "1.36",
          "0.61",
          "0.49",
          "0.67",
          "0.97",
          "1.00",
          "0.62",
          "1.16",
          "0.68",
          "1.37",
          "0.62",
          "0.63",
          "1.88",
          "1.31",
          "0.88",
          "0.55",
          "0.59",
          "1.55",
          "0.76",
          "0.66",
          "0.77",
          "1.14",
          "0.82",
          "0.40",
          "1.24",
          "0.78",
          "2.59",
          "0.78",
          "1.03",
          "0.85",
          "0.94",
          "0.87",
          "1.11",
          "0.83",
          "0.69",
          "1.03",
          "0.76",
          "1.10",
          "1.25",
          "1.57",
          "1.03",
          "0.95",
          "0.62",
          "1.10",
          "0.88",
          "0.46",
          "0.96",
          "0.85",
          "0.64",
          "0.71",
          "0.97",
          "1.00",
          "0.82",
          "0.94",
          "1.83",
          "1.19",
          "0.96",
          "0.47",
          "0.71",
          "1.50",
          "1.06",
          "0.90",
          "1.69",
          "0.53",
          "1.27",
          "1.04",
          "0.48",
          "0.46",
          "0.62",
          "0.72",
          "1.03",
          "2.00",
          "1.11",
          "0.83",
          "1.81",
          "0.84",
          "0.86",
          "0.59",
          "0.67",
          "0.32",
          "1.18",
          "0.63",
          "1.11",
          "0.73",
          "0.64",
          "0.90",
          "1.04",
          "0.49",
          "1.58",
          "0.64",
          "0.93",
          "0.83",
          "1.71",
          "2.47",
          "0.56",
          "0.73",
          "1.08",
          "0.87",
          "0.63",
          "1.19",
          "1.32",
          "0.90",
          "0.50",
          "1.17",
          "0.59",
          "1.21",
          "1.08",
          "1.63",
          "1.04",
          "0.92",
          "0.79",
          "0.79",
          "0.81",
          "0.63",
          "0.77",
          "0.63",
          "1.11",
          "1.38",
          "0.86",
          "1.04",
          "1.00",
          "0.78",
          "0.90",
          "0.77",
          "1.00",
          "1.00",
          "1.05",
          "0.67",
          "1.75",
          "1.85",
          "0.91",
          "1.33",
          "0.62",
          "1.06",
          "1.22",
          "0.73",
          "1.50",
          "0.71",
          "1.31",
          "1.17",
          "1.05",
          "1.86",
          "1.11",
          "1.09",
          "1.28",
          "1.92",
          "0.94",
          "1.15",
          "1.47",
          "2.14",
          "1.47",
          "0.62",
          "1.12",
          "1.05",
          "0.89",
          "1.06",
          "0.80",
          "0.92",
          "0.85",
          "1.17",
          "0.64",
          "0.60",
          "1.08",
          "1.93",
          "0.62",
          "2.42",
          "0.59",
          "1.61",
          "0.48",
          "0.75",
          "0.86",
          "0.60",
          "0.88",
          "1.13",
          "1.25",
          "1.00",
          "1.20",
          "1.15",
          "0.78",
          "1.10",
          "0.88",
          "0.80",
          "1.50",
          "1.33",
          "0.60",
          "0.73",
          "0.52",
          "1.33",
          "1.47",
          "1.21",
          "0.94",
          "0.89",
          "0.68",
          "0.48",
          "0.42",
          "1.35",
          "0.80",
          "2.25",
          "0.79",
          "0.75",
          "0.76",
          "2.00",
          "0.46",
          "1.18",
          "1.05",
          "1.00",
          "0.72",
          "1.06",
          "0.73",
          "1.29",
          "1.55",
          "0.93",
          "0.71",
          "0.85",
          "1.00",
          "1.47",
          "1.14",
          "0.83",
          "0.88",
          "0.85",
          "1.10",
          "0.47",
          "0.68",
          "1.44",
          "0.91",
          "0.74",
          "0.62",
          "0.46",
          "1.47",
          "0.81",
          "0.62",
          "0.82",
          "0.91",
          "1.64",
          "0.94",
          "0.93",
          "0.75",
          "1.31",
          "0.33",
          "1.90",
          "2.00",
          "0.57",
          "2.43",
          "1.00",
          "1.29",
          "1.62",
          "1.14",
          "1.06",
          "0.63",
          "1.23",
          "0.53",
          "0.59",
          "2.33",
          "1.06",
          "0.53",
          "1.60",
          "0.87",
          "0.94",
          "0.88",
          "1.45",
          "1.12",
          "1.11"
         ],
         "xaxis": "x",
         "y": [
          "Freddie  Freeman",
          "Alex  Verdugo",
          "Steven Kwan",
          "Nico Hoerner",
          "Trea  Turner",
          "Bryson Stott",
          "Justin  Turner",
          "Matt  Olson",
          "Vladimir  Guerrero",
          "Juan  Soto",
          "Alex  Bregman",
          "Ronald  Acuna",
          "Bo Bichette",
          "Jose  Ramirez",
          "Adley Rutschman",
          "Marcus  Semien",
          "Rafael  Devers",
          "Jonathan India",
          "Kyle  Schwarber",
          "Austin  Riley",
          "Ryan Mountcastle",
          "Xander  Bogaerts",
          "Paul  Goldschmidt",
          "Mookie Betts",
          "Nick  Castellanos",
          "Jeremy  Pena",
          "Taylor Ward",
          "Mike  Trout",
          "Bobby Witt",
          "Dansby  Swanson",
          "Randy Arozarena",
          "Jeimer  Candelario",
          "Manny  Machado",
          "Nathaniel Lowe",
          "Jose  Abreu",
          "Anthony  Rizzo",
          "Andrew Vaughn",
          "Francisco  Lindor",
          "Josh  Bell",
          "Vinnie Pasquantino",
          "Alec Bohm",
          "Kyle Tucker",
          "Esteury Ruiz",
          "Pete  Alonso",
          "Brandon  Nimmo",
          "Willy  Adames",
          "Eugenio  Suarez",
          "Nolan  Arenado",
          "George  Springer",
          "Wander Franco",
          "Joey Meneses",
          "Shohei  Ohtani",
          "Ozzie  Albies",
          "Ke'Bryan Hayes",
          "Jake Cronenworth",
          "Hunter  Renfroe",
          "Ian  Happ",
          "Matt  Chapman",
          "Julio Rodriguez",
          "Adolis  Garcia",
          "Cedric Mullins",
          "Daulton Varsho",
          "Ty France",
          "Jeff  McNeil",
          "Teoscar  Hernandez",
          "Bryan  Reynolds",
          "Christian  Yelich",
          "Jose Miranda",
          "Thairo Estrada",
          "Trent  Grisham",
          "Gleyber  Torres",
          "Andres Gimenez",
          "James Outman",
          "Luis Robert",
          "Jazz Chisholm",
          "Enrique Hernandez",
          "Elvis  Andrus",
          "Tyler Stephenson",
          "Trevor Larnach",
          "Charlie  Blackmon",
          "Anthony Volpe",
          "Christian  Walker",
          "Carlos  Santana",
          "Riley Greene",
          "Ryan  McMahon",
          "Yandy  Diaz",
          "Brian  Anderson",
          "Jurickson  Profar",
          "Kris  Bryant",
          "Cody  Bellinger",
          "Andrew  McCutchen",
          "Anthony  Santander",
          "Lane  Thomas",
          "Spencer Steer",
          "Dominic  Smith",
          "Max  Muncy",
          "Byron  Buxton",
          "Amed  Rosario",
          "TJ Friedl",
          "Salvador  Perez",
          "Ketel  Marte",
          "Josh Jung",
          "Myles Straw",
          "Jorge  Soler",
          "Mauricio Dubon",
          "Masataka Yoshida",
          "Patrick Wisdom",
          "Carlos  Correa",
          "Miguel Vargas",
          "Alex Call",
          "Spencer Torkelson",
          "Lourdes  Gurriel",
          "Andrew  Benintendi",
          "Sean Murphy",
          "MJ Melendez",
          "J.T.  Realmuto",
          "Aaron  Judge",
          "Austin Hays",
          "Willson  Contreras",
          "DJ  LeMahieu",
          "J.P.  Crawford",
          "C.J.  Cron",
          "Corbin Carroll",
          "Keibert Ruiz",
          "Ha-Seong Kim",
          "Isaac Paredes",
          "Yordan  Alvarez",
          "Brandon  Drury",
          "Jarred Kelenic",
          "Brandon Marsh",
          "CJ Abrams",
          "Starling  Marte",
          "Luis  Arraez",
          "Mark  Canha",
          "Josh  Naylor",
          "Nolan Gorman",
          "Gio Urshela",
          "Rowdy Tellez",
          "LaMonte Wade",
          "Brandon  Lowe",
          "Trey  Mancini",
          "Bryan De La Cruz",
          "Mike  Yastrzemski",
          "Tommy  Edman",
          "Shea Langeliers",
          "Tony  Kemp",
          "Victor  Robles",
          "Cal Raleigh",
          "Javier  Baez",
          "Josh  Rojas",
          "Michael  Conforto",
          "Garrett  Cooper",
          "Ezequiel Tovar",
          "Jean  Segura",
          "J.D.  Martinez",
          "Joey Wiemer",
          "Oswaldo Cabrera",
          "J.D.  Davis",
          "Gunnar Henderson",
          "Yasmani  Grandal",
          "Connor Joe",
          "Luis Garcia",
          "Elias  Diaz",
          "Triston Casas",
          "Alek Thomas",
          "Jake Fraley",
          "Michael A.  Taylor",
          "Rodolfo Castro",
          "Tyler O'Neill",
          "Edward Olivares",
          "Whit  Merrifield",
          "Jon  Berti",
          "Nick Maton",
          "David Villar",
          "Aledmys  Diaz",
          "William Contreras",
          "Jace  Peterson",
          "Eloy  Jimenez",
          "Jonah Heim",
          "Brendan Donovan",
          "Robbie  Grossman",
          "Eddie  Rosario",
          "Adam  Frazier",
          "Anthony  Rendon",
          "Brent Rooker",
          "Kyle Isbel",
          "Ramon Urias",
          "Wil Myers",
          "Ryan Noda",
          "Jorge Mateo",
          "Matt Vierling",
          "Ji Hwan Bae",
          "Jack Suwinski",
          "Alec Burleson",
          "Kevin  Kiermaier",
          "Luis  Rengifo",
          "Manuel  Margot",
          "Michael Massey",
          "Wilmer  Flores",
          "Harold  Ramirez",
          "Alejandro Kirk",
          "Oscar Colas",
          "Brice Turang",
          "Josh Lowe",
          "Jose Barrero",
          "Corey Julks",
          "Jesus  Aguilar",
          "Gabriel Moreno",
          "Jake Meyers",
          "Eric  Hosmer",
          "Yonathan  Daza",
          "Kolten  Wong",
          "Austin Nola",
          "Jordan Walker",
          "Mike  Zunino",
          "Brandon  Crawford",
          "Martin  Maldonado",
          "Chris  Taylor",
          "Christian  Vazquez",
          "Avisail  Garcia",
          "Max  Kepler",
          "Kerry Carpenter",
          "Geraldo Perdomo",
          "Conner Capel",
          "Jake Burger",
          "Christian Arroyo",
          "Seiya Suzuki",
          "David  Peralta",
          "Nelson  Cruz",
          "Ramon  Laureano",
          "Taylor Walls",
          "Kevin  Newman",
          "Blake Sabol",
          "Matt  Carpenter",
          "Will  Smith",
          "Marcell  Ozuna",
          "Oscar Gonzalez",
          "Yan  Gomes",
          "Donovan  Solano",
          "Danny  Jansen",
          "Jake McCarthy",
          "Joc  Pederson",
          "Jake  Cave",
          "Christian Bethancourt",
          "Will Brennan",
          "Ezequiel Duran",
          "Eric Haase",
          "Luke Raley",
          "Nick  Senzel",
          "Edmundo Sosa",
          "Joey  Gallo",
          "Connor Wong",
          "Daniel  Vogelbach",
          "Brandon  Belt",
          "Lars Nootbaar",
          "Kevin Smith",
          "Jose  Trevino",
          "Nicky  Lopez",
          "Jason  Heyward",
          "Dylan Carlson",
          "Jesse  Winker",
          "Hunter  Dozier",
          "Stuart Fairchild",
          "Jason Vosler",
          "Travis  Jankowski",
          "Zach Neto",
          "Josh H. Smith",
          "Franmil  Reyes",
          "Akil Baddoo",
          "Zach McKinstry",
          "Sam Hilliard",
          "David Hensley",
          "Eduardo  Escobar",
          "Garrett Mitchell"
         ],
         "yaxis": "y"
        },
        {
         "alignmentgroup": "True",
         "hovertemplate": "DataType=Career<br>groundOutsToAirouts=%{x}<br>FullName=%{y}<extra></extra>",
         "legendgroup": "Career",
         "marker": {
          "color": "#EF553B",
          "pattern": {
           "shape": ""
          }
         },
         "name": "Career",
         "offsetgroup": "Career",
         "orientation": "v",
         "showlegend": true,
         "textposition": "auto",
         "type": "bar",
         "x": [
          "0.89",
          "1.28",
          "0.80",
          "1.09",
          "0.98",
          "0.97",
          "0.76",
          "0.83",
          "1.26",
          "1.38",
          "0.65",
          "0.93",
          "1.24",
          "0.71",
          "0.76",
          "0.69",
          "1.06",
          "0.98",
          "0.88",
          "0.81",
          "0.73",
          "1.01",
          "0.95",
          "0.66",
          "0.81",
          "1.21",
          "0.74",
          "0.71",
          "0.58",
          "0.89",
          "1.23",
          "0.89",
          "0.88",
          "1.38",
          "1.15",
          "0.88",
          "1.10",
          "0.93",
          "1.41",
          "0.84",
          "1.30",
          "0.74",
          "1.00",
          "0.83",
          "1.15",
          "0.89",
          "0.81",
          "0.69",
          "1.09",
          "1.06",
          "1.41",
          "1.15",
          "0.71",
          "1.29",
          "0.82",
          "0.80",
          "1.12",
          "0.67",
          "1.01",
          "0.82",
          "0.81",
          "0.80",
          "0.99",
          "0.86",
          "0.86",
          "1.08",
          "1.93",
          "0.94",
          "1.34",
          "0.92",
          "0.74",
          "1.11",
          "1.06",
          "0.86",
          "1.04",
          "0.73",
          "1.43",
          "1.21",
          "1.02",
          "0.96",
          "0.62",
          "0.83",
          "0.97",
          "1.90",
          "1.19",
          "1.27",
          "1.30",
          "0.97",
          "0.74",
          "0.66",
          "0.85",
          "0.61",
          "1.01",
          "0.74",
          "0.99",
          "0.83",
          "0.70",
          "1.26",
          "0.64",
          "0.82",
          "1.14",
          "0.95",
          "0.85",
          "0.96",
          "0.82",
          "2.47",
          "0.66",
          "1.10",
          "0.83",
          "0.88",
          "0.76",
          "0.99",
          "0.86",
          "0.98",
          "0.76",
          "0.97",
          "0.99",
          "0.92",
          "1.50",
          "1.63",
          "1.00",
          "0.89",
          "1.02",
          "0.86",
          "0.81",
          "0.82",
          "1.03",
          "1.13",
          "0.95",
          "1.12",
          "1.12",
          "1.40",
          "0.93",
          "0.84",
          "1.34",
          "0.58",
          "0.95",
          "0.96",
          "0.71",
          "0.74",
          "1.30",
          "1.14",
          "0.76",
          "1.08",
          "0.75",
          "0.89",
          "0.89",
          "0.61",
          "1.21",
          "1.09",
          "0.97",
          "1.49",
          "1.22",
          "1.51",
          "0.92",
          "1.09",
          "0.79",
          "1.29",
          "1.50",
          "1.01",
          "1.01",
          "1.97",
          "1.08",
          "1.05",
          "1.54",
          "0.93",
          "1.01",
          "1.25",
          "0.74",
          "1.12",
          "0.75",
          "1.60",
          "0.73",
          "0.75",
          "0.90",
          "1.55",
          "1.26",
          "1.46",
          "0.80",
          "1.61",
          "0.79",
          "0.83",
          "0.99",
          "0.66",
          "0.82",
          "0.82",
          "1.22",
          "0.99",
          "1.20",
          "0.79",
          "0.86",
          "1.23",
          "0.95",
          "0.95",
          "1.27",
          "1.21",
          "0.89",
          "0.84",
          "0.68",
          "1.38",
          "1.10",
          "1.21",
          "0.94",
          "0.72",
          "0.67",
          "0.48",
          "0.72",
          "1.26",
          "1.32",
          "1.69",
          "1.62",
          "1.07",
          "0.82",
          "2.00",
          "0.68",
          "1.08",
          "1.05",
          "0.77",
          "1.12",
          "1.39",
          "0.84",
          "1.11",
          "1.24",
          "0.96",
          "0.90",
          "1.33",
          "0.80",
          "1.34",
          "0.99",
          "0.90",
          "0.81",
          "1.07",
          "1.10",
          "0.66",
          "0.56",
          "0.99",
          "1.28",
          "0.83",
          "1.08",
          "0.64",
          "1.43",
          "0.91",
          "1.27",
          "1.07",
          "1.03",
          "1.23",
          "0.90",
          "0.95",
          "0.95",
          "1.26",
          "0.61",
          "1.95",
          "0.98",
          "0.63",
          "1.15",
          "0.74",
          "0.98",
          "1.69",
          "1.21",
          "0.96",
          "1.07",
          "0.82",
          "0.83",
          "0.95",
          "1.74",
          "1.06",
          "0.59",
          "1.25",
          "0.75",
          "1.03",
          "1.09",
          "1.67",
          "0.70",
          "1.00"
         ],
         "xaxis": "x",
         "y": [
          "Freddie  Freeman",
          "Alex  Verdugo",
          "Steven Kwan",
          "Nico Hoerner",
          "Trea  Turner",
          "Bryson Stott",
          "Justin  Turner",
          "Matt  Olson",
          "Vladimir  Guerrero",
          "Juan  Soto",
          "Alex  Bregman",
          "Ronald  Acuna",
          "Bo Bichette",
          "Jose  Ramirez",
          "Adley Rutschman",
          "Marcus  Semien",
          "Rafael  Devers",
          "Jonathan India",
          "Kyle  Schwarber",
          "Austin  Riley",
          "Ryan Mountcastle",
          "Xander  Bogaerts",
          "Paul  Goldschmidt",
          "Mookie Betts",
          "Nick  Castellanos",
          "Jeremy  Pena",
          "Taylor Ward",
          "Mike  Trout",
          "Bobby Witt",
          "Dansby  Swanson",
          "Randy Arozarena",
          "Jeimer  Candelario",
          "Manny  Machado",
          "Nathaniel Lowe",
          "Jose  Abreu",
          "Anthony  Rizzo",
          "Andrew Vaughn",
          "Francisco  Lindor",
          "Josh  Bell",
          "Vinnie Pasquantino",
          "Alec Bohm",
          "Kyle Tucker",
          "Esteury Ruiz",
          "Pete  Alonso",
          "Brandon  Nimmo",
          "Willy  Adames",
          "Eugenio  Suarez",
          "Nolan  Arenado",
          "George  Springer",
          "Wander Franco",
          "Joey Meneses",
          "Shohei  Ohtani",
          "Ozzie  Albies",
          "Ke'Bryan Hayes",
          "Jake Cronenworth",
          "Hunter  Renfroe",
          "Ian  Happ",
          "Matt  Chapman",
          "Julio Rodriguez",
          "Adolis  Garcia",
          "Cedric Mullins",
          "Daulton Varsho",
          "Ty France",
          "Jeff  McNeil",
          "Teoscar  Hernandez",
          "Bryan  Reynolds",
          "Christian  Yelich",
          "Jose Miranda",
          "Thairo Estrada",
          "Trent  Grisham",
          "Gleyber  Torres",
          "Andres Gimenez",
          "James Outman",
          "Luis Robert",
          "Jazz Chisholm",
          "Enrique Hernandez",
          "Elvis  Andrus",
          "Tyler Stephenson",
          "Trevor Larnach",
          "Charlie  Blackmon",
          "Anthony Volpe",
          "Christian  Walker",
          "Carlos  Santana",
          "Riley Greene",
          "Ryan  McMahon",
          "Yandy  Diaz",
          "Brian  Anderson",
          "Jurickson  Profar",
          "Kris  Bryant",
          "Cody  Bellinger",
          "Andrew  McCutchen",
          "Anthony  Santander",
          "Lane  Thomas",
          "Spencer Steer",
          "Dominic  Smith",
          "Max  Muncy",
          "Byron  Buxton",
          "Amed  Rosario",
          "TJ Friedl",
          "Salvador  Perez",
          "Ketel  Marte",
          "Josh Jung",
          "Myles Straw",
          "Jorge  Soler",
          "Mauricio Dubon",
          "Masataka Yoshida",
          "Patrick Wisdom",
          "Carlos  Correa",
          "Miguel Vargas",
          "Alex Call",
          "Spencer Torkelson",
          "Lourdes  Gurriel",
          "Andrew  Benintendi",
          "Sean Murphy",
          "MJ Melendez",
          "J.T.  Realmuto",
          "Aaron  Judge",
          "Austin Hays",
          "Willson  Contreras",
          "DJ  LeMahieu",
          "J.P.  Crawford",
          "C.J.  Cron",
          "Corbin Carroll",
          "Keibert Ruiz",
          "Ha-Seong Kim",
          "Isaac Paredes",
          "Yordan  Alvarez",
          "Brandon  Drury",
          "Jarred Kelenic",
          "Brandon Marsh",
          "CJ Abrams",
          "Starling  Marte",
          "Luis  Arraez",
          "Mark  Canha",
          "Josh  Naylor",
          "Nolan Gorman",
          "Gio Urshela",
          "Rowdy Tellez",
          "LaMonte Wade",
          "Brandon  Lowe",
          "Trey  Mancini",
          "Bryan De La Cruz",
          "Mike  Yastrzemski",
          "Tommy  Edman",
          "Shea Langeliers",
          "Tony  Kemp",
          "Victor  Robles",
          "Cal Raleigh",
          "Javier  Baez",
          "Josh  Rojas",
          "Michael  Conforto",
          "Garrett  Cooper",
          "Ezequiel Tovar",
          "Jean  Segura",
          "J.D.  Martinez",
          "Joey Wiemer",
          "Oswaldo Cabrera",
          "J.D.  Davis",
          "Gunnar Henderson",
          "Yasmani  Grandal",
          "Connor Joe",
          "Luis Garcia",
          "Elias  Diaz",
          "Triston Casas",
          "Alek Thomas",
          "Jake Fraley",
          "Michael A.  Taylor",
          "Rodolfo Castro",
          "Tyler O'Neill",
          "Edward Olivares",
          "Whit  Merrifield",
          "Jon  Berti",
          "Nick Maton",
          "David Villar",
          "Aledmys  Diaz",
          "William Contreras",
          "Jace  Peterson",
          "Eloy  Jimenez",
          "Jonah Heim",
          "Brendan Donovan",
          "Robbie  Grossman",
          "Eddie  Rosario",
          "Adam  Frazier",
          "Anthony  Rendon",
          "Brent Rooker",
          "Kyle Isbel",
          "Ramon Urias",
          "Wil Myers",
          "Ryan Noda",
          "Jorge Mateo",
          "Matt Vierling",
          "Ji Hwan Bae",
          "Jack Suwinski",
          "Alec Burleson",
          "Kevin  Kiermaier",
          "Luis  Rengifo",
          "Manuel  Margot",
          "Michael Massey",
          "Wilmer  Flores",
          "Harold  Ramirez",
          "Alejandro Kirk",
          "Oscar Colas",
          "Brice Turang",
          "Josh Lowe",
          "Jose Barrero",
          "Corey Julks",
          "Jesus  Aguilar",
          "Gabriel Moreno",
          "Jake Meyers",
          "Eric  Hosmer",
          "Yonathan  Daza",
          "Kolten  Wong",
          "Austin Nola",
          "Jordan Walker",
          "Mike  Zunino",
          "Brandon  Crawford",
          "Martin  Maldonado",
          "Chris  Taylor",
          "Christian  Vazquez",
          "Avisail  Garcia",
          "Max  Kepler",
          "Kerry Carpenter",
          "Geraldo Perdomo",
          "Conner Capel",
          "Jake Burger",
          "Christian Arroyo",
          "Seiya Suzuki",
          "David  Peralta",
          "Nelson  Cruz",
          "Ramon  Laureano",
          "Taylor Walls",
          "Kevin  Newman",
          "Blake Sabol",
          "Matt  Carpenter",
          "Will  Smith",
          "Marcell  Ozuna",
          "Oscar Gonzalez",
          "Yan  Gomes",
          "Donovan  Solano",
          "Danny  Jansen",
          "Jake McCarthy",
          "Joc  Pederson",
          "Jake  Cave",
          "Christian Bethancourt",
          "Will Brennan",
          "Ezequiel Duran",
          "Eric Haase",
          "Luke Raley",
          "Nick  Senzel",
          "Edmundo Sosa",
          "Joey  Gallo",
          "Connor Wong",
          "Daniel  Vogelbach",
          "Brandon  Belt",
          "Lars Nootbaar",
          "Kevin Smith",
          "Jose  Trevino",
          "Nicky  Lopez",
          "Jason  Heyward",
          "Dylan Carlson",
          "Jesse  Winker",
          "Hunter  Dozier",
          "Stuart Fairchild",
          "Jason Vosler",
          "Travis  Jankowski",
          "Zach Neto",
          "Josh H. Smith",
          "Franmil  Reyes",
          "Akil Baddoo",
          "Zach McKinstry",
          "Sam Hilliard",
          "David Hensley",
          "Eduardo  Escobar",
          "Garrett Mitchell"
         ],
         "yaxis": "y"
        }
       ],
       "layout": {
        "barmode": "relative",
        "legend": {
         "title": {
          "text": "DataType"
         },
         "tracegroupgap": 0
        },
        "template": {
         "data": {
          "bar": [
           {
            "error_x": {
             "color": "#2a3f5f"
            },
            "error_y": {
             "color": "#2a3f5f"
            },
            "marker": {
             "line": {
              "color": "#E5ECF6",
              "width": 0.5
             },
             "pattern": {
              "fillmode": "overlay",
              "size": 10,
              "solidity": 0.2
             }
            },
            "type": "bar"
           }
          ],
          "barpolar": [
           {
            "marker": {
             "line": {
              "color": "#E5ECF6",
              "width": 0.5
             },
             "pattern": {
              "fillmode": "overlay",
              "size": 10,
              "solidity": 0.2
             }
            },
            "type": "barpolar"
           }
          ],
          "carpet": [
           {
            "aaxis": {
             "endlinecolor": "#2a3f5f",
             "gridcolor": "white",
             "linecolor": "white",
             "minorgridcolor": "white",
             "startlinecolor": "#2a3f5f"
            },
            "baxis": {
             "endlinecolor": "#2a3f5f",
             "gridcolor": "white",
             "linecolor": "white",
             "minorgridcolor": "white",
             "startlinecolor": "#2a3f5f"
            },
            "type": "carpet"
           }
          ],
          "choropleth": [
           {
            "colorbar": {
             "outlinewidth": 0,
             "ticks": ""
            },
            "type": "choropleth"
           }
          ],
          "contour": [
           {
            "colorbar": {
             "outlinewidth": 0,
             "ticks": ""
            },
            "colorscale": [
             [
              0,
              "#0d0887"
             ],
             [
              0.1111111111111111,
              "#46039f"
             ],
             [
              0.2222222222222222,
              "#7201a8"
             ],
             [
              0.3333333333333333,
              "#9c179e"
             ],
             [
              0.4444444444444444,
              "#bd3786"
             ],
             [
              0.5555555555555556,
              "#d8576b"
             ],
             [
              0.6666666666666666,
              "#ed7953"
             ],
             [
              0.7777777777777778,
              "#fb9f3a"
             ],
             [
              0.8888888888888888,
              "#fdca26"
             ],
             [
              1,
              "#f0f921"
             ]
            ],
            "type": "contour"
           }
          ],
          "contourcarpet": [
           {
            "colorbar": {
             "outlinewidth": 0,
             "ticks": ""
            },
            "type": "contourcarpet"
           }
          ],
          "heatmap": [
           {
            "colorbar": {
             "outlinewidth": 0,
             "ticks": ""
            },
            "colorscale": [
             [
              0,
              "#0d0887"
             ],
             [
              0.1111111111111111,
              "#46039f"
             ],
             [
              0.2222222222222222,
              "#7201a8"
             ],
             [
              0.3333333333333333,
              "#9c179e"
             ],
             [
              0.4444444444444444,
              "#bd3786"
             ],
             [
              0.5555555555555556,
              "#d8576b"
             ],
             [
              0.6666666666666666,
              "#ed7953"
             ],
             [
              0.7777777777777778,
              "#fb9f3a"
             ],
             [
              0.8888888888888888,
              "#fdca26"
             ],
             [
              1,
              "#f0f921"
             ]
            ],
            "type": "heatmap"
           }
          ],
          "heatmapgl": [
           {
            "colorbar": {
             "outlinewidth": 0,
             "ticks": ""
            },
            "colorscale": [
             [
              0,
              "#0d0887"
             ],
             [
              0.1111111111111111,
              "#46039f"
             ],
             [
              0.2222222222222222,
              "#7201a8"
             ],
             [
              0.3333333333333333,
              "#9c179e"
             ],
             [
              0.4444444444444444,
              "#bd3786"
             ],
             [
              0.5555555555555556,
              "#d8576b"
             ],
             [
              0.6666666666666666,
              "#ed7953"
             ],
             [
              0.7777777777777778,
              "#fb9f3a"
             ],
             [
              0.8888888888888888,
              "#fdca26"
             ],
             [
              1,
              "#f0f921"
             ]
            ],
            "type": "heatmapgl"
           }
          ],
          "histogram": [
           {
            "marker": {
             "pattern": {
              "fillmode": "overlay",
              "size": 10,
              "solidity": 0.2
             }
            },
            "type": "histogram"
           }
          ],
          "histogram2d": [
           {
            "colorbar": {
             "outlinewidth": 0,
             "ticks": ""
            },
            "colorscale": [
             [
              0,
              "#0d0887"
             ],
             [
              0.1111111111111111,
              "#46039f"
             ],
             [
              0.2222222222222222,
              "#7201a8"
             ],
             [
              0.3333333333333333,
              "#9c179e"
             ],
             [
              0.4444444444444444,
              "#bd3786"
             ],
             [
              0.5555555555555556,
              "#d8576b"
             ],
             [
              0.6666666666666666,
              "#ed7953"
             ],
             [
              0.7777777777777778,
              "#fb9f3a"
             ],
             [
              0.8888888888888888,
              "#fdca26"
             ],
             [
              1,
              "#f0f921"
             ]
            ],
            "type": "histogram2d"
           }
          ],
          "histogram2dcontour": [
           {
            "colorbar": {
             "outlinewidth": 0,
             "ticks": ""
            },
            "colorscale": [
             [
              0,
              "#0d0887"
             ],
             [
              0.1111111111111111,
              "#46039f"
             ],
             [
              0.2222222222222222,
              "#7201a8"
             ],
             [
              0.3333333333333333,
              "#9c179e"
             ],
             [
              0.4444444444444444,
              "#bd3786"
             ],
             [
              0.5555555555555556,
              "#d8576b"
             ],
             [
              0.6666666666666666,
              "#ed7953"
             ],
             [
              0.7777777777777778,
              "#fb9f3a"
             ],
             [
              0.8888888888888888,
              "#fdca26"
             ],
             [
              1,
              "#f0f921"
             ]
            ],
            "type": "histogram2dcontour"
           }
          ],
          "mesh3d": [
           {
            "colorbar": {
             "outlinewidth": 0,
             "ticks": ""
            },
            "type": "mesh3d"
           }
          ],
          "parcoords": [
           {
            "line": {
             "colorbar": {
              "outlinewidth": 0,
              "ticks": ""
             }
            },
            "type": "parcoords"
           }
          ],
          "pie": [
           {
            "automargin": true,
            "type": "pie"
           }
          ],
          "scatter": [
           {
            "fillpattern": {
             "fillmode": "overlay",
             "size": 10,
             "solidity": 0.2
            },
            "type": "scatter"
           }
          ],
          "scatter3d": [
           {
            "line": {
             "colorbar": {
              "outlinewidth": 0,
              "ticks": ""
             }
            },
            "marker": {
             "colorbar": {
              "outlinewidth": 0,
              "ticks": ""
             }
            },
            "type": "scatter3d"
           }
          ],
          "scattercarpet": [
           {
            "marker": {
             "colorbar": {
              "outlinewidth": 0,
              "ticks": ""
             }
            },
            "type": "scattercarpet"
           }
          ],
          "scattergeo": [
           {
            "marker": {
             "colorbar": {
              "outlinewidth": 0,
              "ticks": ""
             }
            },
            "type": "scattergeo"
           }
          ],
          "scattergl": [
           {
            "marker": {
             "colorbar": {
              "outlinewidth": 0,
              "ticks": ""
             }
            },
            "type": "scattergl"
           }
          ],
          "scattermapbox": [
           {
            "marker": {
             "colorbar": {
              "outlinewidth": 0,
              "ticks": ""
             }
            },
            "type": "scattermapbox"
           }
          ],
          "scatterpolar": [
           {
            "marker": {
             "colorbar": {
              "outlinewidth": 0,
              "ticks": ""
             }
            },
            "type": "scatterpolar"
           }
          ],
          "scatterpolargl": [
           {
            "marker": {
             "colorbar": {
              "outlinewidth": 0,
              "ticks": ""
             }
            },
            "type": "scatterpolargl"
           }
          ],
          "scatterternary": [
           {
            "marker": {
             "colorbar": {
              "outlinewidth": 0,
              "ticks": ""
             }
            },
            "type": "scatterternary"
           }
          ],
          "surface": [
           {
            "colorbar": {
             "outlinewidth": 0,
             "ticks": ""
            },
            "colorscale": [
             [
              0,
              "#0d0887"
             ],
             [
              0.1111111111111111,
              "#46039f"
             ],
             [
              0.2222222222222222,
              "#7201a8"
             ],
             [
              0.3333333333333333,
              "#9c179e"
             ],
             [
              0.4444444444444444,
              "#bd3786"
             ],
             [
              0.5555555555555556,
              "#d8576b"
             ],
             [
              0.6666666666666666,
              "#ed7953"
             ],
             [
              0.7777777777777778,
              "#fb9f3a"
             ],
             [
              0.8888888888888888,
              "#fdca26"
             ],
             [
              1,
              "#f0f921"
             ]
            ],
            "type": "surface"
           }
          ],
          "table": [
           {
            "cells": {
             "fill": {
              "color": "#EBF0F8"
             },
             "line": {
              "color": "white"
             }
            },
            "header": {
             "fill": {
              "color": "#C8D4E3"
             },
             "line": {
              "color": "white"
             }
            },
            "type": "table"
           }
          ]
         },
         "layout": {
          "annotationdefaults": {
           "arrowcolor": "#2a3f5f",
           "arrowhead": 0,
           "arrowwidth": 1
          },
          "autotypenumbers": "strict",
          "coloraxis": {
           "colorbar": {
            "outlinewidth": 0,
            "ticks": ""
           }
          },
          "colorscale": {
           "diverging": [
            [
             0,
             "#8e0152"
            ],
            [
             0.1,
             "#c51b7d"
            ],
            [
             0.2,
             "#de77ae"
            ],
            [
             0.3,
             "#f1b6da"
            ],
            [
             0.4,
             "#fde0ef"
            ],
            [
             0.5,
             "#f7f7f7"
            ],
            [
             0.6,
             "#e6f5d0"
            ],
            [
             0.7,
             "#b8e186"
            ],
            [
             0.8,
             "#7fbc41"
            ],
            [
             0.9,
             "#4d9221"
            ],
            [
             1,
             "#276419"
            ]
           ],
           "sequential": [
            [
             0,
             "#0d0887"
            ],
            [
             0.1111111111111111,
             "#46039f"
            ],
            [
             0.2222222222222222,
             "#7201a8"
            ],
            [
             0.3333333333333333,
             "#9c179e"
            ],
            [
             0.4444444444444444,
             "#bd3786"
            ],
            [
             0.5555555555555556,
             "#d8576b"
            ],
            [
             0.6666666666666666,
             "#ed7953"
            ],
            [
             0.7777777777777778,
             "#fb9f3a"
            ],
            [
             0.8888888888888888,
             "#fdca26"
            ],
            [
             1,
             "#f0f921"
            ]
           ],
           "sequentialminus": [
            [
             0,
             "#0d0887"
            ],
            [
             0.1111111111111111,
             "#46039f"
            ],
            [
             0.2222222222222222,
             "#7201a8"
            ],
            [
             0.3333333333333333,
             "#9c179e"
            ],
            [
             0.4444444444444444,
             "#bd3786"
            ],
            [
             0.5555555555555556,
             "#d8576b"
            ],
            [
             0.6666666666666666,
             "#ed7953"
            ],
            [
             0.7777777777777778,
             "#fb9f3a"
            ],
            [
             0.8888888888888888,
             "#fdca26"
            ],
            [
             1,
             "#f0f921"
            ]
           ]
          },
          "colorway": [
           "#636efa",
           "#EF553B",
           "#00cc96",
           "#ab63fa",
           "#FFA15A",
           "#19d3f3",
           "#FF6692",
           "#B6E880",
           "#FF97FF",
           "#FECB52"
          ],
          "font": {
           "color": "#2a3f5f"
          },
          "geo": {
           "bgcolor": "white",
           "lakecolor": "white",
           "landcolor": "#E5ECF6",
           "showlakes": true,
           "showland": true,
           "subunitcolor": "white"
          },
          "hoverlabel": {
           "align": "left"
          },
          "hovermode": "closest",
          "mapbox": {
           "style": "light"
          },
          "paper_bgcolor": "white",
          "plot_bgcolor": "#E5ECF6",
          "polar": {
           "angularaxis": {
            "gridcolor": "white",
            "linecolor": "white",
            "ticks": ""
           },
           "bgcolor": "#E5ECF6",
           "radialaxis": {
            "gridcolor": "white",
            "linecolor": "white",
            "ticks": ""
           }
          },
          "scene": {
           "xaxis": {
            "backgroundcolor": "#E5ECF6",
            "gridcolor": "white",
            "gridwidth": 2,
            "linecolor": "white",
            "showbackground": true,
            "ticks": "",
            "zerolinecolor": "white"
           },
           "yaxis": {
            "backgroundcolor": "#E5ECF6",
            "gridcolor": "white",
            "gridwidth": 2,
            "linecolor": "white",
            "showbackground": true,
            "ticks": "",
            "zerolinecolor": "white"
           },
           "zaxis": {
            "backgroundcolor": "#E5ECF6",
            "gridcolor": "white",
            "gridwidth": 2,
            "linecolor": "white",
            "showbackground": true,
            "ticks": "",
            "zerolinecolor": "white"
           }
          },
          "shapedefaults": {
           "line": {
            "color": "#2a3f5f"
           }
          },
          "ternary": {
           "aaxis": {
            "gridcolor": "white",
            "linecolor": "white",
            "ticks": ""
           },
           "baxis": {
            "gridcolor": "white",
            "linecolor": "white",
            "ticks": ""
           },
           "bgcolor": "#E5ECF6",
           "caxis": {
            "gridcolor": "white",
            "linecolor": "white",
            "ticks": ""
           }
          },
          "title": {
           "x": 0.05
          },
          "xaxis": {
           "automargin": true,
           "gridcolor": "white",
           "linecolor": "white",
           "ticks": "",
           "title": {
            "standoff": 15
           },
           "zerolinecolor": "white",
           "zerolinewidth": 2
          },
          "yaxis": {
           "automargin": true,
           "gridcolor": "white",
           "linecolor": "white",
           "ticks": "",
           "title": {
            "standoff": 15
           },
           "zerolinecolor": "white",
           "zerolinewidth": 2
          }
         }
        },
        "title": {
         "text": "Comparison of Groud-to-Air Outs between Season and Career"
        },
        "xaxis": {
         "anchor": "y",
         "domain": [
          0,
          1
         ],
         "title": {
          "text": "groundOutsToAirouts"
         }
        },
        "yaxis": {
         "anchor": "x",
         "domain": [
          0,
          1
         ],
         "title": {
          "text": ""
         }
        }
       }
      }
     },
     "metadata": {},
     "output_type": "display_data"
    }
   ],
   "source": [
    "combined_data = pd.concat([player_season.assign(DataType='Season'),\n",
    "                           player_career.assign(DataType='Career')])\n",
    "fig = px.bar(combined_data, x='groundOutsToAirouts', y='FullName', color='DataType',\n",
    "             title='Comparison of Groud-to-Air Outs between Season and Career',\n",
    "             orientation='v')\n",
    "fig.update_layout(yaxis=dict(title=''))\n",
    "fig.show()"
   ]
  },
  {
   "cell_type": "code",
   "execution_count": null,
   "metadata": {},
   "outputs": [
    {
     "name": "stderr",
     "output_type": "stream",
     "text": [
      "C:\\Users\\HOMANJP20\\AppData\\Local\\Temp\\ipykernel_7604\\2057035568.py:2: FutureWarning:\n",
      "\n",
      "The default value of numeric_only in DataFrameGroupBy.mean is deprecated. In a future version, numeric_only will default to False. Either specify numeric_only or select only columns which should be valid for the function.\n",
      "\n"
     ]
    },
    {
     "data": {
      "application/vnd.plotly.v1+json": {
       "config": {
        "plotlyServerURL": "https://plot.ly"
       },
       "data": [
        {
         "hovertemplate": "variable=BA<br>Year=%{x}<br>value=%{y}<extra></extra>",
         "legendgroup": "BA",
         "line": {
          "color": "#636efa",
          "dash": "solid"
         },
         "marker": {
          "symbol": "circle"
         },
         "mode": "lines",
         "name": "BA",
         "orientation": "v",
         "showlegend": true,
         "type": "scatter",
         "x": [
          2016,
          2017,
          2018,
          2019,
          2020,
          2021,
          2022,
          2023
         ],
         "xaxis": "x",
         "y": [
          0.2662116182572614,
          0.2653515625,
          0.25757028112449804,
          0.26363600000000004,
          0.25235408560311284,
          0.25635775862068966,
          0.24961111111111112,
          0.24963138686131386
         ],
         "yaxis": "y"
        },
        {
         "hovertemplate": "variable=Slg<br>Year=%{x}<br>value=%{y}<extra></extra>",
         "legendgroup": "Slg",
         "line": {
          "color": "#EF553B",
          "dash": "solid"
         },
         "marker": {
          "symbol": "circle"
         },
         "mode": "lines",
         "name": "Slg",
         "orientation": "v",
         "showlegend": true,
         "type": "scatter",
         "x": [
          2016,
          2017,
          2018,
          2019,
          2020,
          2021,
          2022,
          2023
         ],
         "xaxis": "x",
         "y": [
          0.43991701244813275,
          0.4503828125,
          0.4316144578313253,
          0.45914,
          0.4357782101167315,
          0.43796551724137933,
          0.4099484126984127,
          0.4157627737226277
         ],
         "yaxis": "y"
        },
        {
         "hovertemplate": "variable=WOBA<br>Year=%{x}<br>value=%{y}<extra></extra>",
         "legendgroup": "WOBA",
         "line": {
          "color": "#00cc96",
          "dash": "solid"
         },
         "marker": {
          "symbol": "circle"
         },
         "mode": "lines",
         "name": "WOBA",
         "orientation": "v",
         "showlegend": true,
         "type": "scatter",
         "x": [
          2016,
          2017,
          2018,
          2019,
          2020,
          2021,
          2022,
          2023
         ],
         "xaxis": "x",
         "y": [
          0.33121991701244813,
          0.334609375,
          0.32772289156626505,
          0.333736,
          0.32999610894941633,
          0.3303275862068965,
          0.3186825396825397,
          0.3248868613138686
         ],
         "yaxis": "y"
        }
       ],
       "layout": {
        "legend": {
         "title": {
          "text": "variable"
         },
         "tracegroupgap": 0
        },
        "template": {
         "data": {
          "bar": [
           {
            "error_x": {
             "color": "#2a3f5f"
            },
            "error_y": {
             "color": "#2a3f5f"
            },
            "marker": {
             "line": {
              "color": "#E5ECF6",
              "width": 0.5
             },
             "pattern": {
              "fillmode": "overlay",
              "size": 10,
              "solidity": 0.2
             }
            },
            "type": "bar"
           }
          ],
          "barpolar": [
           {
            "marker": {
             "line": {
              "color": "#E5ECF6",
              "width": 0.5
             },
             "pattern": {
              "fillmode": "overlay",
              "size": 10,
              "solidity": 0.2
             }
            },
            "type": "barpolar"
           }
          ],
          "carpet": [
           {
            "aaxis": {
             "endlinecolor": "#2a3f5f",
             "gridcolor": "white",
             "linecolor": "white",
             "minorgridcolor": "white",
             "startlinecolor": "#2a3f5f"
            },
            "baxis": {
             "endlinecolor": "#2a3f5f",
             "gridcolor": "white",
             "linecolor": "white",
             "minorgridcolor": "white",
             "startlinecolor": "#2a3f5f"
            },
            "type": "carpet"
           }
          ],
          "choropleth": [
           {
            "colorbar": {
             "outlinewidth": 0,
             "ticks": ""
            },
            "type": "choropleth"
           }
          ],
          "contour": [
           {
            "colorbar": {
             "outlinewidth": 0,
             "ticks": ""
            },
            "colorscale": [
             [
              0,
              "#0d0887"
             ],
             [
              0.1111111111111111,
              "#46039f"
             ],
             [
              0.2222222222222222,
              "#7201a8"
             ],
             [
              0.3333333333333333,
              "#9c179e"
             ],
             [
              0.4444444444444444,
              "#bd3786"
             ],
             [
              0.5555555555555556,
              "#d8576b"
             ],
             [
              0.6666666666666666,
              "#ed7953"
             ],
             [
              0.7777777777777778,
              "#fb9f3a"
             ],
             [
              0.8888888888888888,
              "#fdca26"
             ],
             [
              1,
              "#f0f921"
             ]
            ],
            "type": "contour"
           }
          ],
          "contourcarpet": [
           {
            "colorbar": {
             "outlinewidth": 0,
             "ticks": ""
            },
            "type": "contourcarpet"
           }
          ],
          "heatmap": [
           {
            "colorbar": {
             "outlinewidth": 0,
             "ticks": ""
            },
            "colorscale": [
             [
              0,
              "#0d0887"
             ],
             [
              0.1111111111111111,
              "#46039f"
             ],
             [
              0.2222222222222222,
              "#7201a8"
             ],
             [
              0.3333333333333333,
              "#9c179e"
             ],
             [
              0.4444444444444444,
              "#bd3786"
             ],
             [
              0.5555555555555556,
              "#d8576b"
             ],
             [
              0.6666666666666666,
              "#ed7953"
             ],
             [
              0.7777777777777778,
              "#fb9f3a"
             ],
             [
              0.8888888888888888,
              "#fdca26"
             ],
             [
              1,
              "#f0f921"
             ]
            ],
            "type": "heatmap"
           }
          ],
          "heatmapgl": [
           {
            "colorbar": {
             "outlinewidth": 0,
             "ticks": ""
            },
            "colorscale": [
             [
              0,
              "#0d0887"
             ],
             [
              0.1111111111111111,
              "#46039f"
             ],
             [
              0.2222222222222222,
              "#7201a8"
             ],
             [
              0.3333333333333333,
              "#9c179e"
             ],
             [
              0.4444444444444444,
              "#bd3786"
             ],
             [
              0.5555555555555556,
              "#d8576b"
             ],
             [
              0.6666666666666666,
              "#ed7953"
             ],
             [
              0.7777777777777778,
              "#fb9f3a"
             ],
             [
              0.8888888888888888,
              "#fdca26"
             ],
             [
              1,
              "#f0f921"
             ]
            ],
            "type": "heatmapgl"
           }
          ],
          "histogram": [
           {
            "marker": {
             "pattern": {
              "fillmode": "overlay",
              "size": 10,
              "solidity": 0.2
             }
            },
            "type": "histogram"
           }
          ],
          "histogram2d": [
           {
            "colorbar": {
             "outlinewidth": 0,
             "ticks": ""
            },
            "colorscale": [
             [
              0,
              "#0d0887"
             ],
             [
              0.1111111111111111,
              "#46039f"
             ],
             [
              0.2222222222222222,
              "#7201a8"
             ],
             [
              0.3333333333333333,
              "#9c179e"
             ],
             [
              0.4444444444444444,
              "#bd3786"
             ],
             [
              0.5555555555555556,
              "#d8576b"
             ],
             [
              0.6666666666666666,
              "#ed7953"
             ],
             [
              0.7777777777777778,
              "#fb9f3a"
             ],
             [
              0.8888888888888888,
              "#fdca26"
             ],
             [
              1,
              "#f0f921"
             ]
            ],
            "type": "histogram2d"
           }
          ],
          "histogram2dcontour": [
           {
            "colorbar": {
             "outlinewidth": 0,
             "ticks": ""
            },
            "colorscale": [
             [
              0,
              "#0d0887"
             ],
             [
              0.1111111111111111,
              "#46039f"
             ],
             [
              0.2222222222222222,
              "#7201a8"
             ],
             [
              0.3333333333333333,
              "#9c179e"
             ],
             [
              0.4444444444444444,
              "#bd3786"
             ],
             [
              0.5555555555555556,
              "#d8576b"
             ],
             [
              0.6666666666666666,
              "#ed7953"
             ],
             [
              0.7777777777777778,
              "#fb9f3a"
             ],
             [
              0.8888888888888888,
              "#fdca26"
             ],
             [
              1,
              "#f0f921"
             ]
            ],
            "type": "histogram2dcontour"
           }
          ],
          "mesh3d": [
           {
            "colorbar": {
             "outlinewidth": 0,
             "ticks": ""
            },
            "type": "mesh3d"
           }
          ],
          "parcoords": [
           {
            "line": {
             "colorbar": {
              "outlinewidth": 0,
              "ticks": ""
             }
            },
            "type": "parcoords"
           }
          ],
          "pie": [
           {
            "automargin": true,
            "type": "pie"
           }
          ],
          "scatter": [
           {
            "fillpattern": {
             "fillmode": "overlay",
             "size": 10,
             "solidity": 0.2
            },
            "type": "scatter"
           }
          ],
          "scatter3d": [
           {
            "line": {
             "colorbar": {
              "outlinewidth": 0,
              "ticks": ""
             }
            },
            "marker": {
             "colorbar": {
              "outlinewidth": 0,
              "ticks": ""
             }
            },
            "type": "scatter3d"
           }
          ],
          "scattercarpet": [
           {
            "marker": {
             "colorbar": {
              "outlinewidth": 0,
              "ticks": ""
             }
            },
            "type": "scattercarpet"
           }
          ],
          "scattergeo": [
           {
            "marker": {
             "colorbar": {
              "outlinewidth": 0,
              "ticks": ""
             }
            },
            "type": "scattergeo"
           }
          ],
          "scattergl": [
           {
            "marker": {
             "colorbar": {
              "outlinewidth": 0,
              "ticks": ""
             }
            },
            "type": "scattergl"
           }
          ],
          "scattermapbox": [
           {
            "marker": {
             "colorbar": {
              "outlinewidth": 0,
              "ticks": ""
             }
            },
            "type": "scattermapbox"
           }
          ],
          "scatterpolar": [
           {
            "marker": {
             "colorbar": {
              "outlinewidth": 0,
              "ticks": ""
             }
            },
            "type": "scatterpolar"
           }
          ],
          "scatterpolargl": [
           {
            "marker": {
             "colorbar": {
              "outlinewidth": 0,
              "ticks": ""
             }
            },
            "type": "scatterpolargl"
           }
          ],
          "scatterternary": [
           {
            "marker": {
             "colorbar": {
              "outlinewidth": 0,
              "ticks": ""
             }
            },
            "type": "scatterternary"
           }
          ],
          "surface": [
           {
            "colorbar": {
             "outlinewidth": 0,
             "ticks": ""
            },
            "colorscale": [
             [
              0,
              "#0d0887"
             ],
             [
              0.1111111111111111,
              "#46039f"
             ],
             [
              0.2222222222222222,
              "#7201a8"
             ],
             [
              0.3333333333333333,
              "#9c179e"
             ],
             [
              0.4444444444444444,
              "#bd3786"
             ],
             [
              0.5555555555555556,
              "#d8576b"
             ],
             [
              0.6666666666666666,
              "#ed7953"
             ],
             [
              0.7777777777777778,
              "#fb9f3a"
             ],
             [
              0.8888888888888888,
              "#fdca26"
             ],
             [
              1,
              "#f0f921"
             ]
            ],
            "type": "surface"
           }
          ],
          "table": [
           {
            "cells": {
             "fill": {
              "color": "#EBF0F8"
             },
             "line": {
              "color": "white"
             }
            },
            "header": {
             "fill": {
              "color": "#C8D4E3"
             },
             "line": {
              "color": "white"
             }
            },
            "type": "table"
           }
          ]
         },
         "layout": {
          "annotationdefaults": {
           "arrowcolor": "#2a3f5f",
           "arrowhead": 0,
           "arrowwidth": 1
          },
          "autotypenumbers": "strict",
          "coloraxis": {
           "colorbar": {
            "outlinewidth": 0,
            "ticks": ""
           }
          },
          "colorscale": {
           "diverging": [
            [
             0,
             "#8e0152"
            ],
            [
             0.1,
             "#c51b7d"
            ],
            [
             0.2,
             "#de77ae"
            ],
            [
             0.3,
             "#f1b6da"
            ],
            [
             0.4,
             "#fde0ef"
            ],
            [
             0.5,
             "#f7f7f7"
            ],
            [
             0.6,
             "#e6f5d0"
            ],
            [
             0.7,
             "#b8e186"
            ],
            [
             0.8,
             "#7fbc41"
            ],
            [
             0.9,
             "#4d9221"
            ],
            [
             1,
             "#276419"
            ]
           ],
           "sequential": [
            [
             0,
             "#0d0887"
            ],
            [
             0.1111111111111111,
             "#46039f"
            ],
            [
             0.2222222222222222,
             "#7201a8"
            ],
            [
             0.3333333333333333,
             "#9c179e"
            ],
            [
             0.4444444444444444,
             "#bd3786"
            ],
            [
             0.5555555555555556,
             "#d8576b"
            ],
            [
             0.6666666666666666,
             "#ed7953"
            ],
            [
             0.7777777777777778,
             "#fb9f3a"
            ],
            [
             0.8888888888888888,
             "#fdca26"
            ],
            [
             1,
             "#f0f921"
            ]
           ],
           "sequentialminus": [
            [
             0,
             "#0d0887"
            ],
            [
             0.1111111111111111,
             "#46039f"
            ],
            [
             0.2222222222222222,
             "#7201a8"
            ],
            [
             0.3333333333333333,
             "#9c179e"
            ],
            [
             0.4444444444444444,
             "#bd3786"
            ],
            [
             0.5555555555555556,
             "#d8576b"
            ],
            [
             0.6666666666666666,
             "#ed7953"
            ],
            [
             0.7777777777777778,
             "#fb9f3a"
            ],
            [
             0.8888888888888888,
             "#fdca26"
            ],
            [
             1,
             "#f0f921"
            ]
           ]
          },
          "colorway": [
           "#636efa",
           "#EF553B",
           "#00cc96",
           "#ab63fa",
           "#FFA15A",
           "#19d3f3",
           "#FF6692",
           "#B6E880",
           "#FF97FF",
           "#FECB52"
          ],
          "font": {
           "color": "#2a3f5f"
          },
          "geo": {
           "bgcolor": "white",
           "lakecolor": "white",
           "landcolor": "#E5ECF6",
           "showlakes": true,
           "showland": true,
           "subunitcolor": "white"
          },
          "hoverlabel": {
           "align": "left"
          },
          "hovermode": "closest",
          "mapbox": {
           "style": "light"
          },
          "paper_bgcolor": "white",
          "plot_bgcolor": "#E5ECF6",
          "polar": {
           "angularaxis": {
            "gridcolor": "white",
            "linecolor": "white",
            "ticks": ""
           },
           "bgcolor": "#E5ECF6",
           "radialaxis": {
            "gridcolor": "white",
            "linecolor": "white",
            "ticks": ""
           }
          },
          "scene": {
           "xaxis": {
            "backgroundcolor": "#E5ECF6",
            "gridcolor": "white",
            "gridwidth": 2,
            "linecolor": "white",
            "showbackground": true,
            "ticks": "",
            "zerolinecolor": "white"
           },
           "yaxis": {
            "backgroundcolor": "#E5ECF6",
            "gridcolor": "white",
            "gridwidth": 2,
            "linecolor": "white",
            "showbackground": true,
            "ticks": "",
            "zerolinecolor": "white"
           },
           "zaxis": {
            "backgroundcolor": "#E5ECF6",
            "gridcolor": "white",
            "gridwidth": 2,
            "linecolor": "white",
            "showbackground": true,
            "ticks": "",
            "zerolinecolor": "white"
           }
          },
          "shapedefaults": {
           "line": {
            "color": "#2a3f5f"
           }
          },
          "ternary": {
           "aaxis": {
            "gridcolor": "white",
            "linecolor": "white",
            "ticks": ""
           },
           "baxis": {
            "gridcolor": "white",
            "linecolor": "white",
            "ticks": ""
           },
           "bgcolor": "#E5ECF6",
           "caxis": {
            "gridcolor": "white",
            "linecolor": "white",
            "ticks": ""
           }
          },
          "title": {
           "x": 0.05
          },
          "xaxis": {
           "automargin": true,
           "gridcolor": "white",
           "linecolor": "white",
           "ticks": "",
           "title": {
            "standoff": 15
           },
           "zerolinecolor": "white",
           "zerolinewidth": 2
          },
          "yaxis": {
           "automargin": true,
           "gridcolor": "white",
           "linecolor": "white",
           "ticks": "",
           "title": {
            "standoff": 15
           },
           "zerolinecolor": "white",
           "zerolinewidth": 2
          }
         }
        },
        "title": {
         "text": "BA, Slg, and WOBA changes over time"
        },
        "xaxis": {
         "anchor": "y",
         "domain": [
          0,
          1
         ],
         "title": {
          "text": "Year"
         }
        },
        "yaxis": {
         "anchor": "x",
         "domain": [
          0,
          1
         ],
         "title": {
          "text": "value"
         }
        }
       }
      }
     },
     "metadata": {},
     "output_type": "display_data"
    }
   ],
   "source": [
    "#display(exp_stats)\n",
    "yearly_avg = exp_stats.groupby('Year').mean().reset_index()\n",
    "fig = px.line(yearly_avg, x='Year', y=['BA', 'Slg', 'WOBA'], \n",
    "              title='BA, Slg, and WOBA changes over time')\n",
    "fig.show()"
   ]
  }
 ],
 "metadata": {
  "kernelspec": {
   "display_name": "Python 3",
   "language": "python",
   "name": "python3"
  },
  "language_info": {
   "codemirror_mode": {
    "name": "ipython",
    "version": 3
   },
   "file_extension": ".py",
   "mimetype": "text/x-python",
   "name": "python",
   "nbconvert_exporter": "python",
   "pygments_lexer": "ipython3",
   "version": "3.11.2"
  },
  "orig_nbformat": 4
 },
 "nbformat": 4,
 "nbformat_minor": 2
}
